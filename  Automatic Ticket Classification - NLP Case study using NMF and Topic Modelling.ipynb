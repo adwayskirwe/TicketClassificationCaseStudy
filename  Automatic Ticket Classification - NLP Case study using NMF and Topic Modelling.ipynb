{
 "cells": [
  {
   "cell_type": "markdown",
   "metadata": {
    "id": "rhR-ZUkwJrFn"
   },
   "source": [
    "## Problem Statement \n",
    "\n",
    "To build a model that is able to classify customer complaints based on the products/services. By doing so, we can segregate these tickets into their relevant categories and, therefore, help in the quick resolution of the issue.\n",
    "\n",
    "We will be doing topic modelling on the <b>.json</b> data provided by the company. Since this data is not labelled, we need to apply NMF to analyse patterns and classify tickets into the following five clusters based on their products/services:\n",
    "\n",
    "* Credit card / Prepaid card\n",
    "\n",
    "* Bank account services\n",
    "\n",
    "* Theft/Dispute reporting\n",
    "\n",
    "* Mortgages/loans\n",
    "\n",
    "* Others \n",
    "\n",
    "\n",
    "With the help of topic modelling, we will be able to map each ticket onto its respective department/category. We can then use this data to train any supervised model such as logistic regression, decision tree or random forest. Using this trained model, we can classify any new customer complaint support ticket into its relevant department."
   ]
  },
  {
   "cell_type": "markdown",
   "metadata": {
    "id": "mcgXVNyaLUFS"
   },
   "source": [
    "## Pipelines that needs to be performed:\n",
    "\n",
    "We need to perform the following eight major tasks to complete the assignment:\n",
    "\n",
    "1.  Data loading\n",
    "\n",
    "2. Text preprocessing\n",
    "\n",
    "3. Exploratory data analysis (EDA)\n",
    "\n",
    "4. Feature extraction\n",
    "\n",
    "5. Topic modelling \n",
    "\n",
    "6. Model building using supervised learning\n",
    "\n",
    "7. Model training and evaluation\n",
    "\n",
    "8. Model inference"
   ]
  },
  {
   "cell_type": "markdown",
   "metadata": {
    "id": "JuLFIymAL58u"
   },
   "source": [
    "## Importing the necessary libraries"
   ]
  },
  {
   "cell_type": "code",
   "execution_count": 1,
   "metadata": {
    "id": "O-Q9pqrcJrFr"
   },
   "outputs": [],
   "source": [
    "import json \n",
    "import numpy as np\n",
    "import pandas as pd\n",
    "import re, nltk, spacy, string\n",
    "import en_core_web_sm\n",
    "import seaborn as sns\n",
    "import matplotlib.pyplot as plt\n",
    "%matplotlib inline\n",
    "\n",
    "from tqdm import tqdm\n",
    "from nltk.corpus import stopwords\n",
    "from nltk.tokenize import word_tokenize\n",
    "from nltk.stem.porter import PorterStemmer\n",
    "from nltk.stem import WordNetLemmatizer\n",
    "\n",
    "from wordcloud import WordCloud\n",
    "from nltk.util import ngrams\n",
    "import itertools\n",
    "\n",
    "from sklearn.decomposition import NMF\n",
    "from sklearn.linear_model import LogisticRegression\n",
    "from sklearn.tree import DecisionTreeClassifier\n",
    "from sklearn.ensemble import RandomForestClassifier\n",
    "from sklearn.naive_bayes import CategoricalNB, GaussianNB, BernoulliNB\n",
    "from sklearn.model_selection import GridSearchCV\n",
    "from sklearn.model_selection import train_test_split\n",
    "from sklearn.metrics import accuracy_score, confusion_matrix,f1_score\n",
    "\n",
    "from plotly.offline import plot\n",
    "import plotly.graph_objects as go\n",
    "import plotly.express as px\n",
    "\n",
    "from sklearn.feature_extraction.text import CountVectorizer, TfidfVectorizer\n",
    "from pprint import pprint\n",
    "\n",
    "pd.set_option('display.max_colwidth', None)"
   ]
  },
  {
   "cell_type": "markdown",
   "metadata": {
    "id": "KtRLCsNVJrFt"
   },
   "source": [
    "## Loading the data\n",
    "\n",
    "The data is in JSON format and we need to convert it to a dataframe."
   ]
  },
  {
   "cell_type": "code",
   "execution_count": 2,
   "metadata": {
    "colab": {
     "base_uri": "https://localhost:8080/"
    },
    "id": "v1aqcjypcP-j",
    "outputId": "c4f37f1f-87cc-48d4-daa5-167ad11c5531"
   },
   "outputs": [],
   "source": [
    "#This is only required when executing this notebook in google drive\n",
    "'''\n",
    "from google.colab import drive\n",
    "drive.mount('/content/drive',force_remount=True)\n",
    "'''"
   ]
  },
  {
   "cell_type": "code",
   "execution_count": 3,
   "metadata": {
    "id": "_HfiImnOb79H"
   },
   "outputs": [
    {
     "name": "stdout",
     "output_type": "stream",
     "text": [
      "(78313, 5)\n"
     ]
    }
   ],
   "source": [
    "with open('complaints.json') as f:  \n",
    "      data = json.load(f)\n",
    "df=pd.DataFrame(data)\n",
    "print(df.shape)"
   ]
  },
  {
   "cell_type": "markdown",
   "metadata": {
    "id": "_xYpH-sAJrFu"
   },
   "source": [
    "## Data preparation"
   ]
  },
  {
   "cell_type": "code",
   "execution_count": 4,
   "metadata": {
    "id": "Lf8ufHH5JrFu"
   },
   "outputs": [],
   "source": [
    "# Inspect the dataframe to understand the given data.\n",
    "complaint_what_happened = [value.get('complaint_what_happened') for key,value in df['_source'].to_dict().items()]"
   ]
  },
  {
   "cell_type": "code",
   "execution_count": 5,
   "metadata": {
    "colab": {
     "base_uri": "https://localhost:8080/"
    },
    "id": "wux-HSsFb79K",
    "outputId": "8e885090-442d-449c-c86e-bd6d6117b0d5"
   },
   "outputs": [
    {
     "name": "stdout",
     "output_type": "stream",
     "text": [
      "0                                                                                                                                                                                                                                                                                                                                                                                                                                                                                                              \n",
      "1    Good morning my name is XXXX XXXX and I appreciate it if you could help me put a stop to Chase Bank cardmember services. \\nIn 2018 I wrote to Chase asking for debt verification and what they sent me a statement which is not acceptable. I am asking the bank to validate the debt. Instead I been receiving mail every month from them attempting to collect a debt. \\nI have a right to know this information as a consumer. \\n\\nChase account # XXXX XXXX XXXX XXXX Thanks in advance for your help.\n",
      "2                                                                                                                                           I upgraded my XXXX XXXX card in XX/XX/2018 and was told by the agent who did the upgrade my anniversary date would not change. It turned the agent was giving me the wrong information in order to upgrade the account. XXXX   changed my anniversary date from XX/XX/XXXX to XX/XX/XXXX without my consent! XXXX has the recording of the agent who was misled me.\n",
      "dtype: object\n"
     ]
    }
   ],
   "source": [
    "# Inspect the dataframe to understand the given data.\n",
    "complaint_what_happened = pd.Series(complaint_what_happened)\n",
    "print(complaint_what_happened[:3])\n",
    "df['complaint_what_happened'] = complaint_what_happened"
   ]
  },
  {
   "cell_type": "code",
   "execution_count": 6,
   "metadata": {
    "colab": {
     "base_uri": "https://localhost:8080/"
    },
    "id": "OLAo11Ddb79L",
    "outputId": "0ccf3f5d-ef44-4e96-c215-7b7a7d0edc1e"
   },
   "outputs": [
    {
     "name": "stdout",
     "output_type": "stream",
     "text": [
      "(78313, 6)\n",
      "\n",
      "Index(['_index', '_type', '_id', '_score', '_source',\n",
      "       'complaint_what_happened'],\n",
      "      dtype='object')\n",
      "\n",
      "RangeIndex(start=0, stop=78313, step=1)\n"
     ]
    }
   ],
   "source": [
    "#Understand basic details about the dataframe\n",
    "print(df.shape)\n",
    "print()\n",
    "print(df.columns)\n",
    "print()\n",
    "print(df.index)"
   ]
  },
  {
   "cell_type": "code",
   "execution_count": 7,
   "metadata": {
    "colab": {
     "base_uri": "https://localhost:8080/",
     "height": 719
    },
    "id": "DAMz0KVnb79M",
    "outputId": "d085dd11-0a84-45b8-b33a-648cab8f7f58"
   },
   "outputs": [
    {
     "data": {
      "text/html": [
       "<div>\n",
       "<style scoped>\n",
       "    .dataframe tbody tr th:only-of-type {\n",
       "        vertical-align: middle;\n",
       "    }\n",
       "\n",
       "    .dataframe tbody tr th {\n",
       "        vertical-align: top;\n",
       "    }\n",
       "\n",
       "    .dataframe thead th {\n",
       "        text-align: right;\n",
       "    }\n",
       "</style>\n",
       "<table border=\"1\" class=\"dataframe\">\n",
       "  <thead>\n",
       "    <tr style=\"text-align: right;\">\n",
       "      <th></th>\n",
       "      <th>_index</th>\n",
       "      <th>_type</th>\n",
       "      <th>_id</th>\n",
       "      <th>_score</th>\n",
       "      <th>_source</th>\n",
       "      <th>complaint_what_happened</th>\n",
       "    </tr>\n",
       "  </thead>\n",
       "  <tbody>\n",
       "    <tr>\n",
       "      <th>0</th>\n",
       "      <td>complaint-public-v2</td>\n",
       "      <td>complaint</td>\n",
       "      <td>3211475</td>\n",
       "      <td>0.0</td>\n",
       "      <td>{'tags': None, 'zip_code': '90301', 'complaint_id': '3211475', 'issue': 'Attempts to collect debt not owed', 'date_received': '2019-04-13T12:00:00-05:00', 'state': 'CA', 'consumer_disputed': 'N/A', 'product': 'Debt collection', 'company_response': 'Closed with explanation', 'company': 'JPMORGAN CHASE &amp; CO.', 'submitted_via': 'Web', 'date_sent_to_company': '2019-04-13T12:00:00-05:00', 'company_public_response': None, 'sub_product': 'Credit card debt', 'timely': 'Yes', 'complaint_what_happened': '', 'sub_issue': 'Debt is not yours', 'consumer_consent_provided': 'Consent not provided'}</td>\n",
       "      <td></td>\n",
       "    </tr>\n",
       "    <tr>\n",
       "      <th>1</th>\n",
       "      <td>complaint-public-v2</td>\n",
       "      <td>complaint</td>\n",
       "      <td>3229299</td>\n",
       "      <td>0.0</td>\n",
       "      <td>{'tags': 'Servicemember', 'zip_code': '319XX', 'complaint_id': '3229299', 'issue': 'Written notification about debt', 'date_received': '2019-05-01T12:00:00-05:00', 'state': 'GA', 'consumer_disputed': 'N/A', 'product': 'Debt collection', 'company_response': 'Closed with explanation', 'company': 'JPMORGAN CHASE &amp; CO.', 'submitted_via': 'Web', 'date_sent_to_company': '2019-05-01T12:00:00-05:00', 'company_public_response': None, 'sub_product': 'Credit card debt', 'timely': 'Yes', 'complaint_what_happened': 'Good morning my name is XXXX XXXX and I appreciate it if you could help me put a stop to Chase Bank cardmember services. \n",
       "In 2018 I wrote to Chase asking for debt verification and what they sent me a statement which is not acceptable. I am asking the bank to validate the debt. Instead I been receiving mail every month from them attempting to collect a debt. \n",
       "I have a right to know this information as a consumer. \n",
       "\n",
       "Chase account # XXXX XXXX XXXX XXXX Thanks in advance for your help.', 'sub_issue': 'Didn't receive enough information to verify debt', 'consumer_consent_provided': 'Consent provided'}</td>\n",
       "      <td>Good morning my name is XXXX XXXX and I appreciate it if you could help me put a stop to Chase Bank cardmember services. \\nIn 2018 I wrote to Chase asking for debt verification and what they sent me a statement which is not acceptable. I am asking the bank to validate the debt. Instead I been receiving mail every month from them attempting to collect a debt. \\nI have a right to know this information as a consumer. \\n\\nChase account # XXXX XXXX XXXX XXXX Thanks in advance for your help.</td>\n",
       "    </tr>\n",
       "    <tr>\n",
       "      <th>2</th>\n",
       "      <td>complaint-public-v2</td>\n",
       "      <td>complaint</td>\n",
       "      <td>3199379</td>\n",
       "      <td>0.0</td>\n",
       "      <td>{'tags': None, 'zip_code': '77069', 'complaint_id': '3199379', 'issue': 'Other features, terms, or problems', 'date_received': '2019-04-02T12:00:00-05:00', 'state': 'TX', 'consumer_disputed': 'N/A', 'product': 'Credit card or prepaid card', 'company_response': 'Closed with explanation', 'company': 'JPMORGAN CHASE &amp; CO.', 'submitted_via': 'Web', 'date_sent_to_company': '2019-04-02T12:00:00-05:00', 'company_public_response': None, 'sub_product': 'General-purpose credit card or charge card', 'timely': 'Yes', 'complaint_what_happened': 'I upgraded my XXXX XXXX card in XX/XX/2018 and was told by the agent who did the upgrade my anniversary date would not change. It turned the agent was giving me the wrong information in order to upgrade the account. XXXX   changed my anniversary date from XX/XX/XXXX to XX/XX/XXXX without my consent! XXXX has the recording of the agent who was misled me.', 'sub_issue': 'Problem with rewards from credit card', 'consumer_consent_provided': 'Consent provided'}</td>\n",
       "      <td>I upgraded my XXXX XXXX card in XX/XX/2018 and was told by the agent who did the upgrade my anniversary date would not change. It turned the agent was giving me the wrong information in order to upgrade the account. XXXX   changed my anniversary date from XX/XX/XXXX to XX/XX/XXXX without my consent! XXXX has the recording of the agent who was misled me.</td>\n",
       "    </tr>\n",
       "  </tbody>\n",
       "</table>\n",
       "</div>"
      ],
      "text/plain": [
       "                _index      _type      _id  _score  \\\n",
       "0  complaint-public-v2  complaint  3211475     0.0   \n",
       "1  complaint-public-v2  complaint  3229299     0.0   \n",
       "2  complaint-public-v2  complaint  3199379     0.0   \n",
       "\n",
       "                                                                                                                                                                                                                                                                                                                                                                                                                                                                                                                                                                                                                                                                                                                                                                                                                                                                                                                                                                                                                                                                                                                                                   _source  \\\n",
       "0                                                                                                                                                                                                                                                                                                                                                                                                                                                                                                                                            {'tags': None, 'zip_code': '90301', 'complaint_id': '3211475', 'issue': 'Attempts to collect debt not owed', 'date_received': '2019-04-13T12:00:00-05:00', 'state': 'CA', 'consumer_disputed': 'N/A', 'product': 'Debt collection', 'company_response': 'Closed with explanation', 'company': 'JPMORGAN CHASE & CO.', 'submitted_via': 'Web', 'date_sent_to_company': '2019-04-13T12:00:00-05:00', 'company_public_response': None, 'sub_product': 'Credit card debt', 'timely': 'Yes', 'complaint_what_happened': '', 'sub_issue': 'Debt is not yours', 'consumer_consent_provided': 'Consent not provided'}   \n",
       "1  {'tags': 'Servicemember', 'zip_code': '319XX', 'complaint_id': '3229299', 'issue': 'Written notification about debt', 'date_received': '2019-05-01T12:00:00-05:00', 'state': 'GA', 'consumer_disputed': 'N/A', 'product': 'Debt collection', 'company_response': 'Closed with explanation', 'company': 'JPMORGAN CHASE & CO.', 'submitted_via': 'Web', 'date_sent_to_company': '2019-05-01T12:00:00-05:00', 'company_public_response': None, 'sub_product': 'Credit card debt', 'timely': 'Yes', 'complaint_what_happened': 'Good morning my name is XXXX XXXX and I appreciate it if you could help me put a stop to Chase Bank cardmember services. \n",
       "In 2018 I wrote to Chase asking for debt verification and what they sent me a statement which is not acceptable. I am asking the bank to validate the debt. Instead I been receiving mail every month from them attempting to collect a debt. \n",
       "I have a right to know this information as a consumer. \n",
       "\n",
       "Chase account # XXXX XXXX XXXX XXXX Thanks in advance for your help.', 'sub_issue': 'Didn't receive enough information to verify debt', 'consumer_consent_provided': 'Consent provided'}   \n",
       "2                                                                                                                  {'tags': None, 'zip_code': '77069', 'complaint_id': '3199379', 'issue': 'Other features, terms, or problems', 'date_received': '2019-04-02T12:00:00-05:00', 'state': 'TX', 'consumer_disputed': 'N/A', 'product': 'Credit card or prepaid card', 'company_response': 'Closed with explanation', 'company': 'JPMORGAN CHASE & CO.', 'submitted_via': 'Web', 'date_sent_to_company': '2019-04-02T12:00:00-05:00', 'company_public_response': None, 'sub_product': 'General-purpose credit card or charge card', 'timely': 'Yes', 'complaint_what_happened': 'I upgraded my XXXX XXXX card in XX/XX/2018 and was told by the agent who did the upgrade my anniversary date would not change. It turned the agent was giving me the wrong information in order to upgrade the account. XXXX   changed my anniversary date from XX/XX/XXXX to XX/XX/XXXX without my consent! XXXX has the recording of the agent who was misled me.', 'sub_issue': 'Problem with rewards from credit card', 'consumer_consent_provided': 'Consent provided'}   \n",
       "\n",
       "                                                                                                                                                                                                                                                                                                                                                                                                                                                                                      complaint_what_happened  \n",
       "0                                                                                                                                                                                                                                                                                                                                                                                                                                                                                                              \n",
       "1  Good morning my name is XXXX XXXX and I appreciate it if you could help me put a stop to Chase Bank cardmember services. \\nIn 2018 I wrote to Chase asking for debt verification and what they sent me a statement which is not acceptable. I am asking the bank to validate the debt. Instead I been receiving mail every month from them attempting to collect a debt. \\nI have a right to know this information as a consumer. \\n\\nChase account # XXXX XXXX XXXX XXXX Thanks in advance for your help.  \n",
       "2                                                                                                                                         I upgraded my XXXX XXXX card in XX/XX/2018 and was told by the agent who did the upgrade my anniversary date would not change. It turned the agent was giving me the wrong information in order to upgrade the account. XXXX   changed my anniversary date from XX/XX/XXXX to XX/XX/XXXX without my consent! XXXX has the recording of the agent who was misled me.  "
      ]
     },
     "execution_count": 7,
     "metadata": {},
     "output_type": "execute_result"
    }
   ],
   "source": [
    "#View top 3 rows of the dataframe\n",
    "df.head(3)"
   ]
  },
  {
   "cell_type": "code",
   "execution_count": 8,
   "metadata": {
    "colab": {
     "base_uri": "https://localhost:8080/"
    },
    "id": "Bp2RVGUWb79M",
    "outputId": "4ecc86b1-e439-4c79-a5f8-bd3bcbc18531"
   },
   "outputs": [
    {
     "name": "stdout",
     "output_type": "stream",
     "text": [
      "complaint    78313\n",
      "Name: _type, dtype: int64\n",
      "\n",
      "complaint-public-v2    78313\n",
      "Name: _index, dtype: int64\n",
      "\n",
      "0.0    78313\n",
      "Name: _score, dtype: int64\n",
      "\n",
      "3259000    1\n",
      "2308959    1\n",
      "1993800    1\n",
      "1029037    1\n",
      "1111202    1\n",
      "          ..\n",
      "2824926    1\n",
      "1834707    1\n",
      "2960748    1\n",
      "3318720    1\n",
      "2019610    1\n",
      "Name: _id, Length: 78313, dtype: int64\n",
      "\n"
     ]
    }
   ],
   "source": [
    "#Understanding/inspecting below columns and below columns are not adding any meaningful info being static.\n",
    "print(df['_type'].value_counts())\n",
    "print()\n",
    "print(df['_index'].value_counts())\n",
    "print()\n",
    "print(df['_score'].value_counts())\n",
    "print()\n",
    "print(df['_id'].value_counts())\n",
    "print()"
   ]
  },
  {
   "cell_type": "code",
   "execution_count": 9,
   "metadata": {
    "colab": {
     "base_uri": "https://localhost:8080/"
    },
    "id": "Dwcty-wmJrFw",
    "outputId": "89d6eb5e-0f7f-4e1d-dfd5-be87146e7591"
   },
   "outputs": [
    {
     "name": "stdout",
     "output_type": "stream",
     "text": [
      "Index(['_index', '_type', '_id', '_score', '_source',\n",
      "       'complaint_what_happened'],\n",
      "      dtype='object')\n"
     ]
    }
   ],
   "source": [
    "#print the column names\n",
    "#Assign new column names\n",
    "print(df.columns)"
   ]
  },
  {
   "cell_type": "code",
   "execution_count": 10,
   "metadata": {
    "colab": {
     "base_uri": "https://localhost:8080/"
    },
    "id": "grQUPFL5JrFx",
    "outputId": "5a844e3f-be08-45bd-acb2-200864b30699"
   },
   "outputs": [
    {
     "data": {
      "text/plain": [
       "(57241, 6)"
      ]
     },
     "execution_count": 10,
     "metadata": {},
     "output_type": "execute_result"
    }
   ],
   "source": [
    "#Assign nan in place of blanks in the complaints column OR ensure dataframe only contains rows where complaint is present\n",
    "df[df['complaint_what_happened'] == ''].shape"
   ]
  },
  {
   "cell_type": "code",
   "execution_count": 11,
   "metadata": {
    "id": "Jfxd8VSmJrFy"
   },
   "outputs": [],
   "source": [
    "#Remove all rows where complaints column is nan\n",
    "df = df[~(df['complaint_what_happened'] == '')]"
   ]
  },
  {
   "cell_type": "code",
   "execution_count": 12,
   "metadata": {
    "colab": {
     "base_uri": "https://localhost:8080/"
    },
    "id": "DScjBqSAb79O",
    "outputId": "3c1c4ffc-619a-4499-ac19-b10093c4a513"
   },
   "outputs": [
    {
     "data": {
      "text/plain": [
       "(21072, 6)"
      ]
     },
     "execution_count": 12,
     "metadata": {},
     "output_type": "execute_result"
    }
   ],
   "source": [
    "df.shape"
   ]
  },
  {
   "cell_type": "code",
   "execution_count": 13,
   "metadata": {
    "colab": {
     "base_uri": "https://localhost:8080/"
    },
    "id": "nXDZEFVzb79P",
    "outputId": "59918bb9-6d65-4727-c68e-06cf8ec8c8c2"
   },
   "outputs": [
    {
     "name": "stdout",
     "output_type": "stream",
     "text": [
      "Total rows in dataframe where complaint is absent/missing = 57241\n",
      "Total rows in dataframe where complaint is present=  21072\n",
      "Total records are  78313\n"
     ]
    }
   ],
   "source": [
    "print(\"Total rows in dataframe where complaint is absent/missing = 57241\" )\n",
    "print(\"Total rows in dataframe where complaint is present= \",df.shape[0] )\n",
    "print(\"Total records are \",57241+21072)\n"
   ]
  },
  {
   "cell_type": "code",
   "execution_count": null,
   "metadata": {
    "id": "NnwAUxJkb79P"
   },
   "outputs": [],
   "source": []
  },
  {
   "cell_type": "code",
   "execution_count": 14,
   "metadata": {},
   "outputs": [
    {
     "data": {
      "text/html": [
       "<div>\n",
       "<style scoped>\n",
       "    .dataframe tbody tr th:only-of-type {\n",
       "        vertical-align: middle;\n",
       "    }\n",
       "\n",
       "    .dataframe tbody tr th {\n",
       "        vertical-align: top;\n",
       "    }\n",
       "\n",
       "    .dataframe thead th {\n",
       "        text-align: right;\n",
       "    }\n",
       "</style>\n",
       "<table border=\"1\" class=\"dataframe\">\n",
       "  <thead>\n",
       "    <tr style=\"text-align: right;\">\n",
       "      <th></th>\n",
       "      <th>_index</th>\n",
       "      <th>_type</th>\n",
       "      <th>_id</th>\n",
       "      <th>_score</th>\n",
       "      <th>_source</th>\n",
       "      <th>complaint_what_happened</th>\n",
       "    </tr>\n",
       "  </thead>\n",
       "  <tbody>\n",
       "    <tr>\n",
       "      <th>1</th>\n",
       "      <td>complaint-public-v2</td>\n",
       "      <td>complaint</td>\n",
       "      <td>3229299</td>\n",
       "      <td>0.0</td>\n",
       "      <td>{'tags': 'Servicemember', 'zip_code': '319XX', 'complaint_id': '3229299', 'issue': 'Written notification about debt', 'date_received': '2019-05-01T12:00:00-05:00', 'state': 'GA', 'consumer_disputed': 'N/A', 'product': 'Debt collection', 'company_response': 'Closed with explanation', 'company': 'JPMORGAN CHASE &amp; CO.', 'submitted_via': 'Web', 'date_sent_to_company': '2019-05-01T12:00:00-05:00', 'company_public_response': None, 'sub_product': 'Credit card debt', 'timely': 'Yes', 'complaint_what_happened': 'Good morning my name is XXXX XXXX and I appreciate it if you could help me put a stop to Chase Bank cardmember services. \n",
       "In 2018 I wrote to Chase asking for debt verification and what they sent me a statement which is not acceptable. I am asking the bank to validate the debt. Instead I been receiving mail every month from them attempting to collect a debt. \n",
       "I have a right to know this information as a consumer. \n",
       "\n",
       "Chase account # XXXX XXXX XXXX XXXX Thanks in advance for your help.', 'sub_issue': 'Didn't receive enough information to verify debt', 'consumer_consent_provided': 'Consent provided'}</td>\n",
       "      <td>Good morning my name is XXXX XXXX and I appreciate it if you could help me put a stop to Chase Bank cardmember services. \\nIn 2018 I wrote to Chase asking for debt verification and what they sent me a statement which is not acceptable. I am asking the bank to validate the debt. Instead I been receiving mail every month from them attempting to collect a debt. \\nI have a right to know this information as a consumer. \\n\\nChase account # XXXX XXXX XXXX XXXX Thanks in advance for your help.</td>\n",
       "    </tr>\n",
       "    <tr>\n",
       "      <th>2</th>\n",
       "      <td>complaint-public-v2</td>\n",
       "      <td>complaint</td>\n",
       "      <td>3199379</td>\n",
       "      <td>0.0</td>\n",
       "      <td>{'tags': None, 'zip_code': '77069', 'complaint_id': '3199379', 'issue': 'Other features, terms, or problems', 'date_received': '2019-04-02T12:00:00-05:00', 'state': 'TX', 'consumer_disputed': 'N/A', 'product': 'Credit card or prepaid card', 'company_response': 'Closed with explanation', 'company': 'JPMORGAN CHASE &amp; CO.', 'submitted_via': 'Web', 'date_sent_to_company': '2019-04-02T12:00:00-05:00', 'company_public_response': None, 'sub_product': 'General-purpose credit card or charge card', 'timely': 'Yes', 'complaint_what_happened': 'I upgraded my XXXX XXXX card in XX/XX/2018 and was told by the agent who did the upgrade my anniversary date would not change. It turned the agent was giving me the wrong information in order to upgrade the account. XXXX   changed my anniversary date from XX/XX/XXXX to XX/XX/XXXX without my consent! XXXX has the recording of the agent who was misled me.', 'sub_issue': 'Problem with rewards from credit card', 'consumer_consent_provided': 'Consent provided'}</td>\n",
       "      <td>I upgraded my XXXX XXXX card in XX/XX/2018 and was told by the agent who did the upgrade my anniversary date would not change. It turned the agent was giving me the wrong information in order to upgrade the account. XXXX   changed my anniversary date from XX/XX/XXXX to XX/XX/XXXX without my consent! XXXX has the recording of the agent who was misled me.</td>\n",
       "    </tr>\n",
       "    <tr>\n",
       "      <th>10</th>\n",
       "      <td>complaint-public-v2</td>\n",
       "      <td>complaint</td>\n",
       "      <td>3233499</td>\n",
       "      <td>0.0</td>\n",
       "      <td>{'tags': None, 'zip_code': '104XX', 'complaint_id': '3233499', 'issue': 'Incorrect information on your report', 'date_received': '2019-05-06T12:00:00-05:00', 'state': 'NY', 'consumer_disputed': 'N/A', 'product': 'Credit reporting, credit repair services, or other personal consumer reports', 'company_response': 'Closed with explanation', 'company': 'JPMORGAN CHASE &amp; CO.', 'submitted_via': 'Web', 'date_sent_to_company': '2019-05-06T12:00:00-05:00', 'company_public_response': None, 'sub_product': 'Other personal consumer report', 'timely': 'Yes', 'complaint_what_happened': 'Chase Card was reported on XX/XX/2019. However, fraudulent application have been submitted my identity without my consent to fraudulently obtain services. Do not extend credit without verifying the identity of the applicant.', 'sub_issue': 'Information belongs to someone else', 'consumer_consent_provided': 'Consent provided'}</td>\n",
       "      <td>Chase Card was reported on XX/XX/2019. However, fraudulent application have been submitted my identity without my consent to fraudulently obtain services. Do not extend credit without verifying the identity of the applicant.</td>\n",
       "    </tr>\n",
       "  </tbody>\n",
       "</table>\n",
       "</div>"
      ],
      "text/plain": [
       "                 _index      _type      _id  _score  \\\n",
       "1   complaint-public-v2  complaint  3229299     0.0   \n",
       "2   complaint-public-v2  complaint  3199379     0.0   \n",
       "10  complaint-public-v2  complaint  3233499     0.0   \n",
       "\n",
       "                                                                                                                                                                                                                                                                                                                                                                                                                                                                                                                                                                                                                                                                                                                                                                                                                                                                                                                                                                                                                                                                                                                                                    _source  \\\n",
       "1   {'tags': 'Servicemember', 'zip_code': '319XX', 'complaint_id': '3229299', 'issue': 'Written notification about debt', 'date_received': '2019-05-01T12:00:00-05:00', 'state': 'GA', 'consumer_disputed': 'N/A', 'product': 'Debt collection', 'company_response': 'Closed with explanation', 'company': 'JPMORGAN CHASE & CO.', 'submitted_via': 'Web', 'date_sent_to_company': '2019-05-01T12:00:00-05:00', 'company_public_response': None, 'sub_product': 'Credit card debt', 'timely': 'Yes', 'complaint_what_happened': 'Good morning my name is XXXX XXXX and I appreciate it if you could help me put a stop to Chase Bank cardmember services. \n",
       "In 2018 I wrote to Chase asking for debt verification and what they sent me a statement which is not acceptable. I am asking the bank to validate the debt. Instead I been receiving mail every month from them attempting to collect a debt. \n",
       "I have a right to know this information as a consumer. \n",
       "\n",
       "Chase account # XXXX XXXX XXXX XXXX Thanks in advance for your help.', 'sub_issue': 'Didn't receive enough information to verify debt', 'consumer_consent_provided': 'Consent provided'}   \n",
       "2                                                                                                                   {'tags': None, 'zip_code': '77069', 'complaint_id': '3199379', 'issue': 'Other features, terms, or problems', 'date_received': '2019-04-02T12:00:00-05:00', 'state': 'TX', 'consumer_disputed': 'N/A', 'product': 'Credit card or prepaid card', 'company_response': 'Closed with explanation', 'company': 'JPMORGAN CHASE & CO.', 'submitted_via': 'Web', 'date_sent_to_company': '2019-04-02T12:00:00-05:00', 'company_public_response': None, 'sub_product': 'General-purpose credit card or charge card', 'timely': 'Yes', 'complaint_what_happened': 'I upgraded my XXXX XXXX card in XX/XX/2018 and was told by the agent who did the upgrade my anniversary date would not change. It turned the agent was giving me the wrong information in order to upgrade the account. XXXX   changed my anniversary date from XX/XX/XXXX to XX/XX/XXXX without my consent! XXXX has the recording of the agent who was misled me.', 'sub_issue': 'Problem with rewards from credit card', 'consumer_consent_provided': 'Consent provided'}   \n",
       "10                                                                                                                                                                                                                {'tags': None, 'zip_code': '104XX', 'complaint_id': '3233499', 'issue': 'Incorrect information on your report', 'date_received': '2019-05-06T12:00:00-05:00', 'state': 'NY', 'consumer_disputed': 'N/A', 'product': 'Credit reporting, credit repair services, or other personal consumer reports', 'company_response': 'Closed with explanation', 'company': 'JPMORGAN CHASE & CO.', 'submitted_via': 'Web', 'date_sent_to_company': '2019-05-06T12:00:00-05:00', 'company_public_response': None, 'sub_product': 'Other personal consumer report', 'timely': 'Yes', 'complaint_what_happened': 'Chase Card was reported on XX/XX/2019. However, fraudulent application have been submitted my identity without my consent to fraudulently obtain services. Do not extend credit without verifying the identity of the applicant.', 'sub_issue': 'Information belongs to someone else', 'consumer_consent_provided': 'Consent provided'}   \n",
       "\n",
       "                                                                                                                                                                                                                                                                                                                                                                                                                                                                                       complaint_what_happened  \n",
       "1   Good morning my name is XXXX XXXX and I appreciate it if you could help me put a stop to Chase Bank cardmember services. \\nIn 2018 I wrote to Chase asking for debt verification and what they sent me a statement which is not acceptable. I am asking the bank to validate the debt. Instead I been receiving mail every month from them attempting to collect a debt. \\nI have a right to know this information as a consumer. \\n\\nChase account # XXXX XXXX XXXX XXXX Thanks in advance for your help.  \n",
       "2                                                                                                                                          I upgraded my XXXX XXXX card in XX/XX/2018 and was told by the agent who did the upgrade my anniversary date would not change. It turned the agent was giving me the wrong information in order to upgrade the account. XXXX   changed my anniversary date from XX/XX/XXXX to XX/XX/XXXX without my consent! XXXX has the recording of the agent who was misled me.  \n",
       "10                                                                                                                                                                                                                                                                            Chase Card was reported on XX/XX/2019. However, fraudulent application have been submitted my identity without my consent to fraudulently obtain services. Do not extend credit without verifying the identity of the applicant.  "
      ]
     },
     "execution_count": 14,
     "metadata": {},
     "output_type": "execute_result"
    }
   ],
   "source": [
    "#Inspecting updated dataframe, however we see the index is not correctly aligned because we have not included rows where complaint is blanking. Hence, we need to reset index\n",
    "df.head(3)"
   ]
  },
  {
   "cell_type": "code",
   "execution_count": 15,
   "metadata": {
    "id": "KkLoAl4eb79P"
   },
   "outputs": [],
   "source": [
    "#Reset the index for dataframe df\n",
    "df.reset_index(drop=True,inplace=True)"
   ]
  },
  {
   "cell_type": "markdown",
   "metadata": {
    "id": "L944HZpsJrFy"
   },
   "source": [
    "## Prepare the text for topic modeling\n",
    "\n",
    "Once you have removed all the blank complaints, you need to:\n",
    "\n",
    "* Make the text lowercase\n",
    "* Remove text in square brackets\n",
    "* Remove punctuation\n",
    "* Remove words containing numbers\n",
    "\n",
    "\n",
    "Once you have done these cleaning operations you need to perform the following:\n",
    "* Lemmatize the texts\n",
    "* Extract the POS tags of the lemmatized text and remove all the words which have tags other than NN[tag == \"NN\"].\n"
   ]
  },
  {
   "cell_type": "code",
   "execution_count": 16,
   "metadata": {
    "colab": {
     "base_uri": "https://localhost:8080/"
    },
    "id": "qm7SjjSkJrFz",
    "outputId": "9f45b28d-3bb4-49fd-f711-5e0cd2a2d547"
   },
   "outputs": [
    {
     "name": "stderr",
     "output_type": "stream",
     "text": [
      "[nltk_data] Downloading package punkt to /Users/Kirwe-\n",
      "[nltk_data]     Macbook/nltk_data...\n",
      "[nltk_data]   Package punkt is already up-to-date!\n",
      "[nltk_data] Downloading package stopwords to /Users/Kirwe-\n",
      "[nltk_data]     Macbook/nltk_data...\n",
      "[nltk_data]   Package stopwords is already up-to-date!\n",
      "[nltk_data] Downloading package wordnet to /Users/Kirwe-\n",
      "[nltk_data]     Macbook/nltk_data...\n",
      "[nltk_data]   Package wordnet is already up-to-date!\n",
      "[nltk_data] Downloading package omw-1.4 to /Users/Kirwe-\n",
      "[nltk_data]     Macbook/nltk_data...\n",
      "[nltk_data]   Package omw-1.4 is already up-to-date!\n"
     ]
    }
   ],
   "source": [
    "# Write your function here to clean the text and remove all the unnecessary elements.\n",
    "# Write your function to Lemmatize the texts\n",
    "\n",
    "nltk.download('punkt')\n",
    "nltk.download('stopwords')\n",
    "nltk.download('wordnet')\n",
    "nltk.download('omw-1.4')\n",
    "\n",
    "stemmer = PorterStemmer()\n",
    "wordnet_lemmatizer = WordNetLemmatizer()\n",
    "\n",
    "#This function takes a document(complaint) as input, preprocesses it and returns preprocessed output \n",
    "def preprocess(document):\n",
    "    'changes document to lower case and removes stopwords'\n",
    "\n",
    "    # Make the text lowercase\n",
    "    document = document.lower()\n",
    "    \n",
    "    #Remove text in square brackets\n",
    "    document=re.sub(\"\\{\\w*\\}\", \"\", document)\n",
    "    document=re.sub(\"\\[\\w*\\]\", \"\", document)\n",
    "    document=re.sub(\"\\(\\w*\\)\", \"\", document)\n",
    "    \n",
    "    #Remove punctuation and words containing numbers\n",
    "    document = re.sub(\"[^\\sA-z]\",\"\",document)\n",
    "    \n",
    "    # tokenize into words\n",
    "    words = word_tokenize(document)\n",
    "    \n",
    "    # remove stop words\n",
    "    #words = [word for word in words if word not in stopwords.words(\"english\")]\n",
    "    \n",
    "    # Lemmatizing the words\n",
    "    words = [wordnet_lemmatizer.lemmatize(word) for word in words]\n",
    "    \n",
    "    # join words to make sentence\n",
    "    document = \" \".join(words)\n",
    "    \n",
    "    return document"
   ]
  },
  {
   "cell_type": "code",
   "execution_count": 17,
   "metadata": {
    "colab": {
     "base_uri": "https://localhost:8080/",
     "height": 1000
    },
    "id": "sS4_3SYQb79R",
    "outputId": "d94877ec-c234-42c0-98df-43cf8626b3fb"
   },
   "outputs": [
    {
     "name": "stderr",
     "output_type": "stream",
     "text": [
      "100%|██████████| 21072/21072 [00:51<00:00, 406.04it/s]\n"
     ]
    }
   ],
   "source": [
    "#Preprocess each complaint in the dataframe and store it in new column named 'preprocessed_complaint'\n",
    "preprocessed_complaint = [preprocess(complaint) for complaint in tqdm(df['complaint_what_happened'])]\n",
    "preprocessed_complaint = pd.Series(preprocessed_complaint)\n",
    "df['preprocessed_complaint'] = preprocessed_complaint"
   ]
  },
  {
   "cell_type": "code",
   "execution_count": 18,
   "metadata": {
    "id": "zgOu8t8HJrFz"
   },
   "outputs": [
    {
     "data": {
      "text/html": [
       "<div>\n",
       "<style scoped>\n",
       "    .dataframe tbody tr th:only-of-type {\n",
       "        vertical-align: middle;\n",
       "    }\n",
       "\n",
       "    .dataframe tbody tr th {\n",
       "        vertical-align: top;\n",
       "    }\n",
       "\n",
       "    .dataframe thead th {\n",
       "        text-align: right;\n",
       "    }\n",
       "</style>\n",
       "<table border=\"1\" class=\"dataframe\">\n",
       "  <thead>\n",
       "    <tr style=\"text-align: right;\">\n",
       "      <th></th>\n",
       "      <th>_index</th>\n",
       "      <th>_type</th>\n",
       "      <th>_id</th>\n",
       "      <th>_score</th>\n",
       "      <th>_source</th>\n",
       "      <th>complaint_what_happened</th>\n",
       "      <th>preprocessed_complaint</th>\n",
       "    </tr>\n",
       "  </thead>\n",
       "  <tbody>\n",
       "    <tr>\n",
       "      <th>0</th>\n",
       "      <td>complaint-public-v2</td>\n",
       "      <td>complaint</td>\n",
       "      <td>3229299</td>\n",
       "      <td>0.0</td>\n",
       "      <td>{'tags': 'Servicemember', 'zip_code': '319XX', 'complaint_id': '3229299', 'issue': 'Written notification about debt', 'date_received': '2019-05-01T12:00:00-05:00', 'state': 'GA', 'consumer_disputed': 'N/A', 'product': 'Debt collection', 'company_response': 'Closed with explanation', 'company': 'JPMORGAN CHASE &amp; CO.', 'submitted_via': 'Web', 'date_sent_to_company': '2019-05-01T12:00:00-05:00', 'company_public_response': None, 'sub_product': 'Credit card debt', 'timely': 'Yes', 'complaint_what_happened': 'Good morning my name is XXXX XXXX and I appreciate it if you could help me put a stop to Chase Bank cardmember services. \n",
       "In 2018 I wrote to Chase asking for debt verification and what they sent me a statement which is not acceptable. I am asking the bank to validate the debt. Instead I been receiving mail every month from them attempting to collect a debt. \n",
       "I have a right to know this information as a consumer. \n",
       "\n",
       "Chase account # XXXX XXXX XXXX XXXX Thanks in advance for your help.', 'sub_issue': 'Didn't receive enough information to verify debt', 'consumer_consent_provided': 'Consent provided'}</td>\n",
       "      <td>Good morning my name is XXXX XXXX and I appreciate it if you could help me put a stop to Chase Bank cardmember services. \\nIn 2018 I wrote to Chase asking for debt verification and what they sent me a statement which is not acceptable. I am asking the bank to validate the debt. Instead I been receiving mail every month from them attempting to collect a debt. \\nI have a right to know this information as a consumer. \\n\\nChase account # XXXX XXXX XXXX XXXX Thanks in advance for your help.</td>\n",
       "      <td>good morning my name is xxxx xxxx and i appreciate it if you could help me put a stop to chase bank cardmember service in i wrote to chase asking for debt verification and what they sent me a statement which is not acceptable i am asking the bank to validate the debt instead i been receiving mail every month from them attempting to collect a debt i have a right to know this information a a consumer chase account xxxx xxxx xxxx xxxx thanks in advance for your help</td>\n",
       "    </tr>\n",
       "    <tr>\n",
       "      <th>1</th>\n",
       "      <td>complaint-public-v2</td>\n",
       "      <td>complaint</td>\n",
       "      <td>3199379</td>\n",
       "      <td>0.0</td>\n",
       "      <td>{'tags': None, 'zip_code': '77069', 'complaint_id': '3199379', 'issue': 'Other features, terms, or problems', 'date_received': '2019-04-02T12:00:00-05:00', 'state': 'TX', 'consumer_disputed': 'N/A', 'product': 'Credit card or prepaid card', 'company_response': 'Closed with explanation', 'company': 'JPMORGAN CHASE &amp; CO.', 'submitted_via': 'Web', 'date_sent_to_company': '2019-04-02T12:00:00-05:00', 'company_public_response': None, 'sub_product': 'General-purpose credit card or charge card', 'timely': 'Yes', 'complaint_what_happened': 'I upgraded my XXXX XXXX card in XX/XX/2018 and was told by the agent who did the upgrade my anniversary date would not change. It turned the agent was giving me the wrong information in order to upgrade the account. XXXX   changed my anniversary date from XX/XX/XXXX to XX/XX/XXXX without my consent! XXXX has the recording of the agent who was misled me.', 'sub_issue': 'Problem with rewards from credit card', 'consumer_consent_provided': 'Consent provided'}</td>\n",
       "      <td>I upgraded my XXXX XXXX card in XX/XX/2018 and was told by the agent who did the upgrade my anniversary date would not change. It turned the agent was giving me the wrong information in order to upgrade the account. XXXX   changed my anniversary date from XX/XX/XXXX to XX/XX/XXXX without my consent! XXXX has the recording of the agent who was misled me.</td>\n",
       "      <td>i upgraded my xxxx xxxx card in xxxx and wa told by the agent who did the upgrade my anniversary date would not change it turned the agent wa giving me the wrong information in order to upgrade the account xxxx changed my anniversary date from xxxxxxxx to xxxxxxxx without my consent xxxx ha the recording of the agent who wa misled me</td>\n",
       "    </tr>\n",
       "    <tr>\n",
       "      <th>2</th>\n",
       "      <td>complaint-public-v2</td>\n",
       "      <td>complaint</td>\n",
       "      <td>3233499</td>\n",
       "      <td>0.0</td>\n",
       "      <td>{'tags': None, 'zip_code': '104XX', 'complaint_id': '3233499', 'issue': 'Incorrect information on your report', 'date_received': '2019-05-06T12:00:00-05:00', 'state': 'NY', 'consumer_disputed': 'N/A', 'product': 'Credit reporting, credit repair services, or other personal consumer reports', 'company_response': 'Closed with explanation', 'company': 'JPMORGAN CHASE &amp; CO.', 'submitted_via': 'Web', 'date_sent_to_company': '2019-05-06T12:00:00-05:00', 'company_public_response': None, 'sub_product': 'Other personal consumer report', 'timely': 'Yes', 'complaint_what_happened': 'Chase Card was reported on XX/XX/2019. However, fraudulent application have been submitted my identity without my consent to fraudulently obtain services. Do not extend credit without verifying the identity of the applicant.', 'sub_issue': 'Information belongs to someone else', 'consumer_consent_provided': 'Consent provided'}</td>\n",
       "      <td>Chase Card was reported on XX/XX/2019. However, fraudulent application have been submitted my identity without my consent to fraudulently obtain services. Do not extend credit without verifying the identity of the applicant.</td>\n",
       "      <td>chase card wa reported on xxxx however fraudulent application have been submitted my identity without my consent to fraudulently obtain service do not extend credit without verifying the identity of the applicant</td>\n",
       "    </tr>\n",
       "  </tbody>\n",
       "</table>\n",
       "</div>"
      ],
      "text/plain": [
       "                _index      _type      _id  _score  \\\n",
       "0  complaint-public-v2  complaint  3229299     0.0   \n",
       "1  complaint-public-v2  complaint  3199379     0.0   \n",
       "2  complaint-public-v2  complaint  3233499     0.0   \n",
       "\n",
       "                                                                                                                                                                                                                                                                                                                                                                                                                                                                                                                                                                                                                                                                                                                                                                                                                                                                                                                                                                                                                                                                                                                                                   _source  \\\n",
       "0  {'tags': 'Servicemember', 'zip_code': '319XX', 'complaint_id': '3229299', 'issue': 'Written notification about debt', 'date_received': '2019-05-01T12:00:00-05:00', 'state': 'GA', 'consumer_disputed': 'N/A', 'product': 'Debt collection', 'company_response': 'Closed with explanation', 'company': 'JPMORGAN CHASE & CO.', 'submitted_via': 'Web', 'date_sent_to_company': '2019-05-01T12:00:00-05:00', 'company_public_response': None, 'sub_product': 'Credit card debt', 'timely': 'Yes', 'complaint_what_happened': 'Good morning my name is XXXX XXXX and I appreciate it if you could help me put a stop to Chase Bank cardmember services. \n",
       "In 2018 I wrote to Chase asking for debt verification and what they sent me a statement which is not acceptable. I am asking the bank to validate the debt. Instead I been receiving mail every month from them attempting to collect a debt. \n",
       "I have a right to know this information as a consumer. \n",
       "\n",
       "Chase account # XXXX XXXX XXXX XXXX Thanks in advance for your help.', 'sub_issue': 'Didn't receive enough information to verify debt', 'consumer_consent_provided': 'Consent provided'}   \n",
       "1                                                                                                                  {'tags': None, 'zip_code': '77069', 'complaint_id': '3199379', 'issue': 'Other features, terms, or problems', 'date_received': '2019-04-02T12:00:00-05:00', 'state': 'TX', 'consumer_disputed': 'N/A', 'product': 'Credit card or prepaid card', 'company_response': 'Closed with explanation', 'company': 'JPMORGAN CHASE & CO.', 'submitted_via': 'Web', 'date_sent_to_company': '2019-04-02T12:00:00-05:00', 'company_public_response': None, 'sub_product': 'General-purpose credit card or charge card', 'timely': 'Yes', 'complaint_what_happened': 'I upgraded my XXXX XXXX card in XX/XX/2018 and was told by the agent who did the upgrade my anniversary date would not change. It turned the agent was giving me the wrong information in order to upgrade the account. XXXX   changed my anniversary date from XX/XX/XXXX to XX/XX/XXXX without my consent! XXXX has the recording of the agent who was misled me.', 'sub_issue': 'Problem with rewards from credit card', 'consumer_consent_provided': 'Consent provided'}   \n",
       "2                                                                                                                                                                                                                {'tags': None, 'zip_code': '104XX', 'complaint_id': '3233499', 'issue': 'Incorrect information on your report', 'date_received': '2019-05-06T12:00:00-05:00', 'state': 'NY', 'consumer_disputed': 'N/A', 'product': 'Credit reporting, credit repair services, or other personal consumer reports', 'company_response': 'Closed with explanation', 'company': 'JPMORGAN CHASE & CO.', 'submitted_via': 'Web', 'date_sent_to_company': '2019-05-06T12:00:00-05:00', 'company_public_response': None, 'sub_product': 'Other personal consumer report', 'timely': 'Yes', 'complaint_what_happened': 'Chase Card was reported on XX/XX/2019. However, fraudulent application have been submitted my identity without my consent to fraudulently obtain services. Do not extend credit without verifying the identity of the applicant.', 'sub_issue': 'Information belongs to someone else', 'consumer_consent_provided': 'Consent provided'}   \n",
       "\n",
       "                                                                                                                                                                                                                                                                                                                                                                                                                                                                                      complaint_what_happened  \\\n",
       "0  Good morning my name is XXXX XXXX and I appreciate it if you could help me put a stop to Chase Bank cardmember services. \\nIn 2018 I wrote to Chase asking for debt verification and what they sent me a statement which is not acceptable. I am asking the bank to validate the debt. Instead I been receiving mail every month from them attempting to collect a debt. \\nI have a right to know this information as a consumer. \\n\\nChase account # XXXX XXXX XXXX XXXX Thanks in advance for your help.   \n",
       "1                                                                                                                                         I upgraded my XXXX XXXX card in XX/XX/2018 and was told by the agent who did the upgrade my anniversary date would not change. It turned the agent was giving me the wrong information in order to upgrade the account. XXXX   changed my anniversary date from XX/XX/XXXX to XX/XX/XXXX without my consent! XXXX has the recording of the agent who was misled me.   \n",
       "2                                                                                                                                                                                                                                                                            Chase Card was reported on XX/XX/2019. However, fraudulent application have been submitted my identity without my consent to fraudulently obtain services. Do not extend credit without verifying the identity of the applicant.   \n",
       "\n",
       "                                                                                                                                                                                                                                                                                                                                                                                                                                                                preprocessed_complaint  \n",
       "0  good morning my name is xxxx xxxx and i appreciate it if you could help me put a stop to chase bank cardmember service in i wrote to chase asking for debt verification and what they sent me a statement which is not acceptable i am asking the bank to validate the debt instead i been receiving mail every month from them attempting to collect a debt i have a right to know this information a a consumer chase account xxxx xxxx xxxx xxxx thanks in advance for your help  \n",
       "1                                                                                                                                      i upgraded my xxxx xxxx card in xxxx and wa told by the agent who did the upgrade my anniversary date would not change it turned the agent wa giving me the wrong information in order to upgrade the account xxxx changed my anniversary date from xxxxxxxx to xxxxxxxx without my consent xxxx ha the recording of the agent who wa misled me  \n",
       "2                                                                                                                                                                                                                                                                 chase card wa reported on xxxx however fraudulent application have been submitted my identity without my consent to fraudulently obtain service do not extend credit without verifying the identity of the applicant  "
      ]
     },
     "execution_count": 18,
     "metadata": {},
     "output_type": "execute_result"
    }
   ],
   "source": [
    "#View the latest version of dataframe 'df'\n",
    "df.head(3)"
   ]
  },
  {
   "cell_type": "code",
   "execution_count": 19,
   "metadata": {
    "colab": {
     "base_uri": "https://localhost:8080/"
    },
    "id": "uXnN7aa_JrF0",
    "outputId": "373ff325-ecba-4d01-d66f-1a6a88ed685b"
   },
   "outputs": [
    {
     "name": "stdout",
     "output_type": "stream",
     "text": [
      "df Dataframe = Before dropping columns \n",
      " Index(['_index', '_type', '_id', '_score', '_source',\n",
      "       'complaint_what_happened', 'preprocessed_complaint'],\n",
      "      dtype='object')\n",
      "df_clean Dataframe = After dropping redundant columns \n",
      " Index(['complaint_what_happened', 'preprocessed_complaint'], dtype='object')\n"
     ]
    }
   ],
   "source": [
    "#df.drop(columns=['_id','_index','_type','_score','_source'],inplace=True)\n",
    "\n",
    "#Create a dataframe('df_clean') that will have only the complaints and the lemmatized complaints \n",
    "\n",
    "print(\"df Dataframe = Before dropping columns \\n\",df.columns)\n",
    "\n",
    "df_clean = df.drop(columns=['_id','_index','_type','_score','_source'])\n",
    "\n",
    "print(\"df_clean Dataframe = After dropping redundant columns \\n\",df_clean.columns)"
   ]
  },
  {
   "cell_type": "code",
   "execution_count": 20,
   "metadata": {
    "id": "nOiDVvEIJrF0"
   },
   "outputs": [
    {
     "data": {
      "text/html": [
       "<div>\n",
       "<style scoped>\n",
       "    .dataframe tbody tr th:only-of-type {\n",
       "        vertical-align: middle;\n",
       "    }\n",
       "\n",
       "    .dataframe tbody tr th {\n",
       "        vertical-align: top;\n",
       "    }\n",
       "\n",
       "    .dataframe thead th {\n",
       "        text-align: right;\n",
       "    }\n",
       "</style>\n",
       "<table border=\"1\" class=\"dataframe\">\n",
       "  <thead>\n",
       "    <tr style=\"text-align: right;\">\n",
       "      <th></th>\n",
       "      <th>complaint_what_happened</th>\n",
       "      <th>preprocessed_complaint</th>\n",
       "    </tr>\n",
       "  </thead>\n",
       "  <tbody>\n",
       "    <tr>\n",
       "      <th>0</th>\n",
       "      <td>Good morning my name is XXXX XXXX and I appreciate it if you could help me put a stop to Chase Bank cardmember services. \\nIn 2018 I wrote to Chase asking for debt verification and what they sent me a statement which is not acceptable. I am asking the bank to validate the debt. Instead I been receiving mail every month from them attempting to collect a debt. \\nI have a right to know this information as a consumer. \\n\\nChase account # XXXX XXXX XXXX XXXX Thanks in advance for your help.</td>\n",
       "      <td>good morning my name is xxxx xxxx and i appreciate it if you could help me put a stop to chase bank cardmember service in i wrote to chase asking for debt verification and what they sent me a statement which is not acceptable i am asking the bank to validate the debt instead i been receiving mail every month from them attempting to collect a debt i have a right to know this information a a consumer chase account xxxx xxxx xxxx xxxx thanks in advance for your help</td>\n",
       "    </tr>\n",
       "    <tr>\n",
       "      <th>1</th>\n",
       "      <td>I upgraded my XXXX XXXX card in XX/XX/2018 and was told by the agent who did the upgrade my anniversary date would not change. It turned the agent was giving me the wrong information in order to upgrade the account. XXXX   changed my anniversary date from XX/XX/XXXX to XX/XX/XXXX without my consent! XXXX has the recording of the agent who was misled me.</td>\n",
       "      <td>i upgraded my xxxx xxxx card in xxxx and wa told by the agent who did the upgrade my anniversary date would not change it turned the agent wa giving me the wrong information in order to upgrade the account xxxx changed my anniversary date from xxxxxxxx to xxxxxxxx without my consent xxxx ha the recording of the agent who wa misled me</td>\n",
       "    </tr>\n",
       "    <tr>\n",
       "      <th>2</th>\n",
       "      <td>Chase Card was reported on XX/XX/2019. However, fraudulent application have been submitted my identity without my consent to fraudulently obtain services. Do not extend credit without verifying the identity of the applicant.</td>\n",
       "      <td>chase card wa reported on xxxx however fraudulent application have been submitted my identity without my consent to fraudulently obtain service do not extend credit without verifying the identity of the applicant</td>\n",
       "    </tr>\n",
       "  </tbody>\n",
       "</table>\n",
       "</div>"
      ],
      "text/plain": [
       "                                                                                                                                                                                                                                                                                                                                                                                                                                                                                      complaint_what_happened  \\\n",
       "0  Good morning my name is XXXX XXXX and I appreciate it if you could help me put a stop to Chase Bank cardmember services. \\nIn 2018 I wrote to Chase asking for debt verification and what they sent me a statement which is not acceptable. I am asking the bank to validate the debt. Instead I been receiving mail every month from them attempting to collect a debt. \\nI have a right to know this information as a consumer. \\n\\nChase account # XXXX XXXX XXXX XXXX Thanks in advance for your help.   \n",
       "1                                                                                                                                         I upgraded my XXXX XXXX card in XX/XX/2018 and was told by the agent who did the upgrade my anniversary date would not change. It turned the agent was giving me the wrong information in order to upgrade the account. XXXX   changed my anniversary date from XX/XX/XXXX to XX/XX/XXXX without my consent! XXXX has the recording of the agent who was misled me.   \n",
       "2                                                                                                                                                                                                                                                                            Chase Card was reported on XX/XX/2019. However, fraudulent application have been submitted my identity without my consent to fraudulently obtain services. Do not extend credit without verifying the identity of the applicant.   \n",
       "\n",
       "                                                                                                                                                                                                                                                                                                                                                                                                                                                                preprocessed_complaint  \n",
       "0  good morning my name is xxxx xxxx and i appreciate it if you could help me put a stop to chase bank cardmember service in i wrote to chase asking for debt verification and what they sent me a statement which is not acceptable i am asking the bank to validate the debt instead i been receiving mail every month from them attempting to collect a debt i have a right to know this information a a consumer chase account xxxx xxxx xxxx xxxx thanks in advance for your help  \n",
       "1                                                                                                                                      i upgraded my xxxx xxxx card in xxxx and wa told by the agent who did the upgrade my anniversary date would not change it turned the agent wa giving me the wrong information in order to upgrade the account xxxx changed my anniversary date from xxxxxxxx to xxxxxxxx without my consent xxxx ha the recording of the agent who wa misled me  \n",
       "2                                                                                                                                                                                                                                                                 chase card wa reported on xxxx however fraudulent application have been submitted my identity without my consent to fraudulently obtain service do not extend credit without verifying the identity of the applicant  "
      ]
     },
     "execution_count": 20,
     "metadata": {},
     "output_type": "execute_result"
    }
   ],
   "source": [
    "#View the new  dataframe 'df_clean'\n",
    "df_clean.head(3)"
   ]
  },
  {
   "cell_type": "code",
   "execution_count": 21,
   "metadata": {
    "colab": {
     "base_uri": "https://localhost:8080/"
    },
    "id": "Kk7fc4DuJrF1",
    "outputId": "a59e6530-5f10-4499-972e-7e23ed7122f1"
   },
   "outputs": [],
   "source": [
    "#Write your function to extract the POS tags \n",
    "\n",
    "def pos_tag(text):\n",
    "  # write your code here\n",
    "    model = spacy.load(\"en_core_web_sm\")\n",
    "    complaint_POS_removed = []\n",
    "    \n",
    "    for i in tqdm(range(0,len(text))):\n",
    "        sent = model(text[i])\n",
    "        sent_holder=[]\n",
    "        \n",
    "        for token in sent:\n",
    "            if(token.pos_ in [\"NOUN\"]):\n",
    "                sent_holder.append(token)\n",
    "        \n",
    "        #print(sent_holder)\n",
    "        res = \" \".join([str(ele) for ele in sent_holder])\n",
    "        #print(res)\n",
    "        complaint_POS_removed.append(res)\n",
    "        \n",
    "    return pd.Series(complaint_POS_removed)"
   ]
  },
  {
   "cell_type": "code",
   "execution_count": 22,
   "metadata": {},
   "outputs": [
    {
     "name": "stderr",
     "output_type": "stream",
     "text": [
      "100%|██████████| 21072/21072 [15:57<00:00, 22.01it/s] \n"
     ]
    }
   ],
   "source": [
    "#this column should contain lemmatized text with all the words removed which have tags other than NN[tag == \"NN\"].\n",
    "df_clean[\"complaint_POS_removed\"] =  pos_tag(df_clean['preprocessed_complaint'])\n",
    "#df_clean[\"complaint_POS_removed\"] =  pos_tag(df['preprocessed_complaint'])"
   ]
  },
  {
   "cell_type": "code",
   "execution_count": 23,
   "metadata": {
    "colab": {
     "base_uri": "https://localhost:8080/",
     "height": 951
    },
    "id": "AjxfchvFJrF2",
    "outputId": "25b99333-1cf7-40c5-f292-20a22972f5a8"
   },
   "outputs": [
    {
     "data": {
      "text/html": [
       "<div>\n",
       "<style scoped>\n",
       "    .dataframe tbody tr th:only-of-type {\n",
       "        vertical-align: middle;\n",
       "    }\n",
       "\n",
       "    .dataframe tbody tr th {\n",
       "        vertical-align: top;\n",
       "    }\n",
       "\n",
       "    .dataframe thead th {\n",
       "        text-align: right;\n",
       "    }\n",
       "</style>\n",
       "<table border=\"1\" class=\"dataframe\">\n",
       "  <thead>\n",
       "    <tr style=\"text-align: right;\">\n",
       "      <th></th>\n",
       "      <th>complaint_what_happened</th>\n",
       "      <th>preprocessed_complaint</th>\n",
       "      <th>complaint_POS_removed</th>\n",
       "    </tr>\n",
       "  </thead>\n",
       "  <tbody>\n",
       "    <tr>\n",
       "      <th>0</th>\n",
       "      <td>Good morning my name is XXXX XXXX and I appreciate it if you could help me put a stop to Chase Bank cardmember services. \\nIn 2018 I wrote to Chase asking for debt verification and what they sent me a statement which is not acceptable. I am asking the bank to validate the debt. Instead I been receiving mail every month from them attempting to collect a debt. \\nI have a right to know this information as a consumer. \\n\\nChase account # XXXX XXXX XXXX XXXX Thanks in advance for your help.</td>\n",
       "      <td>good morning my name is xxxx xxxx and i appreciate it if you could help me put a stop to chase bank cardmember service in i wrote to chase asking for debt verification and what they sent me a statement which is not acceptable i am asking the bank to validate the debt instead i been receiving mail every month from them attempting to collect a debt i have a right to know this information a a consumer chase account xxxx xxxx xxxx xxxx thanks in advance for your help</td>\n",
       "      <td>morning name stop debt verification statement bank debt mail month debt right information consumer chase thanks advance help</td>\n",
       "    </tr>\n",
       "    <tr>\n",
       "      <th>1</th>\n",
       "      <td>I upgraded my XXXX XXXX card in XX/XX/2018 and was told by the agent who did the upgrade my anniversary date would not change. It turned the agent was giving me the wrong information in order to upgrade the account. XXXX   changed my anniversary date from XX/XX/XXXX to XX/XX/XXXX without my consent! XXXX has the recording of the agent who was misled me.</td>\n",
       "      <td>i upgraded my xxxx xxxx card in xxxx and wa told by the agent who did the upgrade my anniversary date would not change it turned the agent wa giving me the wrong information in order to upgrade the account xxxx changed my anniversary date from xxxxxxxx to xxxxxxxx without my consent xxxx ha the recording of the agent who wa misled me</td>\n",
       "      <td>agent upgrade anniversary date agent information order account anniversary date xxxxxxxx xxxxxxxx consent xxxx recording agent</td>\n",
       "    </tr>\n",
       "    <tr>\n",
       "      <th>2</th>\n",
       "      <td>Chase Card was reported on XX/XX/2019. However, fraudulent application have been submitted my identity without my consent to fraudulently obtain services. Do not extend credit without verifying the identity of the applicant.</td>\n",
       "      <td>chase card wa reported on xxxx however fraudulent application have been submitted my identity without my consent to fraudulently obtain service do not extend credit without verifying the identity of the applicant</td>\n",
       "      <td>application identity consent service credit identity applicant</td>\n",
       "    </tr>\n",
       "  </tbody>\n",
       "</table>\n",
       "</div>"
      ],
      "text/plain": [
       "                                                                                                                                                                                                                                                                                                                                                                                                                                                                                      complaint_what_happened  \\\n",
       "0  Good morning my name is XXXX XXXX and I appreciate it if you could help me put a stop to Chase Bank cardmember services. \\nIn 2018 I wrote to Chase asking for debt verification and what they sent me a statement which is not acceptable. I am asking the bank to validate the debt. Instead I been receiving mail every month from them attempting to collect a debt. \\nI have a right to know this information as a consumer. \\n\\nChase account # XXXX XXXX XXXX XXXX Thanks in advance for your help.   \n",
       "1                                                                                                                                         I upgraded my XXXX XXXX card in XX/XX/2018 and was told by the agent who did the upgrade my anniversary date would not change. It turned the agent was giving me the wrong information in order to upgrade the account. XXXX   changed my anniversary date from XX/XX/XXXX to XX/XX/XXXX without my consent! XXXX has the recording of the agent who was misled me.   \n",
       "2                                                                                                                                                                                                                                                                            Chase Card was reported on XX/XX/2019. However, fraudulent application have been submitted my identity without my consent to fraudulently obtain services. Do not extend credit without verifying the identity of the applicant.   \n",
       "\n",
       "                                                                                                                                                                                                                                                                                                                                                                                                                                                                preprocessed_complaint  \\\n",
       "0  good morning my name is xxxx xxxx and i appreciate it if you could help me put a stop to chase bank cardmember service in i wrote to chase asking for debt verification and what they sent me a statement which is not acceptable i am asking the bank to validate the debt instead i been receiving mail every month from them attempting to collect a debt i have a right to know this information a a consumer chase account xxxx xxxx xxxx xxxx thanks in advance for your help   \n",
       "1                                                                                                                                      i upgraded my xxxx xxxx card in xxxx and wa told by the agent who did the upgrade my anniversary date would not change it turned the agent wa giving me the wrong information in order to upgrade the account xxxx changed my anniversary date from xxxxxxxx to xxxxxxxx without my consent xxxx ha the recording of the agent who wa misled me   \n",
       "2                                                                                                                                                                                                                                                                 chase card wa reported on xxxx however fraudulent application have been submitted my identity without my consent to fraudulently obtain service do not extend credit without verifying the identity of the applicant   \n",
       "\n",
       "                                                                                                            complaint_POS_removed  \n",
       "0    morning name stop debt verification statement bank debt mail month debt right information consumer chase thanks advance help  \n",
       "1  agent upgrade anniversary date agent information order account anniversary date xxxxxxxx xxxxxxxx consent xxxx recording agent  \n",
       "2                                                                  application identity consent service credit identity applicant  "
      ]
     },
     "execution_count": 23,
     "metadata": {},
     "output_type": "execute_result"
    }
   ],
   "source": [
    "#The clean dataframe should now contain the raw complaint, lemmatized complaint and the complaint after removing POS tags.\n",
    "df_clean.head(3)"
   ]
  },
  {
   "cell_type": "markdown",
   "metadata": {
    "id": "_7Un1AElJrF2"
   },
   "source": [
    "## Exploratory data analysis to get familiar with the data.\n",
    "\n",
    "Write the code in this task to perform the following:\n",
    "\n",
    "*   Visualise the data according to the 'Complaint' character length\n",
    "*   Using a word cloud find the top 40 words by frequency among all the articles after processing the text\n",
    "*   Find the top unigrams,bigrams and trigrams by frequency among all the complaints after processing the text. ‘\n",
    "\n",
    "\n"
   ]
  },
  {
   "cell_type": "code",
   "execution_count": 24,
   "metadata": {},
   "outputs": [
    {
     "name": "stderr",
     "output_type": "stream",
     "text": [
      "100%|██████████| 21072/21072 [00:00<00:00, 45509.41it/s]\n"
     ]
    },
    {
     "data": {
      "text/plain": [
       "0     92\n",
       "1     63\n",
       "2     32\n",
       "3    269\n",
       "4     95\n",
       "dtype: int64"
      ]
     },
     "execution_count": 24,
     "metadata": {},
     "output_type": "execute_result"
    }
   ],
   "source": [
    "#Visualise the data according to the 'Complaint' character length\n",
    "\n",
    "complaintLength = [len(complaint.split()) for complaint in tqdm(df['complaint_what_happened'])]\n",
    "complaintLength = pd.Series(complaintLength)\n",
    "\n",
    "#View length of first 5 complaints from the dataframe\n",
    "complaintLength[:5]"
   ]
  },
  {
   "cell_type": "code",
   "execution_count": 25,
   "metadata": {},
   "outputs": [
    {
     "data": {
      "text/plain": [
       "<AxesSubplot:ylabel='count'>"
      ]
     },
     "execution_count": 25,
     "metadata": {},
     "output_type": "execute_result"
    },
    {
     "data": {
      "image/png": "[encoded data removed]",
      "text/plain": [
       "<Figure size 432x288 with 1 Axes>"
      ]
     },
     "metadata": {
      "needs_background": "light"
     },
     "output_type": "display_data"
    }
   ],
   "source": [
    "#Creating a countplot for the complaintLength series\n",
    "sns.countplot(x=complaintLength)"
   ]
  },
  {
   "cell_type": "code",
   "execution_count": 26,
   "metadata": {},
   "outputs": [
    {
     "data": {
      "text/plain": [
       "11241    5573\n",
       "14251    5103\n",
       "436      4994\n",
       "2308     4902\n",
       "1130     4440\n",
       "dtype: int64"
      ]
     },
     "execution_count": 26,
     "metadata": {},
     "output_type": "execute_result"
    }
   ],
   "source": [
    "# finding out the word length of the top 5 most lengthy complaints\n",
    "complaintLength.sort_values(ascending=False, inplace=True)\n",
    "complaintLength[:5]"
   ]
  },
  {
   "cell_type": "markdown",
   "metadata": {
    "id": "T9jD_6SeJrF3"
   },
   "source": [
    "#### Find the top 40 words by frequency among all the articles after processing the text."
   ]
  },
  {
   "cell_type": "code",
   "execution_count": null,
   "metadata": {
    "id": "a_-gumo-xkdN"
   },
   "outputs": [],
   "source": []
  },
  {
   "cell_type": "code",
   "execution_count": 27,
   "metadata": {
    "id": "QcfdvtfZJrF3"
   },
   "outputs": [
    {
     "data": {
      "image/png": "[encoded data removed]",
      "text/plain": [
       "<Figure size 432x288 with 1 Axes>"
      ]
     },
     "metadata": {
      "needs_background": "light"
     },
     "output_type": "display_data"
    }
   ],
   "source": [
    "#Using a word cloud find the top 40 words by frequency among all the articles after processing the text //Always on preprocessed\n",
    "\n",
    "word_cloud = WordCloud(collocations = False, background_color = 'white',width = 1600, height = 800).generate(' '.join(df_clean['complaint_POS_removed']))\n",
    "plt.imshow(word_cloud, interpolation='bilinear')\n",
    "\n",
    "plt.axis(\"off\")\n",
    "plt.show()"
   ]
  },
  {
   "cell_type": "code",
   "execution_count": 28,
   "metadata": {
    "id": "OkSmc3UaJrF4"
   },
   "outputs": [],
   "source": [
    "#Removing -PRON- from the text corpus\n",
    "df_clean['Complaint_clean'] = df_clean['complaint_POS_removed'].str.replace('-PRON-', '')"
   ]
  },
  {
   "cell_type": "markdown",
   "metadata": {
    "id": "5DfCSbbmJrF4"
   },
   "source": [
    "#### Find the top unigrams,bigrams and trigrams by frequency among all the \n",
    "\n",
    "1.   List item\n",
    "2.   List item\n",
    "\n",
    "complaints after processing the text."
   ]
  },
  {
   "cell_type": "code",
   "execution_count": 29,
   "metadata": {
    "id": "5mbk5DS5JrF4"
   },
   "outputs": [],
   "source": [
    "#Write your code here to find the top 30 unigram frequency among the complaints in the cleaned datafram(df_clean). \n",
    "unigrams = ngrams(' '.join(df_clean['complaint_POS_removed']).split(), 1)"
   ]
  },
  {
   "cell_type": "code",
   "execution_count": 30,
   "metadata": {
    "id": "YX7fedm1JrF8"
   },
   "outputs": [
    {
     "name": "stdout",
     "output_type": "stream",
     "text": [
      "('account',) 45467\n",
      "('credit',) 31376\n",
      "('card',) 29055\n",
      "('chase',) 25695\n",
      "('payment',) 20809\n",
      "('wa',) 16611\n",
      "('time',) 15927\n",
      "('xxxxxxxx',) 15071\n",
      "('bank',) 14936\n",
      "('day',) 12760\n",
      "('money',) 11927\n",
      "('charge',) 11880\n",
      "('loan',) 10396\n",
      "('check',) 9932\n",
      "('information',) 9608\n"
     ]
    }
   ],
   "source": [
    "#Print the top 15 words in the unigram frequency\n",
    "fdist = nltk.FreqDist(unigrams)\n",
    "count=1\n",
    "for k,v in sorted(fdist.items(), key=lambda x:x[1],reverse=True):\n",
    "        if(count < 16):\n",
    "            print(k,v)\n",
    "            count=count+1\n"
   ]
  },
  {
   "cell_type": "code",
   "execution_count": 31,
   "metadata": {
    "id": "aV7kD7w8JrF8"
   },
   "outputs": [],
   "source": [
    "#Write your code here to find the top 30 bigram frequency among the complaints in the cleaned datafram(df_clean). \n",
    "bigrams = ngrams(' '.join(df_clean['complaint_POS_removed']).split(), 2)"
   ]
  },
  {
   "cell_type": "code",
   "execution_count": 32,
   "metadata": {
    "id": "NPnMNIpyJrF9"
   },
   "outputs": [
    {
     "name": "stdout",
     "output_type": "stream",
     "text": [
      "('credit', 'card') 12146\n",
      "('credit', 'report') 3686\n",
      "('checking', 'account') 2950\n",
      "('customer', 'service') 2718\n",
      "('account', 'account') 2627\n",
      "('bank', 'account') 2010\n",
      "('chase', 'account') 1906\n",
      "('chase', 'credit') 1838\n",
      "('debit', 'card') 1806\n",
      "('credit', 'score') 1707\n",
      "('phone', 'call') 1623\n",
      "('card', 'account') 1608\n",
      "('account', 'credit') 1604\n",
      "('account', 'chase') 1570\n",
      "('payment', 'payment') 1398\n"
     ]
    }
   ],
   "source": [
    "#Print the top 15 words in the bigram frequency\n",
    "fdist = nltk.FreqDist(bigrams)\n",
    "count=1\n",
    "for k,v in sorted(fdist.items(), key=lambda x:x[1],reverse=True):\n",
    "        if(count < 16):\n",
    "            print(k,v)\n",
    "            count=count+1"
   ]
  },
  {
   "cell_type": "code",
   "execution_count": 33,
   "metadata": {
    "id": "Xkh7vtbtJrF-"
   },
   "outputs": [],
   "source": [
    "#Write your code here to find the top 30 trigram frequency among the complaints in the cleaned datafram(df_clean). \n",
    "trigrams = ngrams(' '.join(df_clean['complaint_POS_removed']).split(), 3)"
   ]
  },
  {
   "cell_type": "code",
   "execution_count": 34,
   "metadata": {
    "id": "REcVxNfvJrF-"
   },
   "outputs": [
    {
     "name": "stdout",
     "output_type": "stream",
     "text": [
      "('chase', 'credit', 'card') 1330\n",
      "('credit', 'card', 'company') 934\n",
      "('credit', 'card', 'account') 934\n",
      "('credit', 'card', 'credit') 583\n",
      "('inquiry', 'credit', 'report') 533\n",
      "('card', 'credit', 'card') 520\n",
      "('account', 'credit', 'card') 508\n",
      "('charge', 'credit', 'card') 394\n",
      "('credit', 'report', 'credit') 380\n",
      "('credit', 'reporting', 'agency') 367\n",
      "('credit', 'card', 'payment') 330\n",
      "('credit', 'card', 'card') 324\n",
      "('credit', 'card', 'chase') 322\n",
      "('account', 'credit', 'report') 319\n",
      "('credit', 'reporting', 'act') 316\n"
     ]
    }
   ],
   "source": [
    "#Print the top 15 words in the trigram frequency\n",
    "fdist = nltk.FreqDist(trigrams)\n",
    "count=1\n",
    "for k,v in sorted(fdist.items(), key=lambda x:x[1],reverse=True):\n",
    "        if(count < 16):\n",
    "            print(k,v)\n",
    "            count=count+1"
   ]
  },
  {
   "cell_type": "markdown",
   "metadata": {
    "id": "yUXzFji0JrF_"
   },
   "source": [
    "## The personal details of customer has been masked in the dataset with xxxx. Let's remove the masked text as this will be of no use for our analysis"
   ]
  },
  {
   "cell_type": "code",
   "execution_count": 35,
   "metadata": {},
   "outputs": [
    {
     "data": {
      "text/html": [
       "<div>\n",
       "<style scoped>\n",
       "    .dataframe tbody tr th:only-of-type {\n",
       "        vertical-align: middle;\n",
       "    }\n",
       "\n",
       "    .dataframe tbody tr th {\n",
       "        vertical-align: top;\n",
       "    }\n",
       "\n",
       "    .dataframe thead th {\n",
       "        text-align: right;\n",
       "    }\n",
       "</style>\n",
       "<table border=\"1\" class=\"dataframe\">\n",
       "  <thead>\n",
       "    <tr style=\"text-align: right;\">\n",
       "      <th></th>\n",
       "      <th>complaint_what_happened</th>\n",
       "      <th>preprocessed_complaint</th>\n",
       "      <th>complaint_POS_removed</th>\n",
       "      <th>Complaint_clean</th>\n",
       "    </tr>\n",
       "  </thead>\n",
       "  <tbody>\n",
       "    <tr>\n",
       "      <th>0</th>\n",
       "      <td>Good morning my name is XXXX XXXX and I appreciate it if you could help me put a stop to Chase Bank cardmember services. \\nIn 2018 I wrote to Chase asking for debt verification and what they sent me a statement which is not acceptable. I am asking the bank to validate the debt. Instead I been receiving mail every month from them attempting to collect a debt. \\nI have a right to know this information as a consumer. \\n\\nChase account # XXXX XXXX XXXX XXXX Thanks in advance for your help.</td>\n",
       "      <td>good morning my name is xxxx xxxx and i appreciate it if you could help me put a stop to chase bank cardmember service in i wrote to chase asking for debt verification and what they sent me a statement which is not acceptable i am asking the bank to validate the debt instead i been receiving mail every month from them attempting to collect a debt i have a right to know this information a a consumer chase account xxxx xxxx xxxx xxxx thanks in advance for your help</td>\n",
       "      <td>morning name stop debt verification statement bank debt mail month debt right information consumer chase thanks advance help</td>\n",
       "      <td>morning name stop debt verification statement bank debt mail month debt right information consumer chase thanks advance help</td>\n",
       "    </tr>\n",
       "    <tr>\n",
       "      <th>1</th>\n",
       "      <td>I upgraded my XXXX XXXX card in XX/XX/2018 and was told by the agent who did the upgrade my anniversary date would not change. It turned the agent was giving me the wrong information in order to upgrade the account. XXXX   changed my anniversary date from XX/XX/XXXX to XX/XX/XXXX without my consent! XXXX has the recording of the agent who was misled me.</td>\n",
       "      <td>i upgraded my xxxx xxxx card in xxxx and wa told by the agent who did the upgrade my anniversary date would not change it turned the agent wa giving me the wrong information in order to upgrade the account xxxx changed my anniversary date from xxxxxxxx to xxxxxxxx without my consent xxxx ha the recording of the agent who wa misled me</td>\n",
       "      <td>agent upgrade anniversary date agent information order account anniversary date xxxxxxxx xxxxxxxx consent xxxx recording agent</td>\n",
       "      <td>agent upgrade anniversary date agent information order account anniversary date xxxxxxxx xxxxxxxx consent xxxx recording agent</td>\n",
       "    </tr>\n",
       "    <tr>\n",
       "      <th>2</th>\n",
       "      <td>Chase Card was reported on XX/XX/2019. However, fraudulent application have been submitted my identity without my consent to fraudulently obtain services. Do not extend credit without verifying the identity of the applicant.</td>\n",
       "      <td>chase card wa reported on xxxx however fraudulent application have been submitted my identity without my consent to fraudulently obtain service do not extend credit without verifying the identity of the applicant</td>\n",
       "      <td>application identity consent service credit identity applicant</td>\n",
       "      <td>application identity consent service credit identity applicant</td>\n",
       "    </tr>\n",
       "  </tbody>\n",
       "</table>\n",
       "</div>"
      ],
      "text/plain": [
       "                                                                                                                                                                                                                                                                                                                                                                                                                                                                                      complaint_what_happened  \\\n",
       "0  Good morning my name is XXXX XXXX and I appreciate it if you could help me put a stop to Chase Bank cardmember services. \\nIn 2018 I wrote to Chase asking for debt verification and what they sent me a statement which is not acceptable. I am asking the bank to validate the debt. Instead I been receiving mail every month from them attempting to collect a debt. \\nI have a right to know this information as a consumer. \\n\\nChase account # XXXX XXXX XXXX XXXX Thanks in advance for your help.   \n",
       "1                                                                                                                                         I upgraded my XXXX XXXX card in XX/XX/2018 and was told by the agent who did the upgrade my anniversary date would not change. It turned the agent was giving me the wrong information in order to upgrade the account. XXXX   changed my anniversary date from XX/XX/XXXX to XX/XX/XXXX without my consent! XXXX has the recording of the agent who was misled me.   \n",
       "2                                                                                                                                                                                                                                                                            Chase Card was reported on XX/XX/2019. However, fraudulent application have been submitted my identity without my consent to fraudulently obtain services. Do not extend credit without verifying the identity of the applicant.   \n",
       "\n",
       "                                                                                                                                                                                                                                                                                                                                                                                                                                                                preprocessed_complaint  \\\n",
       "0  good morning my name is xxxx xxxx and i appreciate it if you could help me put a stop to chase bank cardmember service in i wrote to chase asking for debt verification and what they sent me a statement which is not acceptable i am asking the bank to validate the debt instead i been receiving mail every month from them attempting to collect a debt i have a right to know this information a a consumer chase account xxxx xxxx xxxx xxxx thanks in advance for your help   \n",
       "1                                                                                                                                      i upgraded my xxxx xxxx card in xxxx and wa told by the agent who did the upgrade my anniversary date would not change it turned the agent wa giving me the wrong information in order to upgrade the account xxxx changed my anniversary date from xxxxxxxx to xxxxxxxx without my consent xxxx ha the recording of the agent who wa misled me   \n",
       "2                                                                                                                                                                                                                                                                 chase card wa reported on xxxx however fraudulent application have been submitted my identity without my consent to fraudulently obtain service do not extend credit without verifying the identity of the applicant   \n",
       "\n",
       "                                                                                                            complaint_POS_removed  \\\n",
       "0    morning name stop debt verification statement bank debt mail month debt right information consumer chase thanks advance help   \n",
       "1  agent upgrade anniversary date agent information order account anniversary date xxxxxxxx xxxxxxxx consent xxxx recording agent   \n",
       "2                                                                  application identity consent service credit identity applicant   \n",
       "\n",
       "                                                                                                                  Complaint_clean  \n",
       "0    morning name stop debt verification statement bank debt mail month debt right information consumer chase thanks advance help  \n",
       "1  agent upgrade anniversary date agent information order account anniversary date xxxxxxxx xxxxxxxx consent xxxx recording agent  \n",
       "2                                                                  application identity consent service credit identity applicant  "
      ]
     },
     "execution_count": 35,
     "metadata": {},
     "output_type": "execute_result"
    }
   ],
   "source": [
    "df_clean.head(3)"
   ]
  },
  {
   "cell_type": "code",
   "execution_count": 36,
   "metadata": {
    "id": "wKda-a_IJrF_"
   },
   "outputs": [
    {
     "name": "stderr",
     "output_type": "stream",
     "text": [
      "100%|██████████| 21072/21072 [00:00<00:00, 82258.55it/s]\n"
     ]
    }
   ],
   "source": [
    "#Not following this approach and instead doing it via regular expressions\n",
    "#df_clean['Complaint_clean'] = df_clean['Complaint_clean'].str.replace('xxxx','')\n",
    "\n",
    "def removeMasing(document):\n",
    "    document = re.sub(\"x{2,}\",\"\",document)\n",
    "    return document\n",
    "\n",
    "Complaint_clean_no_masking = [removeMasing(complaint) for complaint in tqdm(df_clean['Complaint_clean'])]\n",
    "df_clean['Complaint_clean_no_masking'] = pd.Series(Complaint_clean_no_masking)"
   ]
  },
  {
   "cell_type": "code",
   "execution_count": 37,
   "metadata": {
    "id": "9UIFk8fQJrF_"
   },
   "outputs": [
    {
     "data": {
      "text/html": [
       "<div>\n",
       "<style scoped>\n",
       "    .dataframe tbody tr th:only-of-type {\n",
       "        vertical-align: middle;\n",
       "    }\n",
       "\n",
       "    .dataframe tbody tr th {\n",
       "        vertical-align: top;\n",
       "    }\n",
       "\n",
       "    .dataframe thead th {\n",
       "        text-align: right;\n",
       "    }\n",
       "</style>\n",
       "<table border=\"1\" class=\"dataframe\">\n",
       "  <thead>\n",
       "    <tr style=\"text-align: right;\">\n",
       "      <th></th>\n",
       "      <th>complaint_what_happened</th>\n",
       "      <th>preprocessed_complaint</th>\n",
       "      <th>complaint_POS_removed</th>\n",
       "      <th>Complaint_clean</th>\n",
       "      <th>Complaint_clean_no_masking</th>\n",
       "    </tr>\n",
       "  </thead>\n",
       "  <tbody>\n",
       "    <tr>\n",
       "      <th>0</th>\n",
       "      <td>Good morning my name is XXXX XXXX and I appreciate it if you could help me put a stop to Chase Bank cardmember services. \\nIn 2018 I wrote to Chase asking for debt verification and what they sent me a statement which is not acceptable. I am asking the bank to validate the debt. Instead I been receiving mail every month from them attempting to collect a debt. \\nI have a right to know this information as a consumer. \\n\\nChase account # XXXX XXXX XXXX XXXX Thanks in advance for your help.</td>\n",
       "      <td>good morning my name is xxxx xxxx and i appreciate it if you could help me put a stop to chase bank cardmember service in i wrote to chase asking for debt verification and what they sent me a statement which is not acceptable i am asking the bank to validate the debt instead i been receiving mail every month from them attempting to collect a debt i have a right to know this information a a consumer chase account xxxx xxxx xxxx xxxx thanks in advance for your help</td>\n",
       "      <td>morning name stop debt verification statement bank debt mail month debt right information consumer chase thanks advance help</td>\n",
       "      <td>morning name stop debt verification statement bank debt mail month debt right information consumer chase thanks advance help</td>\n",
       "      <td>morning name stop debt verification statement bank debt mail month debt right information consumer chase thanks advance help</td>\n",
       "    </tr>\n",
       "    <tr>\n",
       "      <th>1</th>\n",
       "      <td>I upgraded my XXXX XXXX card in XX/XX/2018 and was told by the agent who did the upgrade my anniversary date would not change. It turned the agent was giving me the wrong information in order to upgrade the account. XXXX   changed my anniversary date from XX/XX/XXXX to XX/XX/XXXX without my consent! XXXX has the recording of the agent who was misled me.</td>\n",
       "      <td>i upgraded my xxxx xxxx card in xxxx and wa told by the agent who did the upgrade my anniversary date would not change it turned the agent wa giving me the wrong information in order to upgrade the account xxxx changed my anniversary date from xxxxxxxx to xxxxxxxx without my consent xxxx ha the recording of the agent who wa misled me</td>\n",
       "      <td>agent upgrade anniversary date agent information order account anniversary date xxxxxxxx xxxxxxxx consent xxxx recording agent</td>\n",
       "      <td>agent upgrade anniversary date agent information order account anniversary date xxxxxxxx xxxxxxxx consent xxxx recording agent</td>\n",
       "      <td>agent upgrade anniversary date agent information order account anniversary date   consent  recording agent</td>\n",
       "    </tr>\n",
       "    <tr>\n",
       "      <th>2</th>\n",
       "      <td>Chase Card was reported on XX/XX/2019. However, fraudulent application have been submitted my identity without my consent to fraudulently obtain services. Do not extend credit without verifying the identity of the applicant.</td>\n",
       "      <td>chase card wa reported on xxxx however fraudulent application have been submitted my identity without my consent to fraudulently obtain service do not extend credit without verifying the identity of the applicant</td>\n",
       "      <td>application identity consent service credit identity applicant</td>\n",
       "      <td>application identity consent service credit identity applicant</td>\n",
       "      <td>application identity consent service credit identity applicant</td>\n",
       "    </tr>\n",
       "  </tbody>\n",
       "</table>\n",
       "</div>"
      ],
      "text/plain": [
       "                                                                                                                                                                                                                                                                                                                                                                                                                                                                                      complaint_what_happened  \\\n",
       "0  Good morning my name is XXXX XXXX and I appreciate it if you could help me put a stop to Chase Bank cardmember services. \\nIn 2018 I wrote to Chase asking for debt verification and what they sent me a statement which is not acceptable. I am asking the bank to validate the debt. Instead I been receiving mail every month from them attempting to collect a debt. \\nI have a right to know this information as a consumer. \\n\\nChase account # XXXX XXXX XXXX XXXX Thanks in advance for your help.   \n",
       "1                                                                                                                                         I upgraded my XXXX XXXX card in XX/XX/2018 and was told by the agent who did the upgrade my anniversary date would not change. It turned the agent was giving me the wrong information in order to upgrade the account. XXXX   changed my anniversary date from XX/XX/XXXX to XX/XX/XXXX without my consent! XXXX has the recording of the agent who was misled me.   \n",
       "2                                                                                                                                                                                                                                                                            Chase Card was reported on XX/XX/2019. However, fraudulent application have been submitted my identity without my consent to fraudulently obtain services. Do not extend credit without verifying the identity of the applicant.   \n",
       "\n",
       "                                                                                                                                                                                                                                                                                                                                                                                                                                                                preprocessed_complaint  \\\n",
       "0  good morning my name is xxxx xxxx and i appreciate it if you could help me put a stop to chase bank cardmember service in i wrote to chase asking for debt verification and what they sent me a statement which is not acceptable i am asking the bank to validate the debt instead i been receiving mail every month from them attempting to collect a debt i have a right to know this information a a consumer chase account xxxx xxxx xxxx xxxx thanks in advance for your help   \n",
       "1                                                                                                                                      i upgraded my xxxx xxxx card in xxxx and wa told by the agent who did the upgrade my anniversary date would not change it turned the agent wa giving me the wrong information in order to upgrade the account xxxx changed my anniversary date from xxxxxxxx to xxxxxxxx without my consent xxxx ha the recording of the agent who wa misled me   \n",
       "2                                                                                                                                                                                                                                                                 chase card wa reported on xxxx however fraudulent application have been submitted my identity without my consent to fraudulently obtain service do not extend credit without verifying the identity of the applicant   \n",
       "\n",
       "                                                                                                            complaint_POS_removed  \\\n",
       "0    morning name stop debt verification statement bank debt mail month debt right information consumer chase thanks advance help   \n",
       "1  agent upgrade anniversary date agent information order account anniversary date xxxxxxxx xxxxxxxx consent xxxx recording agent   \n",
       "2                                                                  application identity consent service credit identity applicant   \n",
       "\n",
       "                                                                                                                  Complaint_clean  \\\n",
       "0    morning name stop debt verification statement bank debt mail month debt right information consumer chase thanks advance help   \n",
       "1  agent upgrade anniversary date agent information order account anniversary date xxxxxxxx xxxxxxxx consent xxxx recording agent   \n",
       "2                                                                  application identity consent service credit identity applicant   \n",
       "\n",
       "                                                                                                     Complaint_clean_no_masking  \n",
       "0  morning name stop debt verification statement bank debt mail month debt right information consumer chase thanks advance help  \n",
       "1                    agent upgrade anniversary date agent information order account anniversary date   consent  recording agent  \n",
       "2                                                                application identity consent service credit identity applicant  "
      ]
     },
     "execution_count": 37,
     "metadata": {},
     "output_type": "execute_result"
    }
   ],
   "source": [
    "#All masked texts has been removed\n",
    "df_clean.head(3)"
   ]
  },
  {
   "attachments": {
    "Screenshot%202022-07-15%20at%205.27.46%20PM.png": {
     "image/png": "[encoded data removed]"
    }
   },
   "cell_type": "markdown",
   "metadata": {
    "id": "k-I0k0QtJrGA"
   },
   "source": [
    "## Feature Extraction\n",
    "\n",
    "The TF-IDF representation, also called the TF-IDF model, takes into the account the importance of each word. In the bag-of-words model, each word is assumed to be equally important, which is of course not correct.\n",
    "\n",
    "**Higher weights are assigned to terms that are present frequently in a document and which are rare among all documents. On the other hand, a low score is assigned to terms which are common across all documents.**\n",
    "\n",
    "\n",
    "![Screenshot%202022-07-15%20at%205.27.46%20PM.png](attachment:Screenshot%202022-07-15%20at%205.27.46%20PM.png)\n",
    "\n",
    "\n",
    "Convert the raw texts to a matrix of TF-IDF features\n",
    "\n",
    "**max_df** is used for removing terms that appear too frequently, also known as \"corpus-specific stop words\"\n",
    "max_df = 0.95 means \"ignore terms that appear in more than 95% of the complaints\"\n",
    "\n",
    "**min_df** is used for removing terms that appear too infrequently\n",
    "min_df = 2 means \"ignore terms that appear in less than 2 complaints\""
   ]
  },
  {
   "cell_type": "code",
   "execution_count": 38,
   "metadata": {
    "id": "Y8fGwaCPJrGA"
   },
   "outputs": [],
   "source": [
    "#Write your code here to initialise the TfidfVectorizer \n",
    "vectorizer = TfidfVectorizer(max_df=0.95,min_df=2)\n",
    "X = vectorizer.fit_transform(df_clean['Complaint_clean_no_masking'])"
   ]
  },
  {
   "cell_type": "markdown",
   "metadata": {
    "id": "yYzD85nTJrGA"
   },
   "source": [
    "#### Create a document term matrix using fit_transform\n",
    "\n",
    "The contents of a document term matrix are tuples of (complaint_id,token_id) tf-idf score:\n",
    "The tuples that are not there have a tf-idf score of 0"
   ]
  },
  {
   "cell_type": "code",
   "execution_count": 39,
   "metadata": {
    "id": "ffzdDpp_JrGB"
   },
   "outputs": [
    {
     "data": {
      "text/html": [
       "<div>\n",
       "<style scoped>\n",
       "    .dataframe tbody tr th:only-of-type {\n",
       "        vertical-align: middle;\n",
       "    }\n",
       "\n",
       "    .dataframe tbody tr th {\n",
       "        vertical-align: top;\n",
       "    }\n",
       "\n",
       "    .dataframe thead th {\n",
       "        text-align: right;\n",
       "    }\n",
       "</style>\n",
       "<table border=\"1\" class=\"dataframe\">\n",
       "  <thead>\n",
       "    <tr style=\"text-align: right;\">\n",
       "      <th></th>\n",
       "      <th>aaaratings</th>\n",
       "      <th>aba</th>\n",
       "      <th>abandonment</th>\n",
       "      <th>abatement</th>\n",
       "      <th>abbreviation</th>\n",
       "      <th>abide</th>\n",
       "      <th>ability</th>\n",
       "      <th>about</th>\n",
       "      <th>absence</th>\n",
       "      <th>absent</th>\n",
       "      <th>...</th>\n",
       "      <th>yield</th>\n",
       "      <th>yoga</th>\n",
       "      <th>yours</th>\n",
       "      <th>yourselves</th>\n",
       "      <th>youth</th>\n",
       "      <th>yr</th>\n",
       "      <th>ytd</th>\n",
       "      <th>zip</th>\n",
       "      <th>zombie</th>\n",
       "      <th>zone</th>\n",
       "    </tr>\n",
       "  </thead>\n",
       "  <tbody>\n",
       "    <tr>\n",
       "      <th>0</th>\n",
       "      <td>0.0</td>\n",
       "      <td>0.0</td>\n",
       "      <td>0.0</td>\n",
       "      <td>0.0</td>\n",
       "      <td>0.0</td>\n",
       "      <td>0.0</td>\n",
       "      <td>0.0</td>\n",
       "      <td>0.0</td>\n",
       "      <td>0.0</td>\n",
       "      <td>0.0</td>\n",
       "      <td>...</td>\n",
       "      <td>0.0</td>\n",
       "      <td>0.0</td>\n",
       "      <td>0.0</td>\n",
       "      <td>0.0</td>\n",
       "      <td>0.0</td>\n",
       "      <td>0.0</td>\n",
       "      <td>0.0</td>\n",
       "      <td>0.0</td>\n",
       "      <td>0.0</td>\n",
       "      <td>0.0</td>\n",
       "    </tr>\n",
       "    <tr>\n",
       "      <th>1</th>\n",
       "      <td>0.0</td>\n",
       "      <td>0.0</td>\n",
       "      <td>0.0</td>\n",
       "      <td>0.0</td>\n",
       "      <td>0.0</td>\n",
       "      <td>0.0</td>\n",
       "      <td>0.0</td>\n",
       "      <td>0.0</td>\n",
       "      <td>0.0</td>\n",
       "      <td>0.0</td>\n",
       "      <td>...</td>\n",
       "      <td>0.0</td>\n",
       "      <td>0.0</td>\n",
       "      <td>0.0</td>\n",
       "      <td>0.0</td>\n",
       "      <td>0.0</td>\n",
       "      <td>0.0</td>\n",
       "      <td>0.0</td>\n",
       "      <td>0.0</td>\n",
       "      <td>0.0</td>\n",
       "      <td>0.0</td>\n",
       "    </tr>\n",
       "    <tr>\n",
       "      <th>2</th>\n",
       "      <td>0.0</td>\n",
       "      <td>0.0</td>\n",
       "      <td>0.0</td>\n",
       "      <td>0.0</td>\n",
       "      <td>0.0</td>\n",
       "      <td>0.0</td>\n",
       "      <td>0.0</td>\n",
       "      <td>0.0</td>\n",
       "      <td>0.0</td>\n",
       "      <td>0.0</td>\n",
       "      <td>...</td>\n",
       "      <td>0.0</td>\n",
       "      <td>0.0</td>\n",
       "      <td>0.0</td>\n",
       "      <td>0.0</td>\n",
       "      <td>0.0</td>\n",
       "      <td>0.0</td>\n",
       "      <td>0.0</td>\n",
       "      <td>0.0</td>\n",
       "      <td>0.0</td>\n",
       "      <td>0.0</td>\n",
       "    </tr>\n",
       "    <tr>\n",
       "      <th>3</th>\n",
       "      <td>0.0</td>\n",
       "      <td>0.0</td>\n",
       "      <td>0.0</td>\n",
       "      <td>0.0</td>\n",
       "      <td>0.0</td>\n",
       "      <td>0.0</td>\n",
       "      <td>0.0</td>\n",
       "      <td>0.0</td>\n",
       "      <td>0.0</td>\n",
       "      <td>0.0</td>\n",
       "      <td>...</td>\n",
       "      <td>0.0</td>\n",
       "      <td>0.0</td>\n",
       "      <td>0.0</td>\n",
       "      <td>0.0</td>\n",
       "      <td>0.0</td>\n",
       "      <td>0.0</td>\n",
       "      <td>0.0</td>\n",
       "      <td>0.0</td>\n",
       "      <td>0.0</td>\n",
       "      <td>0.0</td>\n",
       "    </tr>\n",
       "    <tr>\n",
       "      <th>4</th>\n",
       "      <td>0.0</td>\n",
       "      <td>0.0</td>\n",
       "      <td>0.0</td>\n",
       "      <td>0.0</td>\n",
       "      <td>0.0</td>\n",
       "      <td>0.0</td>\n",
       "      <td>0.0</td>\n",
       "      <td>0.0</td>\n",
       "      <td>0.0</td>\n",
       "      <td>0.0</td>\n",
       "      <td>...</td>\n",
       "      <td>0.0</td>\n",
       "      <td>0.0</td>\n",
       "      <td>0.0</td>\n",
       "      <td>0.0</td>\n",
       "      <td>0.0</td>\n",
       "      <td>0.0</td>\n",
       "      <td>0.0</td>\n",
       "      <td>0.0</td>\n",
       "      <td>0.0</td>\n",
       "      <td>0.0</td>\n",
       "    </tr>\n",
       "    <tr>\n",
       "      <th>...</th>\n",
       "      <td>...</td>\n",
       "      <td>...</td>\n",
       "      <td>...</td>\n",
       "      <td>...</td>\n",
       "      <td>...</td>\n",
       "      <td>...</td>\n",
       "      <td>...</td>\n",
       "      <td>...</td>\n",
       "      <td>...</td>\n",
       "      <td>...</td>\n",
       "      <td>...</td>\n",
       "      <td>...</td>\n",
       "      <td>...</td>\n",
       "      <td>...</td>\n",
       "      <td>...</td>\n",
       "      <td>...</td>\n",
       "      <td>...</td>\n",
       "      <td>...</td>\n",
       "      <td>...</td>\n",
       "      <td>...</td>\n",
       "      <td>...</td>\n",
       "    </tr>\n",
       "    <tr>\n",
       "      <th>21067</th>\n",
       "      <td>0.0</td>\n",
       "      <td>0.0</td>\n",
       "      <td>0.0</td>\n",
       "      <td>0.0</td>\n",
       "      <td>0.0</td>\n",
       "      <td>0.0</td>\n",
       "      <td>0.0</td>\n",
       "      <td>0.0</td>\n",
       "      <td>0.0</td>\n",
       "      <td>0.0</td>\n",
       "      <td>...</td>\n",
       "      <td>0.0</td>\n",
       "      <td>0.0</td>\n",
       "      <td>0.0</td>\n",
       "      <td>0.0</td>\n",
       "      <td>0.0</td>\n",
       "      <td>0.0</td>\n",
       "      <td>0.0</td>\n",
       "      <td>0.0</td>\n",
       "      <td>0.0</td>\n",
       "      <td>0.0</td>\n",
       "    </tr>\n",
       "    <tr>\n",
       "      <th>21068</th>\n",
       "      <td>0.0</td>\n",
       "      <td>0.0</td>\n",
       "      <td>0.0</td>\n",
       "      <td>0.0</td>\n",
       "      <td>0.0</td>\n",
       "      <td>0.0</td>\n",
       "      <td>0.0</td>\n",
       "      <td>0.0</td>\n",
       "      <td>0.0</td>\n",
       "      <td>0.0</td>\n",
       "      <td>...</td>\n",
       "      <td>0.0</td>\n",
       "      <td>0.0</td>\n",
       "      <td>0.0</td>\n",
       "      <td>0.0</td>\n",
       "      <td>0.0</td>\n",
       "      <td>0.0</td>\n",
       "      <td>0.0</td>\n",
       "      <td>0.0</td>\n",
       "      <td>0.0</td>\n",
       "      <td>0.0</td>\n",
       "    </tr>\n",
       "    <tr>\n",
       "      <th>21069</th>\n",
       "      <td>0.0</td>\n",
       "      <td>0.0</td>\n",
       "      <td>0.0</td>\n",
       "      <td>0.0</td>\n",
       "      <td>0.0</td>\n",
       "      <td>0.0</td>\n",
       "      <td>0.0</td>\n",
       "      <td>0.0</td>\n",
       "      <td>0.0</td>\n",
       "      <td>0.0</td>\n",
       "      <td>...</td>\n",
       "      <td>0.0</td>\n",
       "      <td>0.0</td>\n",
       "      <td>0.0</td>\n",
       "      <td>0.0</td>\n",
       "      <td>0.0</td>\n",
       "      <td>0.0</td>\n",
       "      <td>0.0</td>\n",
       "      <td>0.0</td>\n",
       "      <td>0.0</td>\n",
       "      <td>0.0</td>\n",
       "    </tr>\n",
       "    <tr>\n",
       "      <th>21070</th>\n",
       "      <td>0.0</td>\n",
       "      <td>0.0</td>\n",
       "      <td>0.0</td>\n",
       "      <td>0.0</td>\n",
       "      <td>0.0</td>\n",
       "      <td>0.0</td>\n",
       "      <td>0.0</td>\n",
       "      <td>0.0</td>\n",
       "      <td>0.0</td>\n",
       "      <td>0.0</td>\n",
       "      <td>...</td>\n",
       "      <td>0.0</td>\n",
       "      <td>0.0</td>\n",
       "      <td>0.0</td>\n",
       "      <td>0.0</td>\n",
       "      <td>0.0</td>\n",
       "      <td>0.0</td>\n",
       "      <td>0.0</td>\n",
       "      <td>0.0</td>\n",
       "      <td>0.0</td>\n",
       "      <td>0.0</td>\n",
       "    </tr>\n",
       "    <tr>\n",
       "      <th>21071</th>\n",
       "      <td>0.0</td>\n",
       "      <td>0.0</td>\n",
       "      <td>0.0</td>\n",
       "      <td>0.0</td>\n",
       "      <td>0.0</td>\n",
       "      <td>0.0</td>\n",
       "      <td>0.0</td>\n",
       "      <td>0.0</td>\n",
       "      <td>0.0</td>\n",
       "      <td>0.0</td>\n",
       "      <td>...</td>\n",
       "      <td>0.0</td>\n",
       "      <td>0.0</td>\n",
       "      <td>0.0</td>\n",
       "      <td>0.0</td>\n",
       "      <td>0.0</td>\n",
       "      <td>0.0</td>\n",
       "      <td>0.0</td>\n",
       "      <td>0.0</td>\n",
       "      <td>0.0</td>\n",
       "      <td>0.0</td>\n",
       "    </tr>\n",
       "  </tbody>\n",
       "</table>\n",
       "<p>21072 rows × 6062 columns</p>\n",
       "</div>"
      ],
      "text/plain": [
       "       aaaratings  aba  abandonment  abatement  abbreviation  abide  ability  \\\n",
       "0             0.0  0.0          0.0        0.0           0.0    0.0      0.0   \n",
       "1             0.0  0.0          0.0        0.0           0.0    0.0      0.0   \n",
       "2             0.0  0.0          0.0        0.0           0.0    0.0      0.0   \n",
       "3             0.0  0.0          0.0        0.0           0.0    0.0      0.0   \n",
       "4             0.0  0.0          0.0        0.0           0.0    0.0      0.0   \n",
       "...           ...  ...          ...        ...           ...    ...      ...   \n",
       "21067         0.0  0.0          0.0        0.0           0.0    0.0      0.0   \n",
       "21068         0.0  0.0          0.0        0.0           0.0    0.0      0.0   \n",
       "21069         0.0  0.0          0.0        0.0           0.0    0.0      0.0   \n",
       "21070         0.0  0.0          0.0        0.0           0.0    0.0      0.0   \n",
       "21071         0.0  0.0          0.0        0.0           0.0    0.0      0.0   \n",
       "\n",
       "       about  absence  absent  ...  yield  yoga  yours  yourselves  youth  \\\n",
       "0        0.0      0.0     0.0  ...    0.0   0.0    0.0         0.0    0.0   \n",
       "1        0.0      0.0     0.0  ...    0.0   0.0    0.0         0.0    0.0   \n",
       "2        0.0      0.0     0.0  ...    0.0   0.0    0.0         0.0    0.0   \n",
       "3        0.0      0.0     0.0  ...    0.0   0.0    0.0         0.0    0.0   \n",
       "4        0.0      0.0     0.0  ...    0.0   0.0    0.0         0.0    0.0   \n",
       "...      ...      ...     ...  ...    ...   ...    ...         ...    ...   \n",
       "21067    0.0      0.0     0.0  ...    0.0   0.0    0.0         0.0    0.0   \n",
       "21068    0.0      0.0     0.0  ...    0.0   0.0    0.0         0.0    0.0   \n",
       "21069    0.0      0.0     0.0  ...    0.0   0.0    0.0         0.0    0.0   \n",
       "21070    0.0      0.0     0.0  ...    0.0   0.0    0.0         0.0    0.0   \n",
       "21071    0.0      0.0     0.0  ...    0.0   0.0    0.0         0.0    0.0   \n",
       "\n",
       "        yr  ytd  zip  zombie  zone  \n",
       "0      0.0  0.0  0.0     0.0   0.0  \n",
       "1      0.0  0.0  0.0     0.0   0.0  \n",
       "2      0.0  0.0  0.0     0.0   0.0  \n",
       "3      0.0  0.0  0.0     0.0   0.0  \n",
       "4      0.0  0.0  0.0     0.0   0.0  \n",
       "...    ...  ...  ...     ...   ...  \n",
       "21067  0.0  0.0  0.0     0.0   0.0  \n",
       "21068  0.0  0.0  0.0     0.0   0.0  \n",
       "21069  0.0  0.0  0.0     0.0   0.0  \n",
       "21070  0.0  0.0  0.0     0.0   0.0  \n",
       "21071  0.0  0.0  0.0     0.0   0.0  \n",
       "\n",
       "[21072 rows x 6062 columns]"
      ]
     },
     "execution_count": 39,
     "metadata": {},
     "output_type": "execute_result"
    }
   ],
   "source": [
    "#Write your code here to create the Document Term Matrix by transforming the complaints column present in df_clean.\n",
    "pd.DataFrame(X.toarray(), columns = vectorizer.get_feature_names())"
   ]
  },
  {
   "cell_type": "markdown",
   "metadata": {
    "id": "7Q9lwvNEJrGB"
   },
   "source": [
    "## Topic Modelling using NMF\n",
    "\n",
    "Non-Negative Matrix Factorization (NMF) is an unsupervised technique so there are no labeling of topics that the model will be trained on. The way it works is that, NMF decomposes (or factorizes) high-dimensional vectors into a lower-dimensional representation. These lower-dimensional vectors are non-negative which also means their coefficients are non-negative.\n",
    "\n",
    "In this task, we have to perform the following:\n",
    "\n",
    "* Find the best number of clusters \n",
    "* Apply the best number to create word clusters\n",
    "* Inspect & validate the correction of each cluster wrt the complaints \n",
    "* Correct the labels if needed \n",
    "* Map the clusters to topics/cluster names"
   ]
  },
  {
   "cell_type": "code",
   "execution_count": 40,
   "metadata": {
    "id": "amLT4omWJrGB"
   },
   "outputs": [
    {
     "data": {
      "text/plain": [
       "6062"
      ]
     },
     "execution_count": 40,
     "metadata": {},
     "output_type": "execute_result"
    }
   ],
   "source": [
    "len(vectorizer.get_feature_names())"
   ]
  },
  {
   "attachments": {
    "NMF%20overview%20picture.png": {
     "image/png": "[encoded data removed]"
    }
   },
   "cell_type": "markdown",
   "metadata": {
    "id": "0wYR1xUTJrGD"
   },
   "source": [
    "## Manual Topic Modeling\n",
    "You need to do take the trial & error approach to find the best num of topics for your NMF model.\n",
    "\n",
    "The only parameter that is required is the number of components i.e. the number of topics we want. This is the most crucial step in the whole topic modeling process and will greatly affect how good your final topics are.\n",
    "\n",
    "![NMF%20overview%20picture.png](attachment:NMF%20overview%20picture.png)"
   ]
  },
  {
   "cell_type": "code",
   "execution_count": 41,
   "metadata": {
    "id": "sgd2A6bhJrGD"
   },
   "outputs": [
    {
     "name": "stdout",
     "output_type": "stream",
     "text": [
      "W(Document-topic matrix) shape =  (21072, 5)\n",
      "H(Topic-term matrix) shape =  (5, 6062)\n"
     ]
    }
   ],
   "source": [
    "#Load your nmf_model with the n_components i.e 5\n",
    "import warnings\n",
    "warnings.filterwarnings(\"ignore\")\n",
    "\n",
    "num_topics = 5\n",
    "\n",
    "#keep the random_state =40\n",
    "nmf_model = NMF(n_components=num_topics,random_state=40)\n",
    "W = nmf_model.fit_transform(X)  # Document-topic matrix\n",
    "H = nmf_model.components_       # Topic-term matrix\n",
    "\n",
    "print(\"W(Document-topic matrix) shape = \", W.shape)\n",
    "print(\"H(Topic-term matrix) shape = \", H.shape)"
   ]
  },
  {
   "cell_type": "code",
   "execution_count": 42,
   "metadata": {
    "id": "16kRfat5JrGE"
   },
   "outputs": [
    {
     "data": {
      "text/html": [
       "<div>\n",
       "<style scoped>\n",
       "    .dataframe tbody tr th:only-of-type {\n",
       "        vertical-align: middle;\n",
       "    }\n",
       "\n",
       "    .dataframe tbody tr th {\n",
       "        vertical-align: top;\n",
       "    }\n",
       "\n",
       "    .dataframe thead th {\n",
       "        text-align: right;\n",
       "    }\n",
       "</style>\n",
       "<table border=\"1\" class=\"dataframe\">\n",
       "  <thead>\n",
       "    <tr style=\"text-align: right;\">\n",
       "      <th></th>\n",
       "      <th>Word 1</th>\n",
       "      <th>Word 2</th>\n",
       "      <th>Word 3</th>\n",
       "      <th>Word 4</th>\n",
       "      <th>Word 5</th>\n",
       "      <th>Word 6</th>\n",
       "      <th>Word 7</th>\n",
       "      <th>Word 8</th>\n",
       "      <th>Word 9</th>\n",
       "      <th>Word 10</th>\n",
       "      <th>Word 11</th>\n",
       "      <th>Word 12</th>\n",
       "      <th>Word 13</th>\n",
       "      <th>Word 14</th>\n",
       "      <th>Word 15</th>\n",
       "    </tr>\n",
       "  </thead>\n",
       "  <tbody>\n",
       "    <tr>\n",
       "      <th>Topic 1</th>\n",
       "      <td>account</td>\n",
       "      <td>check</td>\n",
       "      <td>money</td>\n",
       "      <td>bank</td>\n",
       "      <td>fund</td>\n",
       "      <td>checking</td>\n",
       "      <td>chase</td>\n",
       "      <td>deposit</td>\n",
       "      <td>branch</td>\n",
       "      <td>day</td>\n",
       "      <td>fee</td>\n",
       "      <td>wa</td>\n",
       "      <td>business</td>\n",
       "      <td>number</td>\n",
       "      <td>transaction</td>\n",
       "    </tr>\n",
       "    <tr>\n",
       "      <th>Topic 2</th>\n",
       "      <td>card</td>\n",
       "      <td>credit</td>\n",
       "      <td>balance</td>\n",
       "      <td>chase</td>\n",
       "      <td>account</td>\n",
       "      <td>fee</td>\n",
       "      <td>interest</td>\n",
       "      <td>limit</td>\n",
       "      <td>score</td>\n",
       "      <td>year</td>\n",
       "      <td>purchase</td>\n",
       "      <td>month</td>\n",
       "      <td>point</td>\n",
       "      <td>offer</td>\n",
       "      <td>reason</td>\n",
       "    </tr>\n",
       "    <tr>\n",
       "      <th>Topic 3</th>\n",
       "      <td>payment</td>\n",
       "      <td>loan</td>\n",
       "      <td>mortgage</td>\n",
       "      <td>month</td>\n",
       "      <td>interest</td>\n",
       "      <td>modification</td>\n",
       "      <td>home</td>\n",
       "      <td>time</td>\n",
       "      <td>year</td>\n",
       "      <td>chase</td>\n",
       "      <td>balance</td>\n",
       "      <td>rate</td>\n",
       "      <td>amount</td>\n",
       "      <td>fee</td>\n",
       "      <td>wa</td>\n",
       "    </tr>\n",
       "    <tr>\n",
       "      <th>Topic 4</th>\n",
       "      <td>inquiry</td>\n",
       "      <td>report</td>\n",
       "      <td>credit</td>\n",
       "      <td>company</td>\n",
       "      <td>information</td>\n",
       "      <td>bureau</td>\n",
       "      <td>reporting</td>\n",
       "      <td>debt</td>\n",
       "      <td>score</td>\n",
       "      <td>identity</td>\n",
       "      <td>account</td>\n",
       "      <td>letter</td>\n",
       "      <td>theft</td>\n",
       "      <td>application</td>\n",
       "      <td>file</td>\n",
       "    </tr>\n",
       "    <tr>\n",
       "      <th>Topic 5</th>\n",
       "      <td>charge</td>\n",
       "      <td>transaction</td>\n",
       "      <td>dispute</td>\n",
       "      <td>merchant</td>\n",
       "      <td>claim</td>\n",
       "      <td>fraud</td>\n",
       "      <td>chase</td>\n",
       "      <td>wa</td>\n",
       "      <td>letter</td>\n",
       "      <td>company</td>\n",
       "      <td>email</td>\n",
       "      <td>phone</td>\n",
       "      <td>time</td>\n",
       "      <td>amount</td>\n",
       "      <td>information</td>\n",
       "    </tr>\n",
       "  </tbody>\n",
       "</table>\n",
       "</div>"
      ],
      "text/plain": [
       "          Word 1       Word 2    Word 3    Word 4       Word 5        Word 6  \\\n",
       "Topic 1  account        check     money      bank         fund      checking   \n",
       "Topic 2     card       credit   balance     chase      account           fee   \n",
       "Topic 3  payment         loan  mortgage     month     interest  modification   \n",
       "Topic 4  inquiry       report    credit   company  information        bureau   \n",
       "Topic 5   charge  transaction   dispute  merchant        claim         fraud   \n",
       "\n",
       "            Word 7   Word 8  Word 9   Word 10   Word 11 Word 12   Word 13  \\\n",
       "Topic 1      chase  deposit  branch       day       fee      wa  business   \n",
       "Topic 2   interest    limit   score      year  purchase   month     point   \n",
       "Topic 3       home     time    year     chase   balance    rate    amount   \n",
       "Topic 4  reporting     debt   score  identity   account  letter     theft   \n",
       "Topic 5      chase       wa  letter   company     email   phone      time   \n",
       "\n",
       "             Word 14      Word 15  \n",
       "Topic 1       number  transaction  \n",
       "Topic 2        offer       reason  \n",
       "Topic 3          fee           wa  \n",
       "Topic 4  application         file  \n",
       "Topic 5       amount  information  "
      ]
     },
     "execution_count": 42,
     "metadata": {},
     "output_type": "execute_result"
    }
   ],
   "source": [
    "#Print the Top15 words for each of the topics\n",
    "\n",
    "words = np.array(vectorizer.get_feature_names())\n",
    "topic_words = pd.DataFrame(np.zeros((num_topics, 15)), index=[f'Topic {i + 1}' for i in range(num_topics)],\n",
    "                           columns=[f'Word {i + 1}' for i in range(15)]).astype(str)\n",
    "for i in range(num_topics):\n",
    "    ix = H[i].argsort()[::-1][:15]\n",
    "    topic_words.iloc[i] = words[ix]\n",
    "\n",
    "topic_words"
   ]
  },
  {
   "cell_type": "code",
   "execution_count": 43,
   "metadata": {
    "id": "0OIT7LmFJrGF"
   },
   "outputs": [
    {
     "data": {
      "text/html": [
       "<div>\n",
       "<style scoped>\n",
       "    .dataframe tbody tr th:only-of-type {\n",
       "        vertical-align: middle;\n",
       "    }\n",
       "\n",
       "    .dataframe tbody tr th {\n",
       "        vertical-align: top;\n",
       "    }\n",
       "\n",
       "    .dataframe thead th {\n",
       "        text-align: right;\n",
       "    }\n",
       "</style>\n",
       "<table border=\"1\" class=\"dataframe\">\n",
       "  <thead>\n",
       "    <tr style=\"text-align: right;\">\n",
       "      <th></th>\n",
       "      <th>Topic 1</th>\n",
       "      <th>Topic 2</th>\n",
       "      <th>Topic 3</th>\n",
       "      <th>Topic 4</th>\n",
       "      <th>Topic 5</th>\n",
       "      <th>topic</th>\n",
       "    </tr>\n",
       "  </thead>\n",
       "  <tbody>\n",
       "    <tr>\n",
       "      <th>0</th>\n",
       "      <td>0.009745</td>\n",
       "      <td>0.000471</td>\n",
       "      <td>0.018311</td>\n",
       "      <td>0.018240</td>\n",
       "      <td>0.011905</td>\n",
       "      <td>Topic 3</td>\n",
       "    </tr>\n",
       "    <tr>\n",
       "      <th>1</th>\n",
       "      <td>0.009160</td>\n",
       "      <td>0.000000</td>\n",
       "      <td>0.004617</td>\n",
       "      <td>0.004844</td>\n",
       "      <td>0.007121</td>\n",
       "      <td>Topic 1</td>\n",
       "    </tr>\n",
       "    <tr>\n",
       "      <th>2</th>\n",
       "      <td>0.000622</td>\n",
       "      <td>0.010995</td>\n",
       "      <td>0.000000</td>\n",
       "      <td>0.031244</td>\n",
       "      <td>0.002471</td>\n",
       "      <td>Topic 4</td>\n",
       "    </tr>\n",
       "    <tr>\n",
       "      <th>3</th>\n",
       "      <td>0.017409</td>\n",
       "      <td>0.030820</td>\n",
       "      <td>0.002594</td>\n",
       "      <td>0.047968</td>\n",
       "      <td>0.009008</td>\n",
       "      <td>Topic 4</td>\n",
       "    </tr>\n",
       "    <tr>\n",
       "      <th>4</th>\n",
       "      <td>0.051596</td>\n",
       "      <td>0.000000</td>\n",
       "      <td>0.001956</td>\n",
       "      <td>0.000000</td>\n",
       "      <td>0.002962</td>\n",
       "      <td>Topic 1</td>\n",
       "    </tr>\n",
       "    <tr>\n",
       "      <th>5</th>\n",
       "      <td>0.000000</td>\n",
       "      <td>0.000000</td>\n",
       "      <td>0.000000</td>\n",
       "      <td>0.128476</td>\n",
       "      <td>0.000000</td>\n",
       "      <td>Topic 4</td>\n",
       "    </tr>\n",
       "    <tr>\n",
       "      <th>6</th>\n",
       "      <td>0.063800</td>\n",
       "      <td>0.005772</td>\n",
       "      <td>0.013157</td>\n",
       "      <td>0.000000</td>\n",
       "      <td>0.000153</td>\n",
       "      <td>Topic 1</td>\n",
       "    </tr>\n",
       "    <tr>\n",
       "      <th>7</th>\n",
       "      <td>0.004167</td>\n",
       "      <td>0.003057</td>\n",
       "      <td>0.059831</td>\n",
       "      <td>0.000094</td>\n",
       "      <td>0.009812</td>\n",
       "      <td>Topic 3</td>\n",
       "    </tr>\n",
       "    <tr>\n",
       "      <th>8</th>\n",
       "      <td>0.019110</td>\n",
       "      <td>0.000000</td>\n",
       "      <td>0.008851</td>\n",
       "      <td>0.018356</td>\n",
       "      <td>0.072389</td>\n",
       "      <td>Topic 5</td>\n",
       "    </tr>\n",
       "    <tr>\n",
       "      <th>9</th>\n",
       "      <td>0.000000</td>\n",
       "      <td>0.064884</td>\n",
       "      <td>0.000000</td>\n",
       "      <td>0.084656</td>\n",
       "      <td>0.000000</td>\n",
       "      <td>Topic 4</td>\n",
       "    </tr>\n",
       "  </tbody>\n",
       "</table>\n",
       "</div>"
      ],
      "text/plain": [
       "    Topic 1   Topic 2   Topic 3   Topic 4   Topic 5    topic\n",
       "0  0.009745  0.000471  0.018311  0.018240  0.011905  Topic 3\n",
       "1  0.009160  0.000000  0.004617  0.004844  0.007121  Topic 1\n",
       "2  0.000622  0.010995  0.000000  0.031244  0.002471  Topic 4\n",
       "3  0.017409  0.030820  0.002594  0.047968  0.009008  Topic 4\n",
       "4  0.051596  0.000000  0.001956  0.000000  0.002962  Topic 1\n",
       "5  0.000000  0.000000  0.000000  0.128476  0.000000  Topic 4\n",
       "6  0.063800  0.005772  0.013157  0.000000  0.000153  Topic 1\n",
       "7  0.004167  0.003057  0.059831  0.000094  0.009812  Topic 3\n",
       "8  0.019110  0.000000  0.008851  0.018356  0.072389  Topic 5\n",
       "9  0.000000  0.064884  0.000000  0.084656  0.000000  Topic 4"
      ]
     },
     "execution_count": 43,
     "metadata": {},
     "output_type": "execute_result"
    }
   ],
   "source": [
    "#Create the best topic for each complaint in terms of integer value 0,1,2,3 & 4\n",
    "\n",
    "W = pd.DataFrame(W, columns=[f'Topic {i + 1}' for i in range(num_topics)])\n",
    "W['topic'] = W.apply(lambda x: x.idxmax(), axis=1)\n",
    "W.head(10)"
   ]
  },
  {
   "cell_type": "code",
   "execution_count": 44,
   "metadata": {
    "id": "peyYv-ORJrGF"
   },
   "outputs": [],
   "source": [
    "#Assign the best topic to each of the complaints in Topic Column\n",
    "#df_clean['Topic'] = #write your code to assign topics to each rows.\n",
    "df_clean['Topic'] = W['topic']"
   ]
  },
  {
   "cell_type": "code",
   "execution_count": 45,
   "metadata": {
    "id": "fLh_Gf3nJrGF"
   },
   "outputs": [
    {
     "data": {
      "text/html": [
       "<div>\n",
       "<style scoped>\n",
       "    .dataframe tbody tr th:only-of-type {\n",
       "        vertical-align: middle;\n",
       "    }\n",
       "\n",
       "    .dataframe tbody tr th {\n",
       "        vertical-align: top;\n",
       "    }\n",
       "\n",
       "    .dataframe thead th {\n",
       "        text-align: right;\n",
       "    }\n",
       "</style>\n",
       "<table border=\"1\" class=\"dataframe\">\n",
       "  <thead>\n",
       "    <tr style=\"text-align: right;\">\n",
       "      <th></th>\n",
       "      <th>complaint_what_happened</th>\n",
       "      <th>preprocessed_complaint</th>\n",
       "      <th>complaint_POS_removed</th>\n",
       "      <th>Complaint_clean</th>\n",
       "      <th>Complaint_clean_no_masking</th>\n",
       "      <th>Topic</th>\n",
       "    </tr>\n",
       "  </thead>\n",
       "  <tbody>\n",
       "    <tr>\n",
       "      <th>0</th>\n",
       "      <td>Good morning my name is XXXX XXXX and I appreciate it if you could help me put a stop to Chase Bank cardmember services. \\nIn 2018 I wrote to Chase asking for debt verification and what they sent me a statement which is not acceptable. I am asking the bank to validate the debt. Instead I been receiving mail every month from them attempting to collect a debt. \\nI have a right to know this information as a consumer. \\n\\nChase account # XXXX XXXX XXXX XXXX Thanks in advance for your help.</td>\n",
       "      <td>good morning my name is xxxx xxxx and i appreciate it if you could help me put a stop to chase bank cardmember service in i wrote to chase asking for debt verification and what they sent me a statement which is not acceptable i am asking the bank to validate the debt instead i been receiving mail every month from them attempting to collect a debt i have a right to know this information a a consumer chase account xxxx xxxx xxxx xxxx thanks in advance for your help</td>\n",
       "      <td>morning name stop debt verification statement bank debt mail month debt right information consumer chase thanks advance help</td>\n",
       "      <td>morning name stop debt verification statement bank debt mail month debt right information consumer chase thanks advance help</td>\n",
       "      <td>morning name stop debt verification statement bank debt mail month debt right information consumer chase thanks advance help</td>\n",
       "      <td>Topic 3</td>\n",
       "    </tr>\n",
       "    <tr>\n",
       "      <th>1</th>\n",
       "      <td>I upgraded my XXXX XXXX card in XX/XX/2018 and was told by the agent who did the upgrade my anniversary date would not change. It turned the agent was giving me the wrong information in order to upgrade the account. XXXX   changed my anniversary date from XX/XX/XXXX to XX/XX/XXXX without my consent! XXXX has the recording of the agent who was misled me.</td>\n",
       "      <td>i upgraded my xxxx xxxx card in xxxx and wa told by the agent who did the upgrade my anniversary date would not change it turned the agent wa giving me the wrong information in order to upgrade the account xxxx changed my anniversary date from xxxxxxxx to xxxxxxxx without my consent xxxx ha the recording of the agent who wa misled me</td>\n",
       "      <td>agent upgrade anniversary date agent information order account anniversary date xxxxxxxx xxxxxxxx consent xxxx recording agent</td>\n",
       "      <td>agent upgrade anniversary date agent information order account anniversary date xxxxxxxx xxxxxxxx consent xxxx recording agent</td>\n",
       "      <td>agent upgrade anniversary date agent information order account anniversary date   consent  recording agent</td>\n",
       "      <td>Topic 1</td>\n",
       "    </tr>\n",
       "    <tr>\n",
       "      <th>2</th>\n",
       "      <td>Chase Card was reported on XX/XX/2019. However, fraudulent application have been submitted my identity without my consent to fraudulently obtain services. Do not extend credit without verifying the identity of the applicant.</td>\n",
       "      <td>chase card wa reported on xxxx however fraudulent application have been submitted my identity without my consent to fraudulently obtain service do not extend credit without verifying the identity of the applicant</td>\n",
       "      <td>application identity consent service credit identity applicant</td>\n",
       "      <td>application identity consent service credit identity applicant</td>\n",
       "      <td>application identity consent service credit identity applicant</td>\n",
       "      <td>Topic 4</td>\n",
       "    </tr>\n",
       "  </tbody>\n",
       "</table>\n",
       "</div>"
      ],
      "text/plain": [
       "                                                                                                                                                                                                                                                                                                                                                                                                                                                                                      complaint_what_happened  \\\n",
       "0  Good morning my name is XXXX XXXX and I appreciate it if you could help me put a stop to Chase Bank cardmember services. \\nIn 2018 I wrote to Chase asking for debt verification and what they sent me a statement which is not acceptable. I am asking the bank to validate the debt. Instead I been receiving mail every month from them attempting to collect a debt. \\nI have a right to know this information as a consumer. \\n\\nChase account # XXXX XXXX XXXX XXXX Thanks in advance for your help.   \n",
       "1                                                                                                                                         I upgraded my XXXX XXXX card in XX/XX/2018 and was told by the agent who did the upgrade my anniversary date would not change. It turned the agent was giving me the wrong information in order to upgrade the account. XXXX   changed my anniversary date from XX/XX/XXXX to XX/XX/XXXX without my consent! XXXX has the recording of the agent who was misled me.   \n",
       "2                                                                                                                                                                                                                                                                            Chase Card was reported on XX/XX/2019. However, fraudulent application have been submitted my identity without my consent to fraudulently obtain services. Do not extend credit without verifying the identity of the applicant.   \n",
       "\n",
       "                                                                                                                                                                                                                                                                                                                                                                                                                                                                preprocessed_complaint  \\\n",
       "0  good morning my name is xxxx xxxx and i appreciate it if you could help me put a stop to chase bank cardmember service in i wrote to chase asking for debt verification and what they sent me a statement which is not acceptable i am asking the bank to validate the debt instead i been receiving mail every month from them attempting to collect a debt i have a right to know this information a a consumer chase account xxxx xxxx xxxx xxxx thanks in advance for your help   \n",
       "1                                                                                                                                      i upgraded my xxxx xxxx card in xxxx and wa told by the agent who did the upgrade my anniversary date would not change it turned the agent wa giving me the wrong information in order to upgrade the account xxxx changed my anniversary date from xxxxxxxx to xxxxxxxx without my consent xxxx ha the recording of the agent who wa misled me   \n",
       "2                                                                                                                                                                                                                                                                 chase card wa reported on xxxx however fraudulent application have been submitted my identity without my consent to fraudulently obtain service do not extend credit without verifying the identity of the applicant   \n",
       "\n",
       "                                                                                                            complaint_POS_removed  \\\n",
       "0    morning name stop debt verification statement bank debt mail month debt right information consumer chase thanks advance help   \n",
       "1  agent upgrade anniversary date agent information order account anniversary date xxxxxxxx xxxxxxxx consent xxxx recording agent   \n",
       "2                                                                  application identity consent service credit identity applicant   \n",
       "\n",
       "                                                                                                                  Complaint_clean  \\\n",
       "0    morning name stop debt verification statement bank debt mail month debt right information consumer chase thanks advance help   \n",
       "1  agent upgrade anniversary date agent information order account anniversary date xxxxxxxx xxxxxxxx consent xxxx recording agent   \n",
       "2                                                                  application identity consent service credit identity applicant   \n",
       "\n",
       "                                                                                                     Complaint_clean_no_masking  \\\n",
       "0  morning name stop debt verification statement bank debt mail month debt right information consumer chase thanks advance help   \n",
       "1                    agent upgrade anniversary date agent information order account anniversary date   consent  recording agent   \n",
       "2                                                                application identity consent service credit identity applicant   \n",
       "\n",
       "     Topic  \n",
       "0  Topic 3  \n",
       "1  Topic 1  \n",
       "2  Topic 4  "
      ]
     },
     "execution_count": 45,
     "metadata": {},
     "output_type": "execute_result"
    }
   ],
   "source": [
    "df_clean_duplicate = df_clean.copy(deep=True)\n",
    "df_clean.head(3)"
   ]
  },
  {
   "cell_type": "code",
   "execution_count": 46,
   "metadata": {
    "id": "aQKpufSPJrGG"
   },
   "outputs": [
    {
     "data": {
      "text/html": [
       "<div>\n",
       "<style scoped>\n",
       "    .dataframe tbody tr th:only-of-type {\n",
       "        vertical-align: middle;\n",
       "    }\n",
       "\n",
       "    .dataframe tbody tr th {\n",
       "        vertical-align: top;\n",
       "    }\n",
       "\n",
       "    .dataframe thead th {\n",
       "        text-align: right;\n",
       "    }\n",
       "</style>\n",
       "<table border=\"1\" class=\"dataframe\">\n",
       "  <thead>\n",
       "    <tr style=\"text-align: right;\">\n",
       "      <th></th>\n",
       "      <th>complaint_what_happened</th>\n",
       "      <th>preprocessed_complaint</th>\n",
       "      <th>complaint_POS_removed</th>\n",
       "      <th>Complaint_clean</th>\n",
       "      <th>Complaint_clean_no_masking</th>\n",
       "      <th>Topic</th>\n",
       "    </tr>\n",
       "  </thead>\n",
       "  <tbody>\n",
       "    <tr>\n",
       "      <th>12</th>\n",
       "      <td>I opened an account with chase bank on XXXX and used a code for XXXX bonus. I called to follow up on XX/XX/XXXX about the terms and was told everything was on the account and once I made XXXX direct deposit the bonus would be paid out in 10 days. As of XXXX I had made the required deposits and was told my account never had the coupon code applied and it was past the 21 days to do so, so no bonus would be paid.</td>\n",
       "      <td>i opened an account with chase bank on xxxx and used a code for xxxx bonus i called to follow up on xxxxxxxx about the term and wa told everything wa on the account and once i made xxxx direct deposit the bonus would be paid out in day a of xxxx i had made the required deposit and wa told my account never had the coupon code applied and it wa past the day to do so so no bonus would be paid</td>\n",
       "      <td>account code xxxxxxxx term account deposit bonus day deposit account coupon code day bonus</td>\n",
       "      <td>account code xxxxxxxx term account deposit bonus day deposit account coupon code day bonus</td>\n",
       "      <td>account code  term account deposit bonus day deposit account coupon code day bonus</td>\n",
       "      <td>Topic 1</td>\n",
       "    </tr>\n",
       "    <tr>\n",
       "      <th>1</th>\n",
       "      <td>I upgraded my XXXX XXXX card in XX/XX/2018 and was told by the agent who did the upgrade my anniversary date would not change. It turned the agent was giving me the wrong information in order to upgrade the account. XXXX   changed my anniversary date from XX/XX/XXXX to XX/XX/XXXX without my consent! XXXX has the recording of the agent who was misled me.</td>\n",
       "      <td>i upgraded my xxxx xxxx card in xxxx and wa told by the agent who did the upgrade my anniversary date would not change it turned the agent wa giving me the wrong information in order to upgrade the account xxxx changed my anniversary date from xxxxxxxx to xxxxxxxx without my consent xxxx ha the recording of the agent who wa misled me</td>\n",
       "      <td>agent upgrade anniversary date agent information order account anniversary date xxxxxxxx xxxxxxxx consent xxxx recording agent</td>\n",
       "      <td>agent upgrade anniversary date agent information order account anniversary date xxxxxxxx xxxxxxxx consent xxxx recording agent</td>\n",
       "      <td>agent upgrade anniversary date agent information order account anniversary date   consent  recording agent</td>\n",
       "      <td>Topic 1</td>\n",
       "    </tr>\n",
       "    <tr>\n",
       "      <th>4</th>\n",
       "      <td>my grand son give me check for {$1600.00} i deposit it into my chase account after fund clear my chase bank closed my account never paid me my money they said they need to speek with my grand son check was clear money was taking by my chase bank refuse to pay me my money my grand son called chase 2 times they told him i should call not him to verify the check owner he is out the country most the time  date happen XX/XX/2018 check number XXXX claim number is XXXX with chase</td>\n",
       "      <td>my grand son give me check for i deposit it into my chase account after fund clear my chase bank closed my account never paid me my money they said they need to speek with my grand son check wa clear money wa taking by my chase bank refuse to pay me my money my grand son called chase time they told him i should call not him to verify the check owner he is out the country most the time date happen xxxx check number xxxx claim number is xxxx with chase</td>\n",
       "      <td>son chase account fund account money son money money son time check owner country time date xxxx number number</td>\n",
       "      <td>son chase account fund account money son money money son time check owner country time date xxxx number number</td>\n",
       "      <td>son chase account fund account money son money money son time check owner country time date  number number</td>\n",
       "      <td>Topic 1</td>\n",
       "    </tr>\n",
       "    <tr>\n",
       "      <th>6</th>\n",
       "      <td>With out notice J.P. Morgan Chase restricted my account by my debit card Tuesday XX/XX/2019. On Thursday XX/XX/2019 I went into A branch after being advised by a customer service representative that my account would actually be closed. I went into the branch to see how I can remove the funds that are in there currently in as well as if my direct deposit from my place of employment would be returned. The bank associate and the customer service representative assured me that the funds would Post but they may take an additional business day. That Saturday I attempted to go inside of a branch yet again to retrieve my funds that actually did post on Friday, XX/XX/2019. Upon looking at my account I realize that the funds have been reversed and no longer were present on my current statement. Ive been called and I was told that it may take two business day stating Tuesday, XX/XX/XXXX would be the date that my funds would be available to withdraw from a bank teller only. Now, Chase is informing me that I will be mailed a check into the three business days to recover the funds that are owed to me and left in my account currently. Unfortunately, This has put me in an additional financial bind do two fees from late rent late car payments, etc. I am not being a short or giving written notice that these things will actually occur so that I have peace of mind in fact Chase has handled my situation grossly I even had a bank teller inform me that my account looks suspicious after giving me a suspicious look myself. Although I know that Chase reserves the right to close my account at any time I do believe that their protocol has been in the past to give notice in the form of a written document. I am not being a shored or giving written notice that these things will actually occur so that I have peace of mind in fact Chase has handled my situation grossly I even had a bank teller inform me that my account looks suspicious after giving me a suspicious look myself. Although I know that Chase reserves the right to close my account at any time I do believe that their protocol has been in the past to give notice in the form of a written document. This situation is truly affecting my livelihood and they dont seem to want to deal with Me professionally. Thank you</td>\n",
       "      <td>with out notice jp morgan chase restricted my account by my debit card tuesday xxxx on thursday xxxx i went into a branch after being advised by a customer service representative that my account would actually be closed i went into the branch to see how i can remove the fund that are in there currently in a well a if my direct deposit from my place of employment would be returned the bank associate and the customer service representative assured me that the fund would post but they may take an additional business day that saturday i attempted to go inside of a branch yet again to retrieve my fund that actually did post on friday xxxx upon looking at my account i realize that the fund have been reversed and no longer were present on my current statement ive been called and i wa told that it may take two business day stating tuesday xxxxxxxx would be the date that my fund would be available to withdraw from a bank teller only now chase is informing me that i will be mailed a check into the three business day to recover the fund that are owed to me and left in my account currently unfortunately this ha put me in an additional financial bind do two fee from late rent late car payment etc i am not being a short or giving written notice that these thing will actually occur so that i have peace of mind in fact chase ha handled my situation grossly i even had a bank teller inform me that my account look suspicious after giving me a suspicious look myself although i know that chase reserve the right to close my account at any time i do believe that their protocol ha been in the past to give notice in the form of a written document i am not being a shored or giving written notice that these thing will actually occur so that i have peace of mind in fact chase ha handled my situation grossly i even had a bank teller inform me that my account look suspicious after giving me a suspicious look myself although i know that chase reserve the right to close my account at any time i do believe that their protocol ha been in the past to give notice in the form of a written document this situation is truly affecting my livelihood and they dont seem to want to deal with me professionally thank you</td>\n",
       "      <td>notice account debit card branch customer service representative account branch fund well deposit place employment bank associate customer service representative fund business day branch fund post account fund statement business day date fund bank teller check business day fund account bind fee rent car payment notice thing peace mind fact situation bank teller account look chase right account time protocol past notice form document notice thing peace mind fact situation bank teller account look chase right account time protocol past notice form document situation livelihood</td>\n",
       "      <td>notice account debit card branch customer service representative account branch fund well deposit place employment bank associate customer service representative fund business day branch fund post account fund statement business day date fund bank teller check business day fund account bind fee rent car payment notice thing peace mind fact situation bank teller account look chase right account time protocol past notice form document notice thing peace mind fact situation bank teller account look chase right account time protocol past notice form document situation livelihood</td>\n",
       "      <td>notice account debit card branch customer service representative account branch fund well deposit place employment bank associate customer service representative fund business day branch fund post account fund statement business day date fund bank teller check business day fund account bind fee rent car payment notice thing peace mind fact situation bank teller account look chase right account time protocol past notice form document notice thing peace mind fact situation bank teller account look chase right account time protocol past notice form document situation livelihood</td>\n",
       "      <td>Topic 1</td>\n",
       "    </tr>\n",
       "    <tr>\n",
       "      <th>10</th>\n",
       "      <td>mishandling of this account by Chase auto and XXXX.</td>\n",
       "      <td>mishandling of this account by chase auto and xxxx</td>\n",
       "      <td>account</td>\n",
       "      <td>account</td>\n",
       "      <td>account</td>\n",
       "      <td>Topic 1</td>\n",
       "    </tr>\n",
       "    <tr>\n",
       "      <th>25</th>\n",
       "      <td>I currently have over XXXX Chase Ultimate Rewards points, which are worth at least {$7500.00}. \\n\\nAround XX/XX/2018 ( 4 months ago ), when I tried to access my Chase Ultimate Rewards account ( or even activate the 5 % bonus on Chase Freedom ), I would get shown this page that says \" We are unable to complete your request at this time '' ( image attached as well ) : XXXX : XXXX At first I thought it was just a temporary error ( which isn't uncommon for Chase ), but after 2 weeks this was still happening, so I called customer support. They opened a ticket, got escalated to their tech team, but when I would call back to find out what happened, they told me that the case had been closed. This happened 3 times, and each call has taken a lot of time to explain the situation and verify a bunch of information. \\n\\nGoing from ultimaterewards.com and chase.com have the  same result. \\n\\nI'm not able to use these points by phone either, because the operators for the Travel Center are not able to access my account/points neither. \\n\\nI've tried every browser, both XXXX and XXXX computers, and the XXXX Chase phone application. They all send me to the page that says \" We are unable to complete your request at this time '' On XX/XX/XXXX, I looked up some people that work in Ultimate Rewards on XXXX, and cold called a VP of Customer Relations. He acted like he was helpful at first, and we exchanged some emails. He eventually said I can buy a flight/hotel using Chase Sapphire and if I give him the details, he will deduct the appropriate points and credit my credit card for the purchase. \\n\\nLong story short, he wasn't able to fix anything. \\n\\nI can see that I'm still collecting points, but I haven't been able to access it. \\n\\nI travel a lot, and it's become a huge inconvenience that I'm not able to access these points which I intended to use for travel. I need to get this issue resolved ASAP.</td>\n",
       "      <td>i currently have over xxxx chase ultimate reward point which are worth at least around xxxx month ago when i tried to access my chase ultimate reward account or even activate the bonus on chase freedom i would get shown this page that say we are unable to complete your request at this time image attached a well xxxx xxxx at first i thought it wa just a temporary error which isnt uncommon for chase but after week this wa still happening so i called customer support they opened a ticket got escalated to their tech team but when i would call back to find out what happened they told me that the case had been closed this happened time and each call ha taken a lot of time to explain the situation and verify a bunch of information going from ultimaterewardscom and chasecom have the same result im not able to use these point by phone either because the operator for the travel center are not able to access my accountpoints neither ive tried every browser both xxxx and xxxx computer and the xxxx chase phone application they all send me to the page that say we are unable to complete your request at this time on xxxxxxxx i looked up some people that work in ultimate reward on xxxx and cold called a vp of customer relation he acted like he wa helpful at first and we exchanged some email he eventually said i can buy a flighthotel using chase sapphire and if i give him the detail he will deduct the appropriate point and credit my credit card for the purchase long story short he wasnt able to fix anything i can see that im still collecting point but i havent been able to access it i travel a lot and it become a huge inconvenience that im not able to access these point which i intended to use for travel i need to get this issue resolved asap</td>\n",
       "      <td>reward point month chase reward account bonus freedom page request time image error chase week wa customer support ticket tech team case time lot time situation bunch information result point phone operator travel center accountpoints browser phone application page request time people reward vp customer relation email flighthotel detail point credit credit card purchase story point lot inconvenience point travel issue asap</td>\n",
       "      <td>reward point month chase reward account bonus freedom page request time image error chase week wa customer support ticket tech team case time lot time situation bunch information result point phone operator travel center accountpoints browser phone application page request time people reward vp customer relation email flighthotel detail point credit credit card purchase story point lot inconvenience point travel issue asap</td>\n",
       "      <td>reward point month chase reward account bonus freedom page request time image error chase week wa customer support ticket tech team case time lot time situation bunch information result point phone operator travel center accountpoints browser phone application page request time people reward vp customer relation email flighthotel detail point credit credit card purchase story point lot inconvenience point travel issue asap</td>\n",
       "      <td>Topic 2</td>\n",
       "    </tr>\n",
       "    <tr>\n",
       "      <th>22</th>\n",
       "      <td>My roommate was stealing my Chase debit card and drivers license ; pretending to be me and withdrawing money from my account. He admitted that he figured out my pin because it happens to be the same as my phone password. \\n\\nHe also admitted that he would sneak into my room while I was sleeping and put the card back before I woke up. \\n\\nHe apologized but says he spent the money. I tried to dispute this with Chase but they claim that since my debit card PIN number was used that they cant prove it wasnt me. \\n\\nAlthough they advertise that I have 100 % Fraud Protection they refuse to give me my money back. \\n\\nATM Withdrawl - XX/XX/XXXX - {$200.00} ATM Withdrawl - XX/XX/XXXX - {$200.00} ATM Withdrawl - XX/XX/XXXX - {$280.00} ATM Withdrawl - XX/XX/XXXX - {$240.00} ATM Withdrawl - XX/XX/XXXX - {$2500.00} ATM Withdrawl - XX/XX/XXXX - {$980.00}</td>\n",
       "      <td>my roommate wa stealing my chase debit card and driver license pretending to be me and withdrawing money from my account he admitted that he figured out my pin because it happens to be the same a my phone password he also admitted that he would sneak into my room while i wa sleeping and put the card back before i woke up he apologized but say he spent the money i tried to dispute this with chase but they claim that since my debit card pin number wa used that they cant prove it wasnt me although they advertise that i have fraud protection they refuse to give me my money back atm withdrawl xxxxxxxx atm withdrawl xxxxxxxx atm withdrawl xxxxxxxx atm withdrawl xxxxxxxx atm withdrawl xxxxxxxx atm withdrawl xxxxxxxx</td>\n",
       "      <td>roommate debit card driver license money account pin phone password room card money chase debit card pin number fraud protection money</td>\n",
       "      <td>roommate debit card driver license money account pin phone password room card money chase debit card pin number fraud protection money</td>\n",
       "      <td>roommate debit card driver license money account pin phone password room card money chase debit card pin number fraud protection money</td>\n",
       "      <td>Topic 2</td>\n",
       "    </tr>\n",
       "    <tr>\n",
       "      <th>21</th>\n",
       "      <td>I AM A SENIOR CITIZEN THAT HAS BEEN SCAMMED BY SEVERAL COMPANIES FROM XXXX TO XXXX. I HAVE PAID OVER {$17000.00} TO THESE TIME SHARE COMPANIES AND THEY HAVE DID NOTHING AT ALL. THEY WERE ALL MISLEADING AND I HAVE TRIED TO GET A REFUND FROM THEM AND MY CREDIT CARD. I HAVE BEEN UNSUCCEFUL. I HAVE ALL THE INFORMATION ON EVERY COMPANY THAT I HAVE PAID.</td>\n",
       "      <td>i am a senior citizen that ha been scammed by several company from xxxx to xxxx i have paid over to these time share company and they have did nothing at all they were all misleading and i have tried to get a refund from them and my credit card i have been unsucceful i have all the information on every company that i have paid</td>\n",
       "      <td>citizen ha company time share company refund credit card information company</td>\n",
       "      <td>citizen ha company time share company refund credit card information company</td>\n",
       "      <td>citizen ha company time share company refund credit card information company</td>\n",
       "      <td>Topic 2</td>\n",
       "    </tr>\n",
       "    <tr>\n",
       "      <th>16</th>\n",
       "      <td>XXXX XXXX a sofa, love seat, table and chairs and was never delivered. Debit card charged {$2400.00}. Bank says Visa denied claim, we have no furniture and no money.</td>\n",
       "      <td>xxxx xxxx a sofa love seat table and chair and wa never delivered debit card charged bank say visa denied claim we have no furniture and no money</td>\n",
       "      <td>love seat table chair debit card furniture money</td>\n",
       "      <td>love seat table chair debit card furniture money</td>\n",
       "      <td>love seat table chair debit card furniture money</td>\n",
       "      <td>Topic 2</td>\n",
       "    </tr>\n",
       "    <tr>\n",
       "      <th>14</th>\n",
       "      <td>My chase amazon card was declined for a catering order I had placed for my brothers funeral in the amount of {$710.00}. I contacted chase around noon today XX/XX/2019 and was asked the last 4 numbers of my chase savings account and the other user on my account. I responded that I did not have a savings and I am only authorized user. Customer rep told me they would call me back in 10 minutes to keep the line open. I didnt receive a call back after an hour so I contacted chase. From the first call I thought someone was using my card fraudulently. I spoke to the rep who transferred me to a supervisor XXXX who said the card was activated and the transaction would process. Called the catering company and card was declined. I then used my XXXX  XXXX card to pay for the order. XXXX XXXX texted me asking if I was authorizing purchase and I responded yes. Contacted caterer and XXXX  XXXX was declined. I contacted chase again spoke to rep was told the initial questions are used to trick people to see what there answer would be. She told me the CVV code was incorrectly being input by the caterer and I responded that I had gone over the numbers and CVV used was correct. She told me the card was cleared for the purchase and she would monitor it for 24 hours. Called caterer - card declined. Use a MasterCard  which processed. Went to use chase amazon at restaurant at XXXX pm tonight in the amount of {$63.00} - it was declined. I was told by chase I was not over limit. Still frustrated figuring out multiple declines after several conversations with chase stating the card would be ok to use. Embarrassed as the caterer kept suggesting I was over my limit which I pay my card in full every month and chase confirmed that I was under my limit with the {$710.00} transaction. Never been declined by either chase or XXXX  XXXX before - today after multiple assurances that I was all set and card would be monitored to make sure transaction would clear - it never did</td>\n",
       "      <td>my chase amazon card wa declined for a catering order i had placed for my brother funeral in the amount of i contacted chase around noon today xxxx and wa asked the last number of my chase saving account and the other user on my account i responded that i did not have a saving and i am only authorized user customer rep told me they would call me back in minute to keep the line open i didnt receive a call back after an hour so i contacted chase from the first call i thought someone wa using my card fraudulently i spoke to the rep who transferred me to a supervisor xxxx who said the card wa activated and the transaction would process called the catering company and card wa declined i then used my xxxx xxxx card to pay for the order xxxx xxxx texted me asking if i wa authorizing purchase and i responded yes contacted caterer and xxxx xxxx wa declined i contacted chase again spoke to rep wa told the initial question are used to trick people to see what there answer would be she told me the cvv code wa incorrectly being input by the caterer and i responded that i had gone over the number and cvv used wa correct she told me the card wa cleared for the purchase and she would monitor it for hour called caterer card declined use a mastercard which processed went to use chase amazon at restaurant at xxxx pm tonight in the amount of it wa declined i wa told by chase i wa not over limit still frustrated figuring out multiple decline after several conversation with chase stating the card would be ok to use embarrassed a the caterer kept suggesting i wa over my limit which i pay my card in full every month and chase confirmed that i wa under my limit with the transaction never been declined by either chase or xxxx xxxx before today after multiple assurance that i wa all set and card would be monitored to make sure transaction would clear it never did</td>\n",
       "      <td>catering order brother funeral amount chase noon today number chase account user account saving user customer minute line call hour chase call wa card supervisor xxxx card wa transaction catering company card card order purchase caterer chase question people answer input caterer number card purchase hour caterer card mastercard chase restaurant tonight amount limit decline conversation card caterer limit card month limit transaction today assurance set card transaction</td>\n",
       "      <td>catering order brother funeral amount chase noon today number chase account user account saving user customer minute line call hour chase call wa card supervisor xxxx card wa transaction catering company card card order purchase caterer chase question people answer input caterer number card purchase hour caterer card mastercard chase restaurant tonight amount limit decline conversation card caterer limit card month limit transaction today assurance set card transaction</td>\n",
       "      <td>catering order brother funeral amount chase noon today number chase account user account saving user customer minute line call hour chase call wa card supervisor  card wa transaction catering company card card order purchase caterer chase question people answer input caterer number card purchase hour caterer card mastercard chase restaurant tonight amount limit decline conversation card caterer limit card month limit transaction today assurance set card transaction</td>\n",
       "      <td>Topic 2</td>\n",
       "    </tr>\n",
       "    <tr>\n",
       "      <th>30</th>\n",
       "      <td>I have wired through one of Chase branches in XXXX XXXX, the exact Reinstatement Amount of {$43000.00} to JPMorgan Chase Bank In order to remove/withdraw their wrongful foreclosure proceedings on my residential property.\\n\\nHowever, the Chase Executive Ms. XXXX XXXX, and it's trustee, XXXX XXXX XXXX XXXX are not honoring even their own rules and regulations, she wants the Total Payoff of {$100000.00} now in order to remove their wrongful foreclosure proceedings with Sales Date of XX/XX/2019 at XXXX XXXX on my family resident.\\n\\nShe knows I can not prepare XXXX in such a short time. That's why I asked for minimum reinstatement amount to avoid foreclosure without resorting to Chapter XXXX- bankruptcy filing.\\n\\nI appreciate you assistant in bringing JPMorgan Chase and it's foreclosure trustee, XXXX XXXX XXXX XXXX. \" Quality '' to their senses, and stop harassing my family with their fraudulent default claim as explained in my previous complaint about them on XX/XX/XXXX.\\n\\nMy previous complaint ID is. XXXX, submitted XX/XX/2019. Product : Mortgage Issue wrongful foreclosure.\\n\\nThank you, XXXX XXXX Tell : ( XXXX ) XXXX Email : XXXX XXXX</td>\n",
       "      <td>i have wired through one of chase branch in xxxx xxxx the exact reinstatement amount of to jpmorgan chase bank in order to removewithdraw their wrongful foreclosure proceeding on my residential property however the chase executive m xxxx xxxx and it trustee xxxx xxxx xxxx xxxx are not honoring even their own rule and regulation she want the total payoff of now in order to remove their wrongful foreclosure proceeding with sale date of xxxx at xxxx xxxx on my family resident she know i can not prepare xxxx in such a short time thats why i asked for minimum reinstatement amount to avoid foreclosure without resorting to chapter xxxx bankruptcy filing i appreciate you assistant in bringing jpmorgan chase and it foreclosure trustee xxxx xxxx xxxx xxxx quality to their sens and stop harassing my family with their fraudulent default claim a explained in my previous complaint about them on xxxxxxxx my previous complaint id is xxxx submitted xxxx product mortgage issue wrongful foreclosure thank you xxxx xxxx tell xxxx xxxx email xxxx xxxx</td>\n",
       "      <td>branch reinstatement amount order foreclosure property rule regulation payoff order foreclosure sale date family resident time reinstatement amount foreclosure chapter filing assistant sens family default claim complaint xxxxxxxx complaint d product mortgage issue foreclosure</td>\n",
       "      <td>branch reinstatement amount order foreclosure property rule regulation payoff order foreclosure sale date family resident time reinstatement amount foreclosure chapter filing assistant sens family default claim complaint xxxxxxxx complaint d product mortgage issue foreclosure</td>\n",
       "      <td>branch reinstatement amount order foreclosure property rule regulation payoff order foreclosure sale date family resident time reinstatement amount foreclosure chapter filing assistant sens family default claim complaint  complaint d product mortgage issue foreclosure</td>\n",
       "      <td>Topic 3</td>\n",
       "    </tr>\n",
       "    <tr>\n",
       "      <th>24</th>\n",
       "      <td>I made a purchase of {$260.00} on XX/XX/XXXX. I made payments of {$160.00} on XX/XX/XXXX and {$260.00} on XX/XX/XXXX. The minimum payment was {$140.00}. The closing date was XX/XX/XXXX ( please see attached statement ). That statement ( XX/XX/XXXX ) shows that I had an outstanding purchase balance of {$230.00} on XX/XX/XXXX. I have enclosed the previous months statement to show that there were NO other purchases prior to the one on XX/XX/XXXX. \\nHowever, when I got the XXXX statement, it shows that I still have a purchase balance of {$210.00}. I have a promotional balance (@XXXX ) in XXXX of {$6900.00}. In XXXX, the promotional balance was {$7200.00} - a difference of {$380.00}. \\n\\nApparently, the payment ( above the minimum payment required by Chase ) I thought would be applied to the purchase (@ 21.49 % ) was applied to the promotional balance first. It is my understanding that once the minimum payment has been met, payments in excess of the minimum would be applied to the highest interest rate balance first. This is not the first time that Chase has skirted US Financial Law to turn a larger profit. I need help in rectifying this problem, because my logic fell on deaf ears at Chase. Thank you in advance for your assistance. \\n\\nRespectfully, XXXX XXXX XXXX</td>\n",
       "      <td>i made a purchase of on xxxxxxxx i made payment of on xxxxxxxx and on xxxxxxxx the minimum payment wa the closing date wa xxxxxxxx please see attached statement that statement xxxxxxxx show that i had an outstanding purchase balance of on xxxxxxxx i have enclosed the previous month statement to show that there were no other purchase prior to the one on xxxxxxxx however when i got the xxxx statement it show that i still have a purchase balance of i have a promotional balance xxxx in xxxx of in xxxx the promotional balance wa a difference of apparently the payment above the minimum payment required by chase i thought would be applied to the purchase wa applied to the promotional balance first it is my understanding that once the minimum payment ha been met payment in excess of the minimum would be applied to the highest interest rate balance first this is not the first time that chase ha skirted u financial law to turn a larger profit i need help in rectifying this problem because my logic fell on deaf ear at chase thank you in advance for your assistance respectfully xxxx xxxx xxxx</td>\n",
       "      <td>purchase xxxxxxxx payment xxxxxxxx xxxxxxxx payment closing date xxxxxxxx statement statement purchase balance xxxxxxxx month statement purchase one xxxxxxxx statement purchase balance balance xxxx balance difference payment payment purchase wa balance understanding payment payment excess minimum interest rate balance time law profit help problem logic ear advance assistance</td>\n",
       "      <td>purchase xxxxxxxx payment xxxxxxxx xxxxxxxx payment closing date xxxxxxxx statement statement purchase balance xxxxxxxx month statement purchase one xxxxxxxx statement purchase balance balance xxxx balance difference payment payment purchase wa balance understanding payment payment excess minimum interest rate balance time law profit help problem logic ear advance assistance</td>\n",
       "      <td>purchase  payment   payment closing date  statement statement purchase balance  month statement purchase one  statement purchase balance balance  balance difference payment payment purchase wa balance understanding payment payment excess minimum interest rate balance time law profit help problem logic ear advance assistance</td>\n",
       "      <td>Topic 3</td>\n",
       "    </tr>\n",
       "    <tr>\n",
       "      <th>23</th>\n",
       "      <td>I have been trying to do a loan modification with Chase and all they do is give me the runaround I'm 72 mo behind they dont let me make payments I have aens all doc in but always asking more</td>\n",
       "      <td>i have been trying to do a loan modification with chase and all they do is give me the runaround im mo behind they dont let me make payment i have aens all doc in but always asking more</td>\n",
       "      <td>loan modification chase runaround mo payment aens doc</td>\n",
       "      <td>loan modification chase runaround mo payment aens doc</td>\n",
       "      <td>loan modification chase runaround mo payment aens doc</td>\n",
       "      <td>Topic 3</td>\n",
       "    </tr>\n",
       "    <tr>\n",
       "      <th>0</th>\n",
       "      <td>Good morning my name is XXXX XXXX and I appreciate it if you could help me put a stop to Chase Bank cardmember services. \\nIn 2018 I wrote to Chase asking for debt verification and what they sent me a statement which is not acceptable. I am asking the bank to validate the debt. Instead I been receiving mail every month from them attempting to collect a debt. \\nI have a right to know this information as a consumer. \\n\\nChase account # XXXX XXXX XXXX XXXX Thanks in advance for your help.</td>\n",
       "      <td>good morning my name is xxxx xxxx and i appreciate it if you could help me put a stop to chase bank cardmember service in i wrote to chase asking for debt verification and what they sent me a statement which is not acceptable i am asking the bank to validate the debt instead i been receiving mail every month from them attempting to collect a debt i have a right to know this information a a consumer chase account xxxx xxxx xxxx xxxx thanks in advance for your help</td>\n",
       "      <td>morning name stop debt verification statement bank debt mail month debt right information consumer chase thanks advance help</td>\n",
       "      <td>morning name stop debt verification statement bank debt mail month debt right information consumer chase thanks advance help</td>\n",
       "      <td>morning name stop debt verification statement bank debt mail month debt right information consumer chase thanks advance help</td>\n",
       "      <td>Topic 3</td>\n",
       "    </tr>\n",
       "    <tr>\n",
       "      <th>7</th>\n",
       "      <td>During the summer months, I experience a decline income due to my employment. Therefore, I request a one month payment extension with my Auto Loan Company, Chase. For the past almost fours years, my request for payment extension is granted. I have never been delinquent with my auto loan payment. However, On XX/XX/2019 my request for a one month payment extension was denied this year. I explained my situation to representative and the supervisor with no avail. After a lengthy discussion and waiting, I was informed the reason for the decline as it is not \" contractual ''. This reason for denial baffled me and therefore I emailed the office of XXXX XXXX Executive Director, Communications, JPMorgan Chase &amp; Co. A representative contacted me and stated Chase will follow-up. About week later a representative of XXXX XXXX XXXX XXXX office called. The representative shared her role was help resolve the matter. The representative via conference call contacted the department handing my request. After, reviewing my information my request was still denied based on \" policy changes ''. I requested an explanation and representative stated a letter will be mailed with explanation. I have received XXXX letters the reason for denial was not \" policy changes ''. I would like CFPB help in exploring the denial of my payment extension request especially since I have been clear reason for denial.</td>\n",
       "      <td>during the summer month i experience a decline income due to my employment therefore i request a one month payment extension with my auto loan company chase for the past almost four year my request for payment extension is granted i have never been delinquent with my auto loan payment however on xxxx my request for a one month payment extension wa denied this year i explained my situation to representative and the supervisor with no avail after a lengthy discussion and waiting i wa informed the reason for the decline a it is not contractual this reason for denial baffled me and therefore i emailed the office of xxxx xxxx executive director communication jpmorgan chase co a representative contacted me and stated chase will followup about week later a representative of xxxx xxxx xxxx xxxx office called the representative shared her role wa help resolve the matter the representative via conference call contacted the department handing my request after reviewing my information my request wa still denied based on policy change i requested an explanation and representative stated a letter will be mailed with explanation i have received xxxx letter the reason for denial wa not policy change i would like cfpb help in exploring the denial of my payment extension request especially since i have been clear reason for denial</td>\n",
       "      <td>summer month decline income employment month payment extension auto loan company chase past year request payment extension auto loan payment request month payment extension year situation representative supervisor avail discussion reason decline reason denial communication representative chase week representative representative role help matter representative conference call department request information request policy change explanation representative letter explanation letter reason denial policy change cfpb help denial payment extension request reason denial</td>\n",
       "      <td>summer month decline income employment month payment extension auto loan company chase past year request payment extension auto loan payment request month payment extension year situation representative supervisor avail discussion reason decline reason denial communication representative chase week representative representative role help matter representative conference call department request information request policy change explanation representative letter explanation letter reason denial policy change cfpb help denial payment extension request reason denial</td>\n",
       "      <td>summer month decline income employment month payment extension auto loan company chase past year request payment extension auto loan payment request month payment extension year situation representative supervisor avail discussion reason decline reason denial communication representative chase week representative representative role help matter representative conference call department request information request policy change explanation representative letter explanation letter reason denial policy change cfpb help denial payment extension request reason denial</td>\n",
       "      <td>Topic 3</td>\n",
       "    </tr>\n",
       "    <tr>\n",
       "      <th>11</th>\n",
       "      <td>I have reached out to XXXX several times in attempt to have this fraudulent inquiry removed I was told that I need to call and contact the original creditor that placed this inquiry on my report. I have made several attempts to get chase bank to contact the bureau and remove this inquiry that was not authorized by me. They seem to not be able to get me to the right person to take care of this issue no matter how many attempts I have made nobody seems to understand what I'm talkin about. I want chase bank to have this fraudulent inquiry removed from my credit report before I take legal action. I I have never requested any kind of credit with chase bank or hold any account with them. I have an iquiry from XX/XX/2019. I want this matter resolved.</td>\n",
       "      <td>i have reached out to xxxx several time in attempt to have this fraudulent inquiry removed i wa told that i need to call and contact the original creditor that placed this inquiry on my report i have made several attempt to get chase bank to contact the bureau and remove this inquiry that wa not authorized by me they seem to not be able to get me to the right person to take care of this issue no matter how many attempt i have made nobody seems to understand what im talkin about i want chase bank to have this fraudulent inquiry removed from my credit report before i take legal action i i have never requested any kind of credit with chase bank or hold any account with them i have an iquiry from xxxx i want this matter resolved</td>\n",
       "      <td>time attempt inquiry creditor inquiry report attempt bureau inquiry person care issue attempt talkin inquiry credit report action kind credit account iquiry matter</td>\n",
       "      <td>time attempt inquiry creditor inquiry report attempt bureau inquiry person care issue attempt talkin inquiry credit report action kind credit account iquiry matter</td>\n",
       "      <td>time attempt inquiry creditor inquiry report attempt bureau inquiry person care issue attempt talkin inquiry credit report action kind credit account iquiry matter</td>\n",
       "      <td>Topic 4</td>\n",
       "    </tr>\n",
       "    <tr>\n",
       "      <th>9</th>\n",
       "      <td>I have a Chase credit card which is incorrectly reporting data on my credit report. The company is not helping resolve the issue.</td>\n",
       "      <td>i have a chase credit card which is incorrectly reporting data on my credit report the company is not helping resolve the issue</td>\n",
       "      <td>credit card data credit report company issue</td>\n",
       "      <td>credit card data credit report company issue</td>\n",
       "      <td>credit card data credit report company issue</td>\n",
       "      <td>Topic 4</td>\n",
       "    </tr>\n",
       "    <tr>\n",
       "      <th>5</th>\n",
       "      <td>Can you please remove inquiry</td>\n",
       "      <td>can you please remove inquiry</td>\n",
       "      <td>inquiry</td>\n",
       "      <td>inquiry</td>\n",
       "      <td>inquiry</td>\n",
       "      <td>Topic 4</td>\n",
       "    </tr>\n",
       "    <tr>\n",
       "      <th>3</th>\n",
       "      <td>On XX/XX/2018, while trying to book a XXXX  XXXX  ticket, I came across an offer for {$300.00} to be applied towards the ticket if I applied for a rewards card. I put in my information for the offer and within less than a minute, was notified via the screen that a decision could not be made. I immediately contacted XXXX and was referred to Chase Bank. I then immediately contacted Chase bank within no more than 10minutes of getting the notification on the screen and I was told by the Chase representative I spoke with that my application was denied but she could not state why. I asked for more information about the XXXX  offer and she explained that even if I had been approved, the credit offer only gets applied after the first account statement and could not be used to purchase the ticket. I then explicitly told her I was glad I got denied and I was ABSOLUTELY no longer interested in the account. I asked that the application be withdrawn and the representative obliged. This all happened no later than 10mins after putting in the application on XX/XX/2018. Notwithstanding my explicit request not to proceed with the application and contrary to what I was told by the Chase representative, Chase did in fact go ahead to open a credit account in my name on XX/XX/2018. This is now being reported in my Credit Report and Chase has refused to correct this information on my credit report even though they went ahead to process an application which I did not consent to and out of their error.</td>\n",
       "      <td>on xxxx while trying to book a xxxx xxxx ticket i came across an offer for to be applied towards the ticket if i applied for a reward card i put in my information for the offer and within le than a minute wa notified via the screen that a decision could not be made i immediately contacted xxxx and wa referred to chase bank i then immediately contacted chase bank within no more than minute of getting the notification on the screen and i wa told by the chase representative i spoke with that my application wa denied but she could not state why i asked for more information about the xxxx offer and she explained that even if i had been approved the credit offer only get applied after the first account statement and could not be used to purchase the ticket i then explicitly told her i wa glad i got denied and i wa absolutely no longer interested in the account i asked that the application be withdrawn and the representative obliged this all happened no later than min after putting in the application on xxxx notwithstanding my explicit request not to proceed with the application and contrary to what i wa told by the chase representative chase did in fact go ahead to open a credit account in my name on xxxx this is now being reported in my credit report and chase ha refused to correct this information on my credit report even though they went ahead to process an application which i did not consent to and out of their error</td>\n",
       "      <td>ticket offer ticket reward card information offer minute wa screen decision bank minute notification screen representative application wa information credit offer account statement ticket account application representative application request application fact credit account name credit report information credit report application error</td>\n",
       "      <td>ticket offer ticket reward card information offer minute wa screen decision bank minute notification screen representative application wa information credit offer account statement ticket account application representative application request application fact credit account name credit report information credit report application error</td>\n",
       "      <td>ticket offer ticket reward card information offer minute wa screen decision bank minute notification screen representative application wa information credit offer account statement ticket account application representative application request application fact credit account name credit report information credit report application error</td>\n",
       "      <td>Topic 4</td>\n",
       "    </tr>\n",
       "    <tr>\n",
       "      <th>2</th>\n",
       "      <td>Chase Card was reported on XX/XX/2019. However, fraudulent application have been submitted my identity without my consent to fraudulently obtain services. Do not extend credit without verifying the identity of the applicant.</td>\n",
       "      <td>chase card wa reported on xxxx however fraudulent application have been submitted my identity without my consent to fraudulently obtain service do not extend credit without verifying the identity of the applicant</td>\n",
       "      <td>application identity consent service credit identity applicant</td>\n",
       "      <td>application identity consent service credit identity applicant</td>\n",
       "      <td>application identity consent service credit identity applicant</td>\n",
       "      <td>Topic 4</td>\n",
       "    </tr>\n",
       "    <tr>\n",
       "      <th>19</th>\n",
       "      <td>I made a purchase with XXXX XXXX XXXX on XX/XX/2019 in the amount of {$38.00}. I was charged twice for this transaction. I placed a disputes case with Chase bank on XX/XX/2019 when I noticed the charge on my account. I called back on Sunday, XX/XX/2019 about the provisional credit for the charge and again on Monday, XX/XX/2019. I was told the charge had to post before a provisional credit could be provided. I used my debt card on Monday, XX/XX/2019 then tried to use it again but it would not work. I went to Chase bank on XXXX XXXX XXXX in XXXX XXXX, Nevada and was told that my account was closed due to fraudulent activity. I was shocked because I had not reported fraud on my account. I later found out that I was being accused by the disputes department of placing a fraudulent disputes case for the duplicate charge from XXXX XXXX  XXXX. I later contacted XXXX XXXX  XXXX again and was told that they DID see a duplicate charge and would credit my account within 3 - 5  days. I contacted the chase disputes department again on Monday, XX/XX/XXXX. 2019 and explained thaXXXX XXXX XXXX XXXX would credit my account and that I did not like being accused of making a fraudulent disputes claim. The escalation manager did NOT care and told me that Chase decision on closing my account was final. I had been a customer of Chase for XXXX   years. My character has been challenged by the disputes agents and I consider this to be detrimental to my character and slander. \\n\\nI am NOT seeking to keep my account open with Chase BUT I also do NOT want Chase reporting that they closed my checking account involuntarily. \\n\\nOnce again, I do NOT want Chase to have the checking account that I had with them being reflecting on any public records as being closed as involuntary closure by Chase. \\n\\nI did nothing wrong by filing a disputes claim for the duplicate charge or any other disputes cases that were filed in the past.</td>\n",
       "      <td>i made a purchase with xxxx xxxx xxxx on xxxx in the amount of i wa charged twice for this transaction i placed a dispute case with chase bank on xxxx when i noticed the charge on my account i called back on sunday xxxx about the provisional credit for the charge and again on monday xxxx i wa told the charge had to post before a provisional credit could be provided i used my debt card on monday xxxx then tried to use it again but it would not work i went to chase bank on xxxx xxxx xxxx in xxxx xxxx nevada and wa told that my account wa closed due to fraudulent activity i wa shocked because i had not reported fraud on my account i later found out that i wa being accused by the dispute department of placing a fraudulent dispute case for the duplicate charge from xxxx xxxx xxxx i later contacted xxxx xxxx xxxx again and wa told that they did see a duplicate charge and would credit my account within day i contacted the chase dispute department again on monday xxxxxxxx and explained thaxxxx xxxx xxxx xxxx would credit my account and that i did not like being accused of making a fraudulent dispute claim the escalation manager did not care and told me that chase decision on closing my account wa final i had been a customer of chase for xxxx year my character ha been challenged by the dispute agent and i consider this to be detrimental to my character and slander i am not seeking to keep my account open with chase but i also do not want chase reporting that they closed my checking account involuntarily once again i do not want chase to have the checking account that i had with them being reflecting on any public record a being closed a involuntary closure by chase i did nothing wrong by filing a dispute claim for the duplicate charge or any other dispute case that were filed in the past</td>\n",
       "      <td>purchase amount transaction dispute case charge account credit charge charge credit debt card account activity fraud account dispute department dispute case charge charge account day dispute department xxxxxxxx account dispute claim escalation manager chase decision account customer chase year character dispute agent character slander account chase chase checking account chase checking account public record closure dispute claim charge dispute case past</td>\n",
       "      <td>purchase amount transaction dispute case charge account credit charge charge credit debt card account activity fraud account dispute department dispute case charge charge account day dispute department xxxxxxxx account dispute claim escalation manager chase decision account customer chase year character dispute agent character slander account chase chase checking account chase checking account public record closure dispute claim charge dispute case past</td>\n",
       "      <td>purchase amount transaction dispute case charge account credit charge charge credit debt card account activity fraud account dispute department dispute case charge charge account day dispute department  account dispute claim escalation manager chase decision account customer chase year character dispute agent character slander account chase chase checking account chase checking account public record closure dispute claim charge dispute case past</td>\n",
       "      <td>Topic 5</td>\n",
       "    </tr>\n",
       "    <tr>\n",
       "      <th>20</th>\n",
       "      <td>JP Morgan Chase Bank, please answer the following questions : 1. ) On XX/XX/XXXX, XX/XX/XXXX,XX/XX/XXXX, XX/XX/XXXX &amp; XX/XX/XXXX, JPMorgan Chase accessed information about me through XXXX XXXX XXXX , XXXX. \\n*What was the valid reason for accessing my personal information through XXXX XXXX XXXX , XXXX? \\n\\n2. ) The Chase Checking Account that was closed recently during XX/XX/XXXX had a routing or XXXX number of XXXX, according to checks and statements provided to me by Chase. \\nXXXX XXXX XXXX showed Chase reporting an XXXX routing number of XXXX, before and after I had disputed the XXXX number with Chase. \\n*Why do these two routing numbers not match? \\n\\n3. ) XX/XX/XXXX, I received a response, from XXXX XXXX XXXX XXXX, to a dispute about information Chase was providing on my report. Dispute case ID XXXX The information Chase had been submitting was deleted due to disputed info being incomplete, inaccurate or unverifiable. \\n*Is this true? \\n\\nOnce again, I have asked 3. ) * questions. \\n\\nI will send the CFPB copies of the information I have pertaining to the 3 questions in this complaint, via US Mail, which are the XXXX XXXX XXXX, XXXX reports I've received. \\n\\nThank you for your attention and humbly await your response,</td>\n",
       "      <td>jp morgan chase bank please answer the following question on xxxxxxxx xxxxxxxxxxxxxxxx xxxxxxxx xxxxxxxx jpmorgan chase accessed information about me through xxxx xxxx xxxx xxxx what wa the valid reason for accessing my personal information through xxxx xxxx xxxx xxxx the chase checking account that wa closed recently during xxxxxxxx had a routing or xxxx number of xxxx according to check and statement provided to me by chase xxxx xxxx xxxx showed chase reporting an xxxx routing number of xxxx before and after i had disputed the xxxx number with chase why do these two routing number not match xxxxxxxx i received a response from xxxx xxxx xxxx xxxx to a dispute about information chase wa providing on my report dispute case id xxxx the information chase had been submitting wa deleted due to disputed info being incomplete inaccurate or unverifiable is this true once again i have asked question i will send the cfpb copy of the information i have pertaining to the question in this complaint via u mail which are the xxxx xxxx xxxx xxxx report ive received thank you for your attention and humbly await your response</td>\n",
       "      <td>question information wa reason information account xxxxxxxx routing xxxx number check statement xxxx number number number response dispute information chase report dispute case information chase wa info question cfpb copy information question complaint u mail attention response</td>\n",
       "      <td>question information wa reason information account xxxxxxxx routing xxxx number check statement xxxx number number number response dispute information chase report dispute case information chase wa info question cfpb copy information question complaint u mail attention response</td>\n",
       "      <td>question information wa reason information account  routing  number check statement  number number number response dispute information chase report dispute case information chase wa info question cfpb copy information question complaint u mail attention response</td>\n",
       "      <td>Topic 5</td>\n",
       "    </tr>\n",
       "    <tr>\n",
       "      <th>8</th>\n",
       "      <td>On XXXX XX/XX/2019, I made a {$300.00} payment to an online retailer using Chase quick pay with XXXX on the Chase website. I realized that this was a scam website after no confirmation, product, or response to any inquiries regarding the order and contacted Chase to get more information about the transaction to attempt getting a refund through the retailers bank. \\n\\nI contacted Chase via a secured message on XX/XX/2019 explaining what happened and asked \" Is there a way to reverse this transaction, or do you have a contact at XXXX that can give me more information about the recipient? '' That XXXX, my message was reviewed and I received a response restating my original email and informing me that \" The transfer has been completed. However, as you mentioned that the website is a scam while we can handle most inquiries by email, some require the expertise of another team. In order to assist you better in regards to the refund we request you to call our Consumer Online Technical Support Team. '' I called the number listed in the email and explained my situation to then be transferred to the claims department. I was directed to call XXXX and ask them about the transaction because Chase did not have any information outside of what I provided when initiating the transfer. I felt like this agent was trying to get me to end the call as quickly as possible and I had to interrupt her closing script to ask for a contact number at XXXX and didn't have an opportunity to get any information about what the right questions would be to ask XXXX or what words and phrases I should use to get the information I was looking for. \\n\\nI called XXXX who's automated system initially directed me to call my bank because I used the banks app to initiate the transaction. I called XXXX again to navigate their menus and talk to a customer service agent. They told me that all of the information about the transaction would in Chase 's system because I used the banks app to perform the transaction. She stayed on the line with me until I understood everything that I should ask and had a better understanding of the situation. I ended the call and called chase again. \\n\\nWhen I called chase the second time, the agent tried to look up the information about the receiving bank but could not find any additional information. She then asked me why I needed this information and I explained my situation again. I was once again transferred to the claims department, who told me that I needed to contact XXXX to get the information I was looking for. After I told her that I had already contacted them, she finally admitted that there was nothing that she could do due to the nature of the transaction and that these types of transactions are not secured. She said that Chase had no information about the recipient other than the email address that I inputted and that the recipients banking information was not kept in the system. In both phone calls, they asked if I initiated that transaction, and used that to absolve themselves of all responsibility in regards to this matter. \\n\\nDuring this whole process, it felt like Chase was not transparent about their policies regarding these types of transactions nor were they helpful in helping me get any information about the situation. These transactions are advertised as a \" fast, safe and easy way to send money, '' but seem to be a dangerous way to do business. I feel deceived by Chase 's advertising and further victimized by the way I was treated by the members on their customer service team.</td>\n",
       "      <td>on xxxx xxxx i made a payment to an online retailer using chase quick pay with xxxx on the chase website i realized that this wa a scam website after no confirmation product or response to any inquiry regarding the order and contacted chase to get more information about the transaction to attempt getting a refund through the retailer bank i contacted chase via a secured message on xxxx explaining what happened and asked is there a way to reverse this transaction or do you have a contact at xxxx that can give me more information about the recipient that xxxx my message wa reviewed and i received a response restating my original email and informing me that the transfer ha been completed however a you mentioned that the website is a scam while we can handle most inquiry by email some require the expertise of another team in order to assist you better in regard to the refund we request you to call our consumer online technical support team i called the number listed in the email and explained my situation to then be transferred to the claim department i wa directed to call xxxx and ask them about the transaction because chase did not have any information outside of what i provided when initiating the transfer i felt like this agent wa trying to get me to end the call a quickly a possible and i had to interrupt her closing script to ask for a contact number at xxxx and didnt have an opportunity to get any information about what the right question would be to ask xxxx or what word and phrase i should use to get the information i wa looking for i called xxxx who automated system initially directed me to call my bank because i used the bank app to initiate the transaction i called xxxx again to navigate their menu and talk to a customer service agent they told me that all of the information about the transaction would in chase s system because i used the bank app to perform the transaction she stayed on the line with me until i understood everything that i should ask and had a better understanding of the situation i ended the call and called chase again when i called chase the second time the agent tried to look up the information about the receiving bank but could not find any additional information she then asked me why i needed this information and i explained my situation again i wa once again transferred to the claim department who told me that i needed to contact xxxx to get the information i wa looking for after i told her that i had already contacted them she finally admitted that there wa nothing that she could do due to the nature of the transaction and that these type of transaction are not secured she said that chase had no information about the recipient other than the email address that i inputted and that the recipient banking information wa not kept in the system in both phone call they asked if i initiated that transaction and used that to absolve themselves of all responsibility in regard to this matter during this whole process it felt like chase wa not transparent about their policy regarding these type of transaction nor were they helpful in helping me get any information about the situation these transaction are advertised a a fast safe and easy way to send money but seem to be a dangerous way to do business i feel deceived by chase s advertising and further victimized by the way i wa treated by the member on their customer service team</td>\n",
       "      <td>payment retailer pay website wa scam website confirmation product response inquiry order chase information transaction refund retailer bank chase message way transaction contact information recipient message wa response email transfer website scam inquiry email expertise team order regard refund consumer support team number email situation claim transaction information transfer agent call closing script contact number opportunity information question word phrase information system bank bank app transaction menu customer service agent information transaction system bank app transaction line understanding situation call time agent information bank information information situation claim department information nature transaction type transaction information recipient email address banking information system phone call transaction responsibility regard matter process chase policy type transaction information situation transaction way money way business advertising way member customer service team</td>\n",
       "      <td>payment retailer pay website wa scam website confirmation product response inquiry order chase information transaction refund retailer bank chase message way transaction contact information recipient message wa response email transfer website scam inquiry email expertise team order regard refund consumer support team number email situation claim transaction information transfer agent call closing script contact number opportunity information question word phrase information system bank bank app transaction menu customer service agent information transaction system bank app transaction line understanding situation call time agent information bank information information situation claim department information nature transaction type transaction information recipient email address banking information system phone call transaction responsibility regard matter process chase policy type transaction information situation transaction way money way business advertising way member customer service team</td>\n",
       "      <td>payment retailer pay website wa scam website confirmation product response inquiry order chase information transaction refund retailer bank chase message way transaction contact information recipient message wa response email transfer website scam inquiry email expertise team order regard refund consumer support team number email situation claim transaction information transfer agent call closing script contact number opportunity information question word phrase information system bank bank app transaction menu customer service agent information transaction system bank app transaction line understanding situation call time agent information bank information information situation claim department information nature transaction type transaction information recipient email address banking information system phone call transaction responsibility regard matter process chase policy type transaction information situation transaction way money way business advertising way member customer service team</td>\n",
       "      <td>Topic 5</td>\n",
       "    </tr>\n",
       "    <tr>\n",
       "      <th>31</th>\n",
       "      <td>My Dispute is for not receiving services listed below : -- One Night at the Hotel in XXXX {$730.00} for Friday XX/XX/2018. \\n-- Transportation to the Hotel {$170.00} for Friday XX/XX/2018. \\n-- Private City Tour of XXXX {$220.00} for Friday XX/XX/2018. \\n-- XXXX XXXX Private Tour {$150.00} for Friday XX/XX/2018. \\nGrand Total of {$1200.00} Reason for not receiving the services was that XXXX cancelled the flight from XXXX to XXXX for mechanical reasons. \\nI started the process for the of the refund thru XXXX XXXX, I was told by XXXX XXXX that I needed to request the refund thru XXXX, which I did, I requested the refund and was told by XXXX that since i didn't purchase the ticket directly thru them but it was done thru a 3rd party I needed to go thru XXXX XXXX, I went back to them and was told that they will not refund me. \\nI then started a dispute with my credit card Chase Visa for the charges, the Credit Card Dispute Department closed my dispute saying that the vendor stated that I did receive the services which is not true but my Credit card closed the dispute after several attempts by me to reopen the dispute.</td>\n",
       "      <td>my dispute is for not receiving service listed below one night at the hotel in xxxx for friday xxxx transportation to the hotel for friday xxxx private city tour of xxxx for friday xxxx xxxx xxxx private tour for friday xxxx grand total of reason for not receiving the service wa that xxxx cancelled the flight from xxxx to xxxx for mechanical reason i started the process for the of the refund thru xxxx xxxx i wa told by xxxx xxxx that i needed to request the refund thru xxxx which i did i requested the refund and wa told by xxxx that since i didnt purchase the ticket directly thru them but it wa done thru a rd party i needed to go thru xxxx xxxx i went back to them and wa told that they will not refund me i then started a dispute with my credit card chase visa for the charge the credit card dispute department closed my dispute saying that the vendor stated that i did receive the service which is not true but my credit card closed the dispute after several attempt by me to reopen the dispute</td>\n",
       "      <td>dispute service night hotel hotel tour tour total reason service wa flight reason process refund refund refund ticket party dispute credit card charge credit card dispute dispute vendor service credit card dispute attempt dispute</td>\n",
       "      <td>dispute service night hotel hotel tour tour total reason service wa flight reason process refund refund refund ticket party dispute credit card charge credit card dispute dispute vendor service credit card dispute attempt dispute</td>\n",
       "      <td>dispute service night hotel hotel tour tour total reason service wa flight reason process refund refund refund ticket party dispute credit card charge credit card dispute dispute vendor service credit card dispute attempt dispute</td>\n",
       "      <td>Topic 5</td>\n",
       "    </tr>\n",
       "    <tr>\n",
       "      <th>36</th>\n",
       "      <td>I pre-ordered an item on XX/XX/XXXX and paid {$350.00} with a Chase credit card. The merchant, XXXX XXXX, gave an estimated product shipment date of \" XX/XX/XXXX. '' After waiting for this item for a significant amount of time, I decided to cancel the order as it did not appear that the item would ever be completed and shipped. On XX/XX/XXXX, I requested a refund from the merchant, XXXX XXXX On XX/XX/XXXX, the merchant stated that my order was cancelled, and the refund would return to the original method of payment in five business days. The original method of payment was a Chase credit card that I had since closed. On XX/XX/XXXX, I sent a secure message to Chase requesting that the refund be transferred to one of my open Chase cards. I also followed up with a phone call that same week, and the representative I spoke to informed me that funds that are sent to closed accounts would be sent via check through the mail and could not be transferred to any existing accounts. On XX/XX/XXXX, I received a letter from Chase indicating that my \" disputed charge '' would remain on my account and \" the merchant is not willing to credit your account. '' I followed up with a phone call to Chase describing that this was a refund, not a dispute. The representative informed me that they did not have access to closed accounts. I explained my previous attempts via phone and message to locate these funds. They informed me to try to send a secure message again this time emphasizing that the refund I am looking for is on a closed account and that the previous representative may have looked for the refund on a different account. On XX/XX/XXXX, I sent another secure message with this information as well as the emails I received from the merchant about the refund ( see Attachment ).  On XX/XX/XXXX, I received a letter from Chase with similar language about \" the merchant is not willing to credit your account '' and \" we consider the charge valid based on the results of our research '' ( see Attachment ). On XX/XX/XXXX, I followed up with the merchant, XXXX XXXX, requesting an alternate way to receive this refund given that my credit card company apparently can not locate the funds. On XX/XX/XXXX, the merchant provided a screenshot with their records that the funds had been refunded ( see Attachment ). This was my last exchange trying to resolve this between the credit card or the merchant.</td>\n",
       "      <td>i preordered an item on xxxxxxxx and paid with a chase credit card the merchant xxxx xxxx gave an estimated product shipment date of xxxxxxxx after waiting for this item for a significant amount of time i decided to cancel the order a it did not appear that the item would ever be completed and shipped on xxxxxxxx i requested a refund from the merchant xxxx xxxx on xxxxxxxx the merchant stated that my order wa cancelled and the refund would return to the original method of payment in five business day the original method of payment wa a chase credit card that i had since closed on xxxxxxxx i sent a secure message to chase requesting that the refund be transferred to one of my open chase card i also followed up with a phone call that same week and the representative i spoke to informed me that fund that are sent to closed account would be sent via check through the mail and could not be transferred to any existing account on xxxxxxxx i received a letter from chase indicating that my disputed charge would remain on my account and the merchant is not willing to credit your account i followed up with a phone call to chase describing that this wa a refund not a dispute the representative informed me that they did not have access to closed account i explained my previous attempt via phone and message to locate these fund they informed me to try to send a secure message again this time emphasizing that the refund i am looking for is on a closed account and that the previous representative may have looked for the refund on a different account on xxxxxxxx i sent another secure message with this information a well a the email i received from the merchant about the refund see attachment on xxxxxxxx i received a letter from chase with similar language about the merchant is not willing to credit your account and we consider the charge valid based on the result of our research see attachment on xxxxxxxx i followed up with the merchant xxxx xxxx requesting an alternate way to receive this refund given that my credit card company apparently can not locate the fund on xxxxxxxx the merchant provided a screenshot with their record that the fund had been refunded see attachment this wa my last exchange trying to resolve this between the credit card or the merchant</td>\n",
       "      <td>item xxxxxxxx chase credit card merchant product shipment date xxxxxxxx item amount time order item refund merchant merchant order wa refund method payment business day method payment chase credit card xxxxxxxx message refund chase card phone call week representative fund account check mail account letter chase charge account merchant account phone call wa refund dispute representative access account attempt phone message fund message time refund account representative refund account message information email merchant refund attachment letter chase language merchant account charge result research attachment xxxxxxxx merchant way refund credit card company fund merchant screenshot record fund see attachment exchange credit card merchant</td>\n",
       "      <td>item xxxxxxxx chase credit card merchant product shipment date xxxxxxxx item amount time order item refund merchant merchant order wa refund method payment business day method payment chase credit card xxxxxxxx message refund chase card phone call week representative fund account check mail account letter chase charge account merchant account phone call wa refund dispute representative access account attempt phone message fund message time refund account representative refund account message information email merchant refund attachment letter chase language merchant account charge result research attachment xxxxxxxx merchant way refund credit card company fund merchant screenshot record fund see attachment exchange credit card merchant</td>\n",
       "      <td>item  chase credit card merchant product shipment date  item amount time order item refund merchant merchant order wa refund method payment business day method payment chase credit card  message refund chase card phone call week representative fund account check mail account letter chase charge account merchant account phone call wa refund dispute representative access account attempt phone message fund message time refund account representative refund account message information email merchant refund attachment letter chase language merchant account charge result research attachment  merchant way refund credit card company fund merchant screenshot record fund see attachment exchange credit card merchant</td>\n",
       "      <td>Topic 5</td>\n",
       "    </tr>\n",
       "  </tbody>\n",
       "</table>\n",
       "</div>"
      ],
      "text/plain": [
       "                                                                                                                                                                                                                                                                                                                                                                                                                                                                                                                                                                                                                                                                                                                                                                                                                                                                                                                                                                                                                                                                                                                                                                                                                                                                                                                                                                                                                                                                                                                                                                                                                                                                                                                                                                                                                                                                                                                                                                                                                                                                                                                                                                                                                                                                                                                                                                                                                                                                                                                                                                                                                                                                                                                                                                                                                                                                                                                                                                                                                                                                                                                                                                                                                                                                                                                                                                                                                                                                                                                                                                                                                                                                          complaint_what_happened  \\\n",
       "12                                                                                                                                                                                                                                                                                                                                                                                                                                                                                                                                                                                                                                                                                                                                                                                                                                                                                                                                                                                                                                                                                                                                                                                                                                                                                                                                                                                                                                                                                                                                                                                                                                                                                                                                                                                                                                                                                                                                                                                                                                                                                                                                                                                                                                                                                                                                                                                                                                                                                                                                                                                                                                                                                                                                                                                                                                                                                                                                                                                                                                                                                                                                                                                                                                                                  I opened an account with chase bank on XXXX and used a code for XXXX bonus. I called to follow up on XX/XX/XXXX about the terms and was told everything was on the account and once I made XXXX direct deposit the bonus would be paid out in 10 days. As of XXXX I had made the required deposits and was told my account never had the coupon code applied and it was past the 21 days to do so, so no bonus would be paid.   \n",
       "1                                                                                                                                                                                                                                                                                                                                                                                                                                                                                                                                                                                                                                                                                                                                                                                                                                                                                                                                                                                                                                                                                                                                                                                                                                                                                                                                                                                                                                                                                                                                                                                                                                                                                                                                                                                                                                                                                                                                                                                                                                                                                                                                                                                                                                                                                                                                                                                                                                                                                                                                                                                                                                                                                                                                                                                                                                                                                                                                                                                                                                                                                                                                                                                                                                                                                                                             I upgraded my XXXX XXXX card in XX/XX/2018 and was told by the agent who did the upgrade my anniversary date would not change. It turned the agent was giving me the wrong information in order to upgrade the account. XXXX   changed my anniversary date from XX/XX/XXXX to XX/XX/XXXX without my consent! XXXX has the recording of the agent who was misled me.   \n",
       "4                                                                                                                                                                                                                                                                                                                                                                                                                                                                                                                                                                                                                                                                                                                                                                                                                                                                                                                                                                                                                                                                                                                                                                                                                                                                                                                                                                                                                                                                                                                                                                                                                                                                                                                                                                                                                                                                                                                                                                                                                                                                                                                                                                                                                                                                                                                                                                                                                                                                                                                                                                                                                                                                                                                                                                                                                                                                                                                                                                                                                                                                                                                                                                                                   my grand son give me check for {$1600.00} i deposit it into my chase account after fund clear my chase bank closed my account never paid me my money they said they need to speek with my grand son check was clear money was taking by my chase bank refuse to pay me my money my grand son called chase 2 times they told him i should call not him to verify the check owner he is out the country most the time  date happen XX/XX/2018 check number XXXX claim number is XXXX with chase   \n",
       "6                                                                                                                                                                                                                                                                                                                                                                                                                                                                                                                                                                                                                                                                                                                                                                                                                                                                                                                                                                                                                                                                                                                                                                                                                                                                                                                           With out notice J.P. Morgan Chase restricted my account by my debit card Tuesday XX/XX/2019. On Thursday XX/XX/2019 I went into A branch after being advised by a customer service representative that my account would actually be closed. I went into the branch to see how I can remove the funds that are in there currently in as well as if my direct deposit from my place of employment would be returned. The bank associate and the customer service representative assured me that the funds would Post but they may take an additional business day. That Saturday I attempted to go inside of a branch yet again to retrieve my funds that actually did post on Friday, XX/XX/2019. Upon looking at my account I realize that the funds have been reversed and no longer were present on my current statement. Ive been called and I was told that it may take two business day stating Tuesday, XX/XX/XXXX would be the date that my funds would be available to withdraw from a bank teller only. Now, Chase is informing me that I will be mailed a check into the three business days to recover the funds that are owed to me and left in my account currently. Unfortunately, This has put me in an additional financial bind do two fees from late rent late car payments, etc. I am not being a short or giving written notice that these things will actually occur so that I have peace of mind in fact Chase has handled my situation grossly I even had a bank teller inform me that my account looks suspicious after giving me a suspicious look myself. Although I know that Chase reserves the right to close my account at any time I do believe that their protocol has been in the past to give notice in the form of a written document. I am not being a shored or giving written notice that these things will actually occur so that I have peace of mind in fact Chase has handled my situation grossly I even had a bank teller inform me that my account looks suspicious after giving me a suspicious look myself. Although I know that Chase reserves the right to close my account at any time I do believe that their protocol has been in the past to give notice in the form of a written document. This situation is truly affecting my livelihood and they dont seem to want to deal with Me professionally. Thank you   \n",
       "10                                                                                                                                                                                                                                                                                                                                                                                                                                                                                                                                                                                                                                                                                                                                                                                                                                                                                                                                                                                                                                                                                                                                                                                                                                                                                                                                                                                                                                                                                                                                                                                                                                                                                                                                                                                                                                                                                                                                                                                                                                                                                                                                                                                                                                                                                                                                                                                                                                                                                                                                                                                                                                                                                                                                                                                                                                                                                                                                                                                                                                                                                                                                                                                                                                                                                                                                                                                                                                                                                                                                                                                                                                            mishandling of this account by Chase auto and XXXX.   \n",
       "25                                                                                                                                                                                                                                                                                                                                                                                                                                                                                                                                                                                                                                                                                                                                                                                                                                                                                                                                                                                                                                                                                                                                                                                                                                                                                                                                                                                                                                                                                                                                                                                                                                                                                                        I currently have over XXXX Chase Ultimate Rewards points, which are worth at least {$7500.00}. \\n\\nAround XX/XX/2018 ( 4 months ago ), when I tried to access my Chase Ultimate Rewards account ( or even activate the 5 % bonus on Chase Freedom ), I would get shown this page that says \" We are unable to complete your request at this time '' ( image attached as well ) : XXXX : XXXX At first I thought it was just a temporary error ( which isn't uncommon for Chase ), but after 2 weeks this was still happening, so I called customer support. They opened a ticket, got escalated to their tech team, but when I would call back to find out what happened, they told me that the case had been closed. This happened 3 times, and each call has taken a lot of time to explain the situation and verify a bunch of information. \\n\\nGoing from ultimaterewards.com and chase.com have the  same result. \\n\\nI'm not able to use these points by phone either, because the operators for the Travel Center are not able to access my account/points neither. \\n\\nI've tried every browser, both XXXX and XXXX computers, and the XXXX Chase phone application. They all send me to the page that says \" We are unable to complete your request at this time '' On XX/XX/XXXX, I looked up some people that work in Ultimate Rewards on XXXX, and cold called a VP of Customer Relations. He acted like he was helpful at first, and we exchanged some emails. He eventually said I can buy a flight/hotel using Chase Sapphire and if I give him the details, he will deduct the appropriate points and credit my credit card for the purchase. \\n\\nLong story short, he wasn't able to fix anything. \\n\\nI can see that I'm still collecting points, but I haven't been able to access it. \\n\\nI travel a lot, and it's become a huge inconvenience that I'm not able to access these points which I intended to use for travel. I need to get this issue resolved ASAP.   \n",
       "22                                                                                                                                                                                                                                                                                                                                                                                                                                                                                                                                                                                                                                                                                                                                                                                                                                                                                                                                                                                                                                                                                                                                                                                                                                                                                                                                                                                                                                                                                                                                                                                                                                                                                                                                                                                                                                                                                                                                                                                                                                                                                                                                                                                                                                                                                                                                                                                                                                                                                                                                                                                                                                                                                                                                                                                                            My roommate was stealing my Chase debit card and drivers license ; pretending to be me and withdrawing money from my account. He admitted that he figured out my pin because it happens to be the same as my phone password. \\n\\nHe also admitted that he would sneak into my room while I was sleeping and put the card back before I woke up. \\n\\nHe apologized but says he spent the money. I tried to dispute this with Chase but they claim that since my debit card PIN number was used that they cant prove it wasnt me. \\n\\nAlthough they advertise that I have 100 % Fraud Protection they refuse to give me my money back. \\n\\nATM Withdrawl - XX/XX/XXXX - {$200.00} ATM Withdrawl - XX/XX/XXXX - {$200.00} ATM Withdrawl - XX/XX/XXXX - {$280.00} ATM Withdrawl - XX/XX/XXXX - {$240.00} ATM Withdrawl - XX/XX/XXXX - {$2500.00} ATM Withdrawl - XX/XX/XXXX - {$980.00}   \n",
       "21                                                                                                                                                                                                                                                                                                                                                                                                                                                                                                                                                                                                                                                                                                                                                                                                                                                                                                                                                                                                                                                                                                                                                                                                                                                                                                                                                                                                                                                                                                                                                                                                                                                                                                                                                                                                                                                                                                                                                                                                                                                                                                                                                                                                                                                                                                                                                                                                                                                                                                                                                                                                                                                                                                                                                                                                                                                                                                                                                                                                                                                                                                                                                                                                                                                                                                                                 I AM A SENIOR CITIZEN THAT HAS BEEN SCAMMED BY SEVERAL COMPANIES FROM XXXX TO XXXX. I HAVE PAID OVER {$17000.00} TO THESE TIME SHARE COMPANIES AND THEY HAVE DID NOTHING AT ALL. THEY WERE ALL MISLEADING AND I HAVE TRIED TO GET A REFUND FROM THEM AND MY CREDIT CARD. I HAVE BEEN UNSUCCEFUL. I HAVE ALL THE INFORMATION ON EVERY COMPANY THAT I HAVE PAID.   \n",
       "16                                                                                                                                                                                                                                                                                                                                                                                                                                                                                                                                                                                                                                                                                                                                                                                                                                                                                                                                                                                                                                                                                                                                                                                                                                                                                                                                                                                                                                                                                                                                                                                                                                                                                                                                                                                                                                                                                                                                                                                                                                                                                                                                                                                                                                                                                                                                                                                                                                                                                                                                                                                                                                                                                                                                                                                                                                                                                                                                                                                                                                                                                                                                                                                                                                                                                                                                                                                                                                                                                                                          XXXX XXXX a sofa, love seat, table and chairs and was never delivered. Debit card charged {$2400.00}. Bank says Visa denied claim, we have no furniture and no money.   \n",
       "14                                                                                                                                                                                                                                                                                                                                                                                                                                                                                                                                                                                                                                                                                                                                                                                                                                                                                                                                                                                                                                                                                                                                                                                                                                                                                                                                                                                                                                                                                                                                                                                                                                           My chase amazon card was declined for a catering order I had placed for my brothers funeral in the amount of {$710.00}. I contacted chase around noon today XX/XX/2019 and was asked the last 4 numbers of my chase savings account and the other user on my account. I responded that I did not have a savings and I am only authorized user. Customer rep told me they would call me back in 10 minutes to keep the line open. I didnt receive a call back after an hour so I contacted chase. From the first call I thought someone was using my card fraudulently. I spoke to the rep who transferred me to a supervisor XXXX who said the card was activated and the transaction would process. Called the catering company and card was declined. I then used my XXXX  XXXX card to pay for the order. XXXX XXXX texted me asking if I was authorizing purchase and I responded yes. Contacted caterer and XXXX  XXXX was declined. I contacted chase again spoke to rep was told the initial questions are used to trick people to see what there answer would be. She told me the CVV code was incorrectly being input by the caterer and I responded that I had gone over the numbers and CVV used was correct. She told me the card was cleared for the purchase and she would monitor it for 24 hours. Called caterer - card declined. Use a MasterCard  which processed. Went to use chase amazon at restaurant at XXXX pm tonight in the amount of {$63.00} - it was declined. I was told by chase I was not over limit. Still frustrated figuring out multiple declines after several conversations with chase stating the card would be ok to use. Embarrassed as the caterer kept suggesting I was over my limit which I pay my card in full every month and chase confirmed that I was under my limit with the {$710.00} transaction. Never been declined by either chase or XXXX  XXXX before - today after multiple assurances that I was all set and card would be monitored to make sure transaction would clear - it never did   \n",
       "30                                                                                                                                                                                                                                                                                                                                                                                                                                                                                                                                                                                                                                                                                                                                                                                                                                                                                                                                                                                                                                                                                                                                                                                                                                                                                                                                                                                                                                                                                                                                                                                                                                                                                                                                                                                                                                                                                                                                                                                                                                                                                                                                                                                                                                                                                                                                                                                                                                                                                              I have wired through one of Chase branches in XXXX XXXX, the exact Reinstatement Amount of {$43000.00} to JPMorgan Chase Bank In order to remove/withdraw their wrongful foreclosure proceedings on my residential property.\\n\\nHowever, the Chase Executive Ms. XXXX XXXX, and it's trustee, XXXX XXXX XXXX XXXX are not honoring even their own rules and regulations, she wants the Total Payoff of {$100000.00} now in order to remove their wrongful foreclosure proceedings with Sales Date of XX/XX/2019 at XXXX XXXX on my family resident.\\n\\nShe knows I can not prepare XXXX in such a short time. That's why I asked for minimum reinstatement amount to avoid foreclosure without resorting to Chapter XXXX- bankruptcy filing.\\n\\nI appreciate you assistant in bringing JPMorgan Chase and it's foreclosure trustee, XXXX XXXX XXXX XXXX. \" Quality '' to their senses, and stop harassing my family with their fraudulent default claim as explained in my previous complaint about them on XX/XX/XXXX.\\n\\nMy previous complaint ID is. XXXX, submitted XX/XX/2019. Product : Mortgage Issue wrongful foreclosure.\\n\\nThank you, XXXX XXXX Tell : ( XXXX ) XXXX Email : XXXX XXXX   \n",
       "24                                                                                                                                                                                                                                                                                                                                                                                                                                                                                                                                                                                                                                                                                                                                                                                                                                                                                                                                                                                                                                                                                                                                                                                                                                                                                                                                                                                                                                                                                                                                                                                                                                                                                                                                                                                                                                                                                                                                                                                                                                                                                                                                                                                                                                                                                                                                                                I made a purchase of {$260.00} on XX/XX/XXXX. I made payments of {$160.00} on XX/XX/XXXX and {$260.00} on XX/XX/XXXX. The minimum payment was {$140.00}. The closing date was XX/XX/XXXX ( please see attached statement ). That statement ( XX/XX/XXXX ) shows that I had an outstanding purchase balance of {$230.00} on XX/XX/XXXX. I have enclosed the previous months statement to show that there were NO other purchases prior to the one on XX/XX/XXXX. \\nHowever, when I got the XXXX statement, it shows that I still have a purchase balance of {$210.00}. I have a promotional balance (@XXXX ) in XXXX of {$6900.00}. In XXXX, the promotional balance was {$7200.00} - a difference of {$380.00}. \\n\\nApparently, the payment ( above the minimum payment required by Chase ) I thought would be applied to the purchase (@ 21.49 % ) was applied to the promotional balance first. It is my understanding that once the minimum payment has been met, payments in excess of the minimum would be applied to the highest interest rate balance first. This is not the first time that Chase has skirted US Financial Law to turn a larger profit. I need help in rectifying this problem, because my logic fell on deaf ears at Chase. Thank you in advance for your assistance. \\n\\nRespectfully, XXXX XXXX XXXX   \n",
       "23                                                                                                                                                                                                                                                                                                                                                                                                                                                                                                                                                                                                                                                                                                                                                                                                                                                                                                                                                                                                                                                                                                                                                                                                                                                                                                                                                                                                                                                                                                                                                                                                                                                                                                                                                                                                                                                                                                                                                                                                                                                                                                                                                                                                                                                                                                                                                                                                                                                                                                                                                                                                                                                                                                                                                                                                                                                                                                                                                                                                                                                                                                                                                                                                                                                                                                                                                                                                                                                                                                 I have been trying to do a loan modification with Chase and all they do is give me the runaround I'm 72 mo behind they dont let me make payments I have aens all doc in but always asking more   \n",
       "0                                                                                                                                                                                                                                                                                                                                                                                                                                                                                                                                                                                                                                                                                                                                                                                                                                                                                                                                                                                                                                                                                                                                                                                                                                                                                                                                                                                                                                                                                                                                                                                                                                                                                                                                                                                                                                                                                                                                                                                                                                                                                                                                                                                                                                                                                                                                                                                                                                                                                                                                                                                                                                                                                                                                                                                                                                                                                                                                                                                                                                                                                                                                                                                      Good morning my name is XXXX XXXX and I appreciate it if you could help me put a stop to Chase Bank cardmember services. \\nIn 2018 I wrote to Chase asking for debt verification and what they sent me a statement which is not acceptable. I am asking the bank to validate the debt. Instead I been receiving mail every month from them attempting to collect a debt. \\nI have a right to know this information as a consumer. \\n\\nChase account # XXXX XXXX XXXX XXXX Thanks in advance for your help.   \n",
       "7                                                                                                                                                                                                                                                                                                                                                                                                                                                                                                                                                                                                                                                                                                                                                                                                                                                                                                                                                                                                                                                                                                                                                                                                                                                                                                                                                                                                                                                                                                                                                                                                                                                                                                                                                                                                                                                                                                                                                                                                                                                                                                                                                                                                                                            During the summer months, I experience a decline income due to my employment. Therefore, I request a one month payment extension with my Auto Loan Company, Chase. For the past almost fours years, my request for payment extension is granted. I have never been delinquent with my auto loan payment. However, On XX/XX/2019 my request for a one month payment extension was denied this year. I explained my situation to representative and the supervisor with no avail. After a lengthy discussion and waiting, I was informed the reason for the decline as it is not \" contractual ''. This reason for denial baffled me and therefore I emailed the office of XXXX XXXX Executive Director, Communications, JPMorgan Chase & Co. A representative contacted me and stated Chase will follow-up. About week later a representative of XXXX XXXX XXXX XXXX office called. The representative shared her role was help resolve the matter. The representative via conference call contacted the department handing my request. After, reviewing my information my request was still denied based on \" policy changes ''. I requested an explanation and representative stated a letter will be mailed with explanation. I have received XXXX letters the reason for denial was not \" policy changes ''. I would like CFPB help in exploring the denial of my payment extension request especially since I have been clear reason for denial.   \n",
       "11                                                                                                                                                                                                                                                                                                                                                                                                                                                                                                                                                                                                                                                                                                                                                                                                                                                                                                                                                                                                                                                                                                                                                                                                                                                                                                                                                                                                                                                                                                                                                                                                                                                                                                                                                                                                                                                                                                                                                                                                                                                                                                                                                                                                                                                                                                                                                                                                                                                                                                                                                                                                                                                                                                                                                                                                                                                                                                              I have reached out to XXXX several times in attempt to have this fraudulent inquiry removed I was told that I need to call and contact the original creditor that placed this inquiry on my report. I have made several attempts to get chase bank to contact the bureau and remove this inquiry that was not authorized by me. They seem to not be able to get me to the right person to take care of this issue no matter how many attempts I have made nobody seems to understand what I'm talkin about. I want chase bank to have this fraudulent inquiry removed from my credit report before I take legal action. I I have never requested any kind of credit with chase bank or hold any account with them. I have an iquiry from XX/XX/2019. I want this matter resolved.   \n",
       "9                                                                                                                                                                                                                                                                                                                                                                                                                                                                                                                                                                                                                                                                                                                                                                                                                                                                                                                                                                                                                                                                                                                                                                                                                                                                                                                                                                                                                                                                                                                                                                                                                                                                                                                                                                                                                                                                                                                                                                                                                                                                                                                                                                                                                                                                                                                                                                                                                                                                                                                                                                                                                                                                                                                                                                                                                                                                                                                                                                                                                                                                                                                                                                                                                                                                                                                                                                                                                                                                                                                                                               I have a Chase credit card which is incorrectly reporting data on my credit report. The company is not helping resolve the issue.   \n",
       "5                                                                                                                                                                                                                                                                                                                                                                                                                                                                                                                                                                                                                                                                                                                                                                                                                                                                                                                                                                                                                                                                                                                                                                                                                                                                                                                                                                                                                                                                                                                                                                                                                                                                                                                                                                                                                                                                                                                                                                                                                                                                                                                                                                                                                                                                                                                                                                                                                                                                                                                                                                                                                                                                                                                                                                                                                                                                                                                                                                                                                                                                                                                                                                                                                                                                                                                                                                                                                                                                                                                                                                                                                                                                   Can you please remove inquiry   \n",
       "3                                                                                                                                                                                                                                                                                                                                                                                                                                                                                                                                                                                                                                                                                                                                                                                                                                                                                                                                                                                                                                                                                                                                                                                                                                                                                                                                                                                                                                                                                                                                                                                                                                                                                                                                                                                                                                                                                                                                                                                                                                                                                                                                  On XX/XX/2018, while trying to book a XXXX  XXXX  ticket, I came across an offer for {$300.00} to be applied towards the ticket if I applied for a rewards card. I put in my information for the offer and within less than a minute, was notified via the screen that a decision could not be made. I immediately contacted XXXX and was referred to Chase Bank. I then immediately contacted Chase bank within no more than 10minutes of getting the notification on the screen and I was told by the Chase representative I spoke with that my application was denied but she could not state why. I asked for more information about the XXXX  offer and she explained that even if I had been approved, the credit offer only gets applied after the first account statement and could not be used to purchase the ticket. I then explicitly told her I was glad I got denied and I was ABSOLUTELY no longer interested in the account. I asked that the application be withdrawn and the representative obliged. This all happened no later than 10mins after putting in the application on XX/XX/2018. Notwithstanding my explicit request not to proceed with the application and contrary to what I was told by the Chase representative, Chase did in fact go ahead to open a credit account in my name on XX/XX/2018. This is now being reported in my Credit Report and Chase has refused to correct this information on my credit report even though they went ahead to process an application which I did not consent to and out of their error.   \n",
       "2                                                                                                                                                                                                                                                                                                                                                                                                                                                                                                                                                                                                                                                                                                                                                                                                                                                                                                                                                                                                                                                                                                                                                                                                                                                                                                                                                                                                                                                                                                                                                                                                                                                                                                                                                                                                                                                                                                                                                                                                                                                                                                                                                                                                                                                                                                                                                                                                                                                                                                                                                                                                                                                                                                                                                                                                                                                                                                                                                                                                                                                                                                                                                                                                                                                                                                                                                                                                                                                                Chase Card was reported on XX/XX/2019. However, fraudulent application have been submitted my identity without my consent to fraudulently obtain services. Do not extend credit without verifying the identity of the applicant.   \n",
       "19                                                                                                                                                                                                                                                                                                                                                                                                                                                                                                                                                                                                                                                                                                                                                                                                                                                                                                                                                                                                                                                                                                                                                                                                                                                                                                                                                                                                                                                                                                                                                                                                                                                                                         I made a purchase with XXXX XXXX XXXX on XX/XX/2019 in the amount of {$38.00}. I was charged twice for this transaction. I placed a disputes case with Chase bank on XX/XX/2019 when I noticed the charge on my account. I called back on Sunday, XX/XX/2019 about the provisional credit for the charge and again on Monday, XX/XX/2019. I was told the charge had to post before a provisional credit could be provided. I used my debt card on Monday, XX/XX/2019 then tried to use it again but it would not work. I went to Chase bank on XXXX XXXX XXXX in XXXX XXXX, Nevada and was told that my account was closed due to fraudulent activity. I was shocked because I had not reported fraud on my account. I later found out that I was being accused by the disputes department of placing a fraudulent disputes case for the duplicate charge from XXXX XXXX  XXXX. I later contacted XXXX XXXX  XXXX again and was told that they DID see a duplicate charge and would credit my account within 3 - 5  days. I contacted the chase disputes department again on Monday, XX/XX/XXXX. 2019 and explained thaXXXX XXXX XXXX XXXX would credit my account and that I did not like being accused of making a fraudulent disputes claim. The escalation manager did NOT care and told me that Chase decision on closing my account was final. I had been a customer of Chase for XXXX   years. My character has been challenged by the disputes agents and I consider this to be detrimental to my character and slander. \\n\\nI am NOT seeking to keep my account open with Chase BUT I also do NOT want Chase reporting that they closed my checking account involuntarily. \\n\\nOnce again, I do NOT want Chase to have the checking account that I had with them being reflecting on any public records as being closed as involuntary closure by Chase. \\n\\nI did nothing wrong by filing a disputes claim for the duplicate charge or any other disputes cases that were filed in the past.   \n",
       "20                                                                                                                                                                                                                                                                                                                                                                                                                                                                                                                                                                                                                                                                                                                                                                                                                                                                                                                                                                                                                                                                                                                                                                                                                                                                                                                                                                                                                                                                                                                                                                                                                                                                                                                                                                                                                                                                                                                                                                                                                                                                                                                                                                                                                                                                                                                                                                                                    JP Morgan Chase Bank, please answer the following questions : 1. ) On XX/XX/XXXX, XX/XX/XXXX,XX/XX/XXXX, XX/XX/XXXX & XX/XX/XXXX, JPMorgan Chase accessed information about me through XXXX XXXX XXXX , XXXX. \\n*What was the valid reason for accessing my personal information through XXXX XXXX XXXX , XXXX? \\n\\n2. ) The Chase Checking Account that was closed recently during XX/XX/XXXX had a routing or XXXX number of XXXX, according to checks and statements provided to me by Chase. \\nXXXX XXXX XXXX showed Chase reporting an XXXX routing number of XXXX, before and after I had disputed the XXXX number with Chase. \\n*Why do these two routing numbers not match? \\n\\n3. ) XX/XX/XXXX, I received a response, from XXXX XXXX XXXX XXXX, to a dispute about information Chase was providing on my report. Dispute case ID XXXX The information Chase had been submitting was deleted due to disputed info being incomplete, inaccurate or unverifiable. \\n*Is this true? \\n\\nOnce again, I have asked 3. ) * questions. \\n\\nI will send the CFPB copies of the information I have pertaining to the 3 questions in this complaint, via US Mail, which are the XXXX XXXX XXXX, XXXX reports I've received. \\n\\nThank you for your attention and humbly await your response,   \n",
       "8   On XXXX XX/XX/2019, I made a {$300.00} payment to an online retailer using Chase quick pay with XXXX on the Chase website. I realized that this was a scam website after no confirmation, product, or response to any inquiries regarding the order and contacted Chase to get more information about the transaction to attempt getting a refund through the retailers bank. \\n\\nI contacted Chase via a secured message on XX/XX/2019 explaining what happened and asked \" Is there a way to reverse this transaction, or do you have a contact at XXXX that can give me more information about the recipient? '' That XXXX, my message was reviewed and I received a response restating my original email and informing me that \" The transfer has been completed. However, as you mentioned that the website is a scam while we can handle most inquiries by email, some require the expertise of another team. In order to assist you better in regards to the refund we request you to call our Consumer Online Technical Support Team. '' I called the number listed in the email and explained my situation to then be transferred to the claims department. I was directed to call XXXX and ask them about the transaction because Chase did not have any information outside of what I provided when initiating the transfer. I felt like this agent was trying to get me to end the call as quickly as possible and I had to interrupt her closing script to ask for a contact number at XXXX and didn't have an opportunity to get any information about what the right questions would be to ask XXXX or what words and phrases I should use to get the information I was looking for. \\n\\nI called XXXX who's automated system initially directed me to call my bank because I used the banks app to initiate the transaction. I called XXXX again to navigate their menus and talk to a customer service agent. They told me that all of the information about the transaction would in Chase 's system because I used the banks app to perform the transaction. She stayed on the line with me until I understood everything that I should ask and had a better understanding of the situation. I ended the call and called chase again. \\n\\nWhen I called chase the second time, the agent tried to look up the information about the receiving bank but could not find any additional information. She then asked me why I needed this information and I explained my situation again. I was once again transferred to the claims department, who told me that I needed to contact XXXX to get the information I was looking for. After I told her that I had already contacted them, she finally admitted that there was nothing that she could do due to the nature of the transaction and that these types of transactions are not secured. She said that Chase had no information about the recipient other than the email address that I inputted and that the recipients banking information was not kept in the system. In both phone calls, they asked if I initiated that transaction, and used that to absolve themselves of all responsibility in regards to this matter. \\n\\nDuring this whole process, it felt like Chase was not transparent about their policies regarding these types of transactions nor were they helpful in helping me get any information about the situation. These transactions are advertised as a \" fast, safe and easy way to send money, '' but seem to be a dangerous way to do business. I feel deceived by Chase 's advertising and further victimized by the way I was treated by the members on their customer service team.   \n",
       "31                                                                                                                                                                                                                                                                                                                                                                                                                                                                                                                                                                                                                                                                                                                                                                                                                                                                                                                                                                                                                                                                                                                                                                                                                                                                                                                                                                                                                                                                                                                                                                                                                                                                                                                                                                                                                                                                                                                                                                                                                                                                                                                                                                                                                                                                                                                                                                                                                                                                                                                     My Dispute is for not receiving services listed below : -- One Night at the Hotel in XXXX {$730.00} for Friday XX/XX/2018. \\n-- Transportation to the Hotel {$170.00} for Friday XX/XX/2018. \\n-- Private City Tour of XXXX {$220.00} for Friday XX/XX/2018. \\n-- XXXX XXXX Private Tour {$150.00} for Friday XX/XX/2018. \\nGrand Total of {$1200.00} Reason for not receiving the services was that XXXX cancelled the flight from XXXX to XXXX for mechanical reasons. \\nI started the process for the of the refund thru XXXX XXXX, I was told by XXXX XXXX that I needed to request the refund thru XXXX, which I did, I requested the refund and was told by XXXX that since i didn't purchase the ticket directly thru them but it was done thru a 3rd party I needed to go thru XXXX XXXX, I went back to them and was told that they will not refund me. \\nI then started a dispute with my credit card Chase Visa for the charges, the Credit Card Dispute Department closed my dispute saying that the vendor stated that I did receive the services which is not true but my Credit card closed the dispute after several attempts by me to reopen the dispute.   \n",
       "36                                                                                                                                                                                                                                                                                                                                                                                                                                                                                                                                                                                                                                                                                                                                                                                                                                                                                                                                                                                                                                                                                                                                                                                         I pre-ordered an item on XX/XX/XXXX and paid {$350.00} with a Chase credit card. The merchant, XXXX XXXX, gave an estimated product shipment date of \" XX/XX/XXXX. '' After waiting for this item for a significant amount of time, I decided to cancel the order as it did not appear that the item would ever be completed and shipped. On XX/XX/XXXX, I requested a refund from the merchant, XXXX XXXX On XX/XX/XXXX, the merchant stated that my order was cancelled, and the refund would return to the original method of payment in five business days. The original method of payment was a Chase credit card that I had since closed. On XX/XX/XXXX, I sent a secure message to Chase requesting that the refund be transferred to one of my open Chase cards. I also followed up with a phone call that same week, and the representative I spoke to informed me that funds that are sent to closed accounts would be sent via check through the mail and could not be transferred to any existing accounts. On XX/XX/XXXX, I received a letter from Chase indicating that my \" disputed charge '' would remain on my account and \" the merchant is not willing to credit your account. '' I followed up with a phone call to Chase describing that this was a refund, not a dispute. The representative informed me that they did not have access to closed accounts. I explained my previous attempts via phone and message to locate these funds. They informed me to try to send a secure message again this time emphasizing that the refund I am looking for is on a closed account and that the previous representative may have looked for the refund on a different account. On XX/XX/XXXX, I sent another secure message with this information as well as the emails I received from the merchant about the refund ( see Attachment ).  On XX/XX/XXXX, I received a letter from Chase with similar language about \" the merchant is not willing to credit your account '' and \" we consider the charge valid based on the results of our research '' ( see Attachment ). On XX/XX/XXXX, I followed up with the merchant, XXXX XXXX, requesting an alternate way to receive this refund given that my credit card company apparently can not locate the funds. On XX/XX/XXXX, the merchant provided a screenshot with their records that the funds had been refunded ( see Attachment ). This was my last exchange trying to resolve this between the credit card or the merchant.   \n",
       "\n",
       "                                                                                                                                                                                                                                                                                                                                                                                                                                                                                                                                                                                                                                                                                                                                                                                                                                                                                                                                                                                                                                                                                                                                                                                                                                                                                                                                                                                                                                                                                                                                                                                                                                                                                                                                                                                                                                                                                                                                                                                                                                                                                                                                                                                                                                                                                                                                                                                                                                                                                                                                                                                                                                                                                                                                                                                                                                                                                                                                                                                                                                                                                                                                                                                                                                                                                                                                                                                                                                                                                                                                  preprocessed_complaint  \\\n",
       "12                                                                                                                                                                                                                                                                                                                                                                                                                                                                                                                                                                                                                                                                                                                                                                                                                                                                                                                                                                                                                                                                                                                                                                                                                                                                                                                                                                                                                                                                                                                                                                                                                                                                                                                                                                                                                                                                                                                                                                                                                                                                                                                                                                                                                                                                                                                                                                                                                                                                                                                                                                                                                                                                                                                                                                                                                                                                                                                                                                                                                                                                                                                                              i opened an account with chase bank on xxxx and used a code for xxxx bonus i called to follow up on xxxxxxxx about the term and wa told everything wa on the account and once i made xxxx direct deposit the bonus would be paid out in day a of xxxx i had made the required deposit and wa told my account never had the coupon code applied and it wa past the day to do so so no bonus would be paid   \n",
       "1                                                                                                                                                                                                                                                                                                                                                                                                                                                                                                                                                                                                                                                                                                                                                                                                                                                                                                                                                                                                                                                                                                                                                                                                                                                                                                                                                                                                                                                                                                                                                                                                                                                                                                                                                                                                                                                                                                                                                                                                                                                                                                                                                                                                                                                                                                                                                                                                                                                                                                                                                                                                                                                                                                                                                                                                                                                                                                                                                                                                                                                                                                                                                                                                        i upgraded my xxxx xxxx card in xxxx and wa told by the agent who did the upgrade my anniversary date would not change it turned the agent wa giving me the wrong information in order to upgrade the account xxxx changed my anniversary date from xxxxxxxx to xxxxxxxx without my consent xxxx ha the recording of the agent who wa misled me   \n",
       "4                                                                                                                                                                                                                                                                                                                                                                                                                                                                                                                                                                                                                                                                                                                                                                                                                                                                                                                                                                                                                                                                                                                                                                                                                                                                                                                                                                                                                                                                                                                                                                                                                                                                                                                                                                                                                                                                                                                                                                                                                                                                                                                                                                                                                                                                                                                                                                                                                                                                                                                                                                                                                                                                                                                                                                                                                                                                                                                                                                                                                                                                                 my grand son give me check for i deposit it into my chase account after fund clear my chase bank closed my account never paid me my money they said they need to speek with my grand son check wa clear money wa taking by my chase bank refuse to pay me my money my grand son called chase time they told him i should call not him to verify the check owner he is out the country most the time date happen xxxx check number xxxx claim number is xxxx with chase   \n",
       "6                                                                                                                                                                                                                                                                                                                                                                                                                                                                                                                                                                                                                                                                                                                                                                                                                                                                                                                                                                                                                                                                                                                                                                                                                                                  with out notice jp morgan chase restricted my account by my debit card tuesday xxxx on thursday xxxx i went into a branch after being advised by a customer service representative that my account would actually be closed i went into the branch to see how i can remove the fund that are in there currently in a well a if my direct deposit from my place of employment would be returned the bank associate and the customer service representative assured me that the fund would post but they may take an additional business day that saturday i attempted to go inside of a branch yet again to retrieve my fund that actually did post on friday xxxx upon looking at my account i realize that the fund have been reversed and no longer were present on my current statement ive been called and i wa told that it may take two business day stating tuesday xxxxxxxx would be the date that my fund would be available to withdraw from a bank teller only now chase is informing me that i will be mailed a check into the three business day to recover the fund that are owed to me and left in my account currently unfortunately this ha put me in an additional financial bind do two fee from late rent late car payment etc i am not being a short or giving written notice that these thing will actually occur so that i have peace of mind in fact chase ha handled my situation grossly i even had a bank teller inform me that my account look suspicious after giving me a suspicious look myself although i know that chase reserve the right to close my account at any time i do believe that their protocol ha been in the past to give notice in the form of a written document i am not being a shored or giving written notice that these thing will actually occur so that i have peace of mind in fact chase ha handled my situation grossly i even had a bank teller inform me that my account look suspicious after giving me a suspicious look myself although i know that chase reserve the right to close my account at any time i do believe that their protocol ha been in the past to give notice in the form of a written document this situation is truly affecting my livelihood and they dont seem to want to deal with me professionally thank you   \n",
       "10                                                                                                                                                                                                                                                                                                                                                                                                                                                                                                                                                                                                                                                                                                                                                                                                                                                                                                                                                                                                                                                                                                                                                                                                                                                                                                                                                                                                                                                                                                                                                                                                                                                                                                                                                                                                                                                                                                                                                                                                                                                                                                                                                                                                                                                                                                                                                                                                                                                                                                                                                                                                                                                                                                                                                                                                                                                                                                                                                                                                                                                                                                                                                                                                                                                                                                                                                                                                                                                                                                    mishandling of this account by chase auto and xxxx   \n",
       "25                                                                                                                                                                                                                                                                                                                                                                                                                                                                                                                                                                                                                                                                                                                                                                                                                                                                                                                                                                                                                                                                                                                                                                                                                                                                                                                                                                                                                                                                                                                                                                                                                                                                                                                            i currently have over xxxx chase ultimate reward point which are worth at least around xxxx month ago when i tried to access my chase ultimate reward account or even activate the bonus on chase freedom i would get shown this page that say we are unable to complete your request at this time image attached a well xxxx xxxx at first i thought it wa just a temporary error which isnt uncommon for chase but after week this wa still happening so i called customer support they opened a ticket got escalated to their tech team but when i would call back to find out what happened they told me that the case had been closed this happened time and each call ha taken a lot of time to explain the situation and verify a bunch of information going from ultimaterewardscom and chasecom have the same result im not able to use these point by phone either because the operator for the travel center are not able to access my accountpoints neither ive tried every browser both xxxx and xxxx computer and the xxxx chase phone application they all send me to the page that say we are unable to complete your request at this time on xxxxxxxx i looked up some people that work in ultimate reward on xxxx and cold called a vp of customer relation he acted like he wa helpful at first and we exchanged some email he eventually said i can buy a flighthotel using chase sapphire and if i give him the detail he will deduct the appropriate point and credit my credit card for the purchase long story short he wasnt able to fix anything i can see that im still collecting point but i havent been able to access it i travel a lot and it become a huge inconvenience that im not able to access these point which i intended to use for travel i need to get this issue resolved asap   \n",
       "22                                                                                                                                                                                                                                                                                                                                                                                                                                                                                                                                                                                                                                                                                                                                                                                                                                                                                                                                                                                                                                                                                                                                                                                                                                                                                                                                                                                                                                                                                                                                                                                                                                                                                                                                                                                                                                                                                                                                                                                                                                                                                                                                                                                                                                                                                                                                                                                                                                                                                                                                                                                                                                                                                                                                                                                                        my roommate wa stealing my chase debit card and driver license pretending to be me and withdrawing money from my account he admitted that he figured out my pin because it happens to be the same a my phone password he also admitted that he would sneak into my room while i wa sleeping and put the card back before i woke up he apologized but say he spent the money i tried to dispute this with chase but they claim that since my debit card pin number wa used that they cant prove it wasnt me although they advertise that i have fraud protection they refuse to give me my money back atm withdrawl xxxxxxxx atm withdrawl xxxxxxxx atm withdrawl xxxxxxxx atm withdrawl xxxxxxxx atm withdrawl xxxxxxxx atm withdrawl xxxxxxxx   \n",
       "21                                                                                                                                                                                                                                                                                                                                                                                                                                                                                                                                                                                                                                                                                                                                                                                                                                                                                                                                                                                                                                                                                                                                                                                                                                                                                                                                                                                                                                                                                                                                                                                                                                                                                                                                                                                                                                                                                                                                                                                                                                                                                                                                                                                                                                                                                                                                                                                                                                                                                                                                                                                                                                                                                                                                                                                                                                                                                                                                                                                                                                                                                                                                                                                                              i am a senior citizen that ha been scammed by several company from xxxx to xxxx i have paid over to these time share company and they have did nothing at all they were all misleading and i have tried to get a refund from them and my credit card i have been unsucceful i have all the information on every company that i have paid   \n",
       "16                                                                                                                                                                                                                                                                                                                                                                                                                                                                                                                                                                                                                                                                                                                                                                                                                                                                                                                                                                                                                                                                                                                                                                                                                                                                                                                                                                                                                                                                                                                                                                                                                                                                                                                                                                                                                                                                                                                                                                                                                                                                                                                                                                                                                                                                                                                                                                                                                                                                                                                                                                                                                                                                                                                                                                                                                                                                                                                                                                                                                                                                                                                                                                                                                                                                                                                                                                                                     xxxx xxxx a sofa love seat table and chair and wa never delivered debit card charged bank say visa denied claim we have no furniture and no money   \n",
       "14                                                                                                                                                                                                                                                                                                                                                                                                                                                                                                                                                                                                                                                                                                                                                                                                                                                                                                                                                                                                                                                                                                                                                                                                                                                                                                                                                                                                                                                                                                                                                                                                          my chase amazon card wa declined for a catering order i had placed for my brother funeral in the amount of i contacted chase around noon today xxxx and wa asked the last number of my chase saving account and the other user on my account i responded that i did not have a saving and i am only authorized user customer rep told me they would call me back in minute to keep the line open i didnt receive a call back after an hour so i contacted chase from the first call i thought someone wa using my card fraudulently i spoke to the rep who transferred me to a supervisor xxxx who said the card wa activated and the transaction would process called the catering company and card wa declined i then used my xxxx xxxx card to pay for the order xxxx xxxx texted me asking if i wa authorizing purchase and i responded yes contacted caterer and xxxx xxxx wa declined i contacted chase again spoke to rep wa told the initial question are used to trick people to see what there answer would be she told me the cvv code wa incorrectly being input by the caterer and i responded that i had gone over the number and cvv used wa correct she told me the card wa cleared for the purchase and she would monitor it for hour called caterer card declined use a mastercard which processed went to use chase amazon at restaurant at xxxx pm tonight in the amount of it wa declined i wa told by chase i wa not over limit still frustrated figuring out multiple decline after several conversation with chase stating the card would be ok to use embarrassed a the caterer kept suggesting i wa over my limit which i pay my card in full every month and chase confirmed that i wa under my limit with the transaction never been declined by either chase or xxxx xxxx before today after multiple assurance that i wa all set and card would be monitored to make sure transaction would clear it never did   \n",
       "30                                                                                                                                                                                                                                                                                                                                                                                                                                                                                                                                                                                                                                                                                                                                                                                                                                                                                                                                                                                                                                                                                                                                                                                                                                                                                                                                                                                                                                                                                                                                                                                                                                                                                                                                                                                                                                                                                                                                                                                                                                                                                                                                                                                                                                                                                                                                                                                                                                                                 i have wired through one of chase branch in xxxx xxxx the exact reinstatement amount of to jpmorgan chase bank in order to removewithdraw their wrongful foreclosure proceeding on my residential property however the chase executive m xxxx xxxx and it trustee xxxx xxxx xxxx xxxx are not honoring even their own rule and regulation she want the total payoff of now in order to remove their wrongful foreclosure proceeding with sale date of xxxx at xxxx xxxx on my family resident she know i can not prepare xxxx in such a short time thats why i asked for minimum reinstatement amount to avoid foreclosure without resorting to chapter xxxx bankruptcy filing i appreciate you assistant in bringing jpmorgan chase and it foreclosure trustee xxxx xxxx xxxx xxxx quality to their sens and stop harassing my family with their fraudulent default claim a explained in my previous complaint about them on xxxxxxxx my previous complaint id is xxxx submitted xxxx product mortgage issue wrongful foreclosure thank you xxxx xxxx tell xxxx xxxx email xxxx xxxx   \n",
       "24                                                                                                                                                                                                                                                                                                                                                                                                                                                                                                                                                                                                                                                                                                                                                                                                                                                                                                                                                                                                                                                                                                                                                                                                                                                                                                                                                                                                                                                                                                                                                                                                                                                                                                                                                                                                                                                                                                                                                                                                                                                                                                                                                                                                                                                                                                                                                                                                             i made a purchase of on xxxxxxxx i made payment of on xxxxxxxx and on xxxxxxxx the minimum payment wa the closing date wa xxxxxxxx please see attached statement that statement xxxxxxxx show that i had an outstanding purchase balance of on xxxxxxxx i have enclosed the previous month statement to show that there were no other purchase prior to the one on xxxxxxxx however when i got the xxxx statement it show that i still have a purchase balance of i have a promotional balance xxxx in xxxx of in xxxx the promotional balance wa a difference of apparently the payment above the minimum payment required by chase i thought would be applied to the purchase wa applied to the promotional balance first it is my understanding that once the minimum payment ha been met payment in excess of the minimum would be applied to the highest interest rate balance first this is not the first time that chase ha skirted u financial law to turn a larger profit i need help in rectifying this problem because my logic fell on deaf ear at chase thank you in advance for your assistance respectfully xxxx xxxx xxxx   \n",
       "23                                                                                                                                                                                                                                                                                                                                                                                                                                                                                                                                                                                                                                                                                                                                                                                                                                                                                                                                                                                                                                                                                                                                                                                                                                                                                                                                                                                                                                                                                                                                                                                                                                                                                                                                                                                                                                                                                                                                                                                                                                                                                                                                                                                                                                                                                                                                                                                                                                                                                                                                                                                                                                                                                                                                                                                                                                                                                                                                                                                                                                                                                                                                                                                                                                                                                                                                                             i have been trying to do a loan modification with chase and all they do is give me the runaround im mo behind they dont let me make payment i have aens all doc in but always asking more   \n",
       "0                                                                                                                                                                                                                                                                                                                                                                                                                                                                                                                                                                                                                                                                                                                                                                                                                                                                                                                                                                                                                                                                                                                                                                                                                                                                                                                                                                                                                                                                                                                                                                                                                                                                                                                                                                                                                                                                                                                                                                                                                                                                                                                                                                                                                                                                                                                                                                                                                                                                                                                                                                                                                                                                                                                                                                                                                                                                                                                                                                                                                                                                    good morning my name is xxxx xxxx and i appreciate it if you could help me put a stop to chase bank cardmember service in i wrote to chase asking for debt verification and what they sent me a statement which is not acceptable i am asking the bank to validate the debt instead i been receiving mail every month from them attempting to collect a debt i have a right to know this information a a consumer chase account xxxx xxxx xxxx xxxx thanks in advance for your help   \n",
       "7                                                                                                                                                                                                                                                                                                                                                                                                                                                                                                                                                                                                                                                                                                                                                                                                                                                                                                                                                                                                                                                                                                                                                                                                                                                                                                                                                                                                                                                                                                                                                                                                                                                                                                                                                                                                                                                                                                                                                                                                                                                                                                                                                                 during the summer month i experience a decline income due to my employment therefore i request a one month payment extension with my auto loan company chase for the past almost four year my request for payment extension is granted i have never been delinquent with my auto loan payment however on xxxx my request for a one month payment extension wa denied this year i explained my situation to representative and the supervisor with no avail after a lengthy discussion and waiting i wa informed the reason for the decline a it is not contractual this reason for denial baffled me and therefore i emailed the office of xxxx xxxx executive director communication jpmorgan chase co a representative contacted me and stated chase will followup about week later a representative of xxxx xxxx xxxx xxxx office called the representative shared her role wa help resolve the matter the representative via conference call contacted the department handing my request after reviewing my information my request wa still denied based on policy change i requested an explanation and representative stated a letter will be mailed with explanation i have received xxxx letter the reason for denial wa not policy change i would like cfpb help in exploring the denial of my payment extension request especially since i have been clear reason for denial   \n",
       "11                                                                                                                                                                                                                                                                                                                                                                                                                                                                                                                                                                                                                                                                                                                                                                                                                                                                                                                                                                                                                                                                                                                                                                                                                                                                                                                                                                                                                                                                                                                                                                                                                                                                                                                                                                                                                                                                                                                                                                                                                                                                                                                                                                                                                                                                                                                                                                                                                                                                                                                                                                                                                                                                                                                                                                                        i have reached out to xxxx several time in attempt to have this fraudulent inquiry removed i wa told that i need to call and contact the original creditor that placed this inquiry on my report i have made several attempt to get chase bank to contact the bureau and remove this inquiry that wa not authorized by me they seem to not be able to get me to the right person to take care of this issue no matter how many attempt i have made nobody seems to understand what im talkin about i want chase bank to have this fraudulent inquiry removed from my credit report before i take legal action i i have never requested any kind of credit with chase bank or hold any account with them i have an iquiry from xxxx i want this matter resolved   \n",
       "9                                                                                                                                                                                                                                                                                                                                                                                                                                                                                                                                                                                                                                                                                                                                                                                                                                                                                                                                                                                                                                                                                                                                                                                                                                                                                                                                                                                                                                                                                                                                                                                                                                                                                                                                                                                                                                                                                                                                                                                                                                                                                                                                                                                                                                                                                                                                                                                                                                                                                                                                                                                                                                                                                                                                                                                                                                                                                                                                                                                                                                                                                                                                                                                                                                                                                                                                                                                                                        i have a chase credit card which is incorrectly reporting data on my credit report the company is not helping resolve the issue   \n",
       "5                                                                                                                                                                                                                                                                                                                                                                                                                                                                                                                                                                                                                                                                                                                                                                                                                                                                                                                                                                                                                                                                                                                                                                                                                                                                                                                                                                                                                                                                                                                                                                                                                                                                                                                                                                                                                                                                                                                                                                                                                                                                                                                                                                                                                                                                                                                                                                                                                                                                                                                                                                                                                                                                                                                                                                                                                                                                                                                                                                                                                                                                                                                                                                                                                                                                                                                                                                                                                                                                                                                          can you please remove inquiry   \n",
       "3                                                                                                                                                                                                                                                                                                                                                                                                                                                                                                                                                                                                                                                                                                                                                                                                                                                                                                                                                                                                                                                                                                                                                                                                                                                                                                                                                                                                                                                                                                                                                                                                                                                                                                                                                                                                                                                                                                                                                                                                                                                         on xxxx while trying to book a xxxx xxxx ticket i came across an offer for to be applied towards the ticket if i applied for a reward card i put in my information for the offer and within le than a minute wa notified via the screen that a decision could not be made i immediately contacted xxxx and wa referred to chase bank i then immediately contacted chase bank within no more than minute of getting the notification on the screen and i wa told by the chase representative i spoke with that my application wa denied but she could not state why i asked for more information about the xxxx offer and she explained that even if i had been approved the credit offer only get applied after the first account statement and could not be used to purchase the ticket i then explicitly told her i wa glad i got denied and i wa absolutely no longer interested in the account i asked that the application be withdrawn and the representative obliged this all happened no later than min after putting in the application on xxxx notwithstanding my explicit request not to proceed with the application and contrary to what i wa told by the chase representative chase did in fact go ahead to open a credit account in my name on xxxx this is now being reported in my credit report and chase ha refused to correct this information on my credit report even though they went ahead to process an application which i did not consent to and out of their error   \n",
       "2                                                                                                                                                                                                                                                                                                                                                                                                                                                                                                                                                                                                                                                                                                                                                                                                                                                                                                                                                                                                                                                                                                                                                                                                                                                                                                                                                                                                                                                                                                                                                                                                                                                                                                                                                                                                                                                                                                                                                                                                                                                                                                                                                                                                                                                                                                                                                                                                                                                                                                                                                                                                                                                                                                                                                                                                                                                                                                                                                                                                                                                                                                                                                                                                                                                                                                                                   chase card wa reported on xxxx however fraudulent application have been submitted my identity without my consent to fraudulently obtain service do not extend credit without verifying the identity of the applicant   \n",
       "19                                                                                                                                                                                                                                                                                                                                                                                                                                                                                                                                                                                                                                                                                                                                                                                                                                                                                                                                                                                                                                                                                                                                                                                                                                                                                                                                                                                                                                                                                                                                                                                                                                                                     i made a purchase with xxxx xxxx xxxx on xxxx in the amount of i wa charged twice for this transaction i placed a dispute case with chase bank on xxxx when i noticed the charge on my account i called back on sunday xxxx about the provisional credit for the charge and again on monday xxxx i wa told the charge had to post before a provisional credit could be provided i used my debt card on monday xxxx then tried to use it again but it would not work i went to chase bank on xxxx xxxx xxxx in xxxx xxxx nevada and wa told that my account wa closed due to fraudulent activity i wa shocked because i had not reported fraud on my account i later found out that i wa being accused by the dispute department of placing a fraudulent dispute case for the duplicate charge from xxxx xxxx xxxx i later contacted xxxx xxxx xxxx again and wa told that they did see a duplicate charge and would credit my account within day i contacted the chase dispute department again on monday xxxxxxxx and explained thaxxxx xxxx xxxx xxxx would credit my account and that i did not like being accused of making a fraudulent dispute claim the escalation manager did not care and told me that chase decision on closing my account wa final i had been a customer of chase for xxxx year my character ha been challenged by the dispute agent and i consider this to be detrimental to my character and slander i am not seeking to keep my account open with chase but i also do not want chase reporting that they closed my checking account involuntarily once again i do not want chase to have the checking account that i had with them being reflecting on any public record a being closed a involuntary closure by chase i did nothing wrong by filing a dispute claim for the duplicate charge or any other dispute case that were filed in the past   \n",
       "20                                                                                                                                                                                                                                                                                                                                                                                                                                                                                                                                                                                                                                                                                                                                                                                                                                                                                                                                                                                                                                                                                                                                                                                                                                                                                                                                                                                                                                                                                                                                                                                                                                                                                                                                                                                                                                                                                                                                                                                                                                                                                                                                                                                                                                                                                                                                                                                 jp morgan chase bank please answer the following question on xxxxxxxx xxxxxxxxxxxxxxxx xxxxxxxx xxxxxxxx jpmorgan chase accessed information about me through xxxx xxxx xxxx xxxx what wa the valid reason for accessing my personal information through xxxx xxxx xxxx xxxx the chase checking account that wa closed recently during xxxxxxxx had a routing or xxxx number of xxxx according to check and statement provided to me by chase xxxx xxxx xxxx showed chase reporting an xxxx routing number of xxxx before and after i had disputed the xxxx number with chase why do these two routing number not match xxxxxxxx i received a response from xxxx xxxx xxxx xxxx to a dispute about information chase wa providing on my report dispute case id xxxx the information chase had been submitting wa deleted due to disputed info being incomplete inaccurate or unverifiable is this true once again i have asked question i will send the cfpb copy of the information i have pertaining to the question in this complaint via u mail which are the xxxx xxxx xxxx xxxx report ive received thank you for your attention and humbly await your response   \n",
       "8   on xxxx xxxx i made a payment to an online retailer using chase quick pay with xxxx on the chase website i realized that this wa a scam website after no confirmation product or response to any inquiry regarding the order and contacted chase to get more information about the transaction to attempt getting a refund through the retailer bank i contacted chase via a secured message on xxxx explaining what happened and asked is there a way to reverse this transaction or do you have a contact at xxxx that can give me more information about the recipient that xxxx my message wa reviewed and i received a response restating my original email and informing me that the transfer ha been completed however a you mentioned that the website is a scam while we can handle most inquiry by email some require the expertise of another team in order to assist you better in regard to the refund we request you to call our consumer online technical support team i called the number listed in the email and explained my situation to then be transferred to the claim department i wa directed to call xxxx and ask them about the transaction because chase did not have any information outside of what i provided when initiating the transfer i felt like this agent wa trying to get me to end the call a quickly a possible and i had to interrupt her closing script to ask for a contact number at xxxx and didnt have an opportunity to get any information about what the right question would be to ask xxxx or what word and phrase i should use to get the information i wa looking for i called xxxx who automated system initially directed me to call my bank because i used the bank app to initiate the transaction i called xxxx again to navigate their menu and talk to a customer service agent they told me that all of the information about the transaction would in chase s system because i used the bank app to perform the transaction she stayed on the line with me until i understood everything that i should ask and had a better understanding of the situation i ended the call and called chase again when i called chase the second time the agent tried to look up the information about the receiving bank but could not find any additional information she then asked me why i needed this information and i explained my situation again i wa once again transferred to the claim department who told me that i needed to contact xxxx to get the information i wa looking for after i told her that i had already contacted them she finally admitted that there wa nothing that she could do due to the nature of the transaction and that these type of transaction are not secured she said that chase had no information about the recipient other than the email address that i inputted and that the recipient banking information wa not kept in the system in both phone call they asked if i initiated that transaction and used that to absolve themselves of all responsibility in regard to this matter during this whole process it felt like chase wa not transparent about their policy regarding these type of transaction nor were they helpful in helping me get any information about the situation these transaction are advertised a a fast safe and easy way to send money but seem to be a dangerous way to do business i feel deceived by chase s advertising and further victimized by the way i wa treated by the member on their customer service team   \n",
       "31                                                                                                                                                                                                                                                                                                                                                                                                                                                                                                                                                                                                                                                                                                                                                                                                                                                                                                                                                                                                                                                                                                                                                                                                                                                                                                                                                                                                                                                                                                                                                                                                                                                                                                                                                                                                                                                                                                                                                                                                                                                                                                                                                                                                                                                                                                                                                                                                                                                                                                          my dispute is for not receiving service listed below one night at the hotel in xxxx for friday xxxx transportation to the hotel for friday xxxx private city tour of xxxx for friday xxxx xxxx xxxx private tour for friday xxxx grand total of reason for not receiving the service wa that xxxx cancelled the flight from xxxx to xxxx for mechanical reason i started the process for the of the refund thru xxxx xxxx i wa told by xxxx xxxx that i needed to request the refund thru xxxx which i did i requested the refund and wa told by xxxx that since i didnt purchase the ticket directly thru them but it wa done thru a rd party i needed to go thru xxxx xxxx i went back to them and wa told that they will not refund me i then started a dispute with my credit card chase visa for the charge the credit card dispute department closed my dispute saying that the vendor stated that i did receive the service which is not true but my credit card closed the dispute after several attempt by me to reopen the dispute   \n",
       "36                                                                                                                                                                                                                                                                                                                                                                                                                                                                                                                                                                                                                                                                                                                                                                                                                                                                                                                                                                                                                                                                                                                                                                           i preordered an item on xxxxxxxx and paid with a chase credit card the merchant xxxx xxxx gave an estimated product shipment date of xxxxxxxx after waiting for this item for a significant amount of time i decided to cancel the order a it did not appear that the item would ever be completed and shipped on xxxxxxxx i requested a refund from the merchant xxxx xxxx on xxxxxxxx the merchant stated that my order wa cancelled and the refund would return to the original method of payment in five business day the original method of payment wa a chase credit card that i had since closed on xxxxxxxx i sent a secure message to chase requesting that the refund be transferred to one of my open chase card i also followed up with a phone call that same week and the representative i spoke to informed me that fund that are sent to closed account would be sent via check through the mail and could not be transferred to any existing account on xxxxxxxx i received a letter from chase indicating that my disputed charge would remain on my account and the merchant is not willing to credit your account i followed up with a phone call to chase describing that this wa a refund not a dispute the representative informed me that they did not have access to closed account i explained my previous attempt via phone and message to locate these fund they informed me to try to send a secure message again this time emphasizing that the refund i am looking for is on a closed account and that the previous representative may have looked for the refund on a different account on xxxxxxxx i sent another secure message with this information a well a the email i received from the merchant about the refund see attachment on xxxxxxxx i received a letter from chase with similar language about the merchant is not willing to credit your account and we consider the charge valid based on the result of our research see attachment on xxxxxxxx i followed up with the merchant xxxx xxxx requesting an alternate way to receive this refund given that my credit card company apparently can not locate the fund on xxxxxxxx the merchant provided a screenshot with their record that the fund had been refunded see attachment this wa my last exchange trying to resolve this between the credit card or the merchant   \n",
       "\n",
       "                                                                                                                                                                                                                                                                                                                                                                                                                                                                                                                                                                                                                                                                                                                                                                                                                                                                                                                                                                                                                              complaint_POS_removed  \\\n",
       "12                                                                                                                                                                                                                                                                                                                                                                                                                                                                                                                                                                                                                                                                                                                                                                                                                                                                                                                                                       account code xxxxxxxx term account deposit bonus day deposit account coupon code day bonus   \n",
       "1                                                                                                                                                                                                                                                                                                                                                                                                                                                                                                                                                                                                                                                                                                                                                                                                                                                                                                                    agent upgrade anniversary date agent information order account anniversary date xxxxxxxx xxxxxxxx consent xxxx recording agent   \n",
       "4                                                                                                                                                                                                                                                                                                                                                                                                                                                                                                                                                                                                                                                                                                                                                                                                                                                                                                                                    son chase account fund account money son money money son time check owner country time date xxxx number number   \n",
       "6                                                                                                                                                                                                                                                                                                                                                                                                                                             notice account debit card branch customer service representative account branch fund well deposit place employment bank associate customer service representative fund business day branch fund post account fund statement business day date fund bank teller check business day fund account bind fee rent car payment notice thing peace mind fact situation bank teller account look chase right account time protocol past notice form document notice thing peace mind fact situation bank teller account look chase right account time protocol past notice form document situation livelihood   \n",
       "10                                                                                                                                                                                                                                                                                                                                                                                                                                                                                                                                                                                                                                                                                                                                                                                                                                                                                                                                                                                                                                          account   \n",
       "25                                                                                                                                                                                                                                                                                                                                                                                                                                                                                                                                                                                                       reward point month chase reward account bonus freedom page request time image error chase week wa customer support ticket tech team case time lot time situation bunch information result point phone operator travel center accountpoints browser phone application page request time people reward vp customer relation email flighthotel detail point credit credit card purchase story point lot inconvenience point travel issue asap   \n",
       "22                                                                                                                                                                                                                                                                                                                                                                                                                                                                                                                                                                                                                                                                                                                                                                                                                                                                                                           roommate debit card driver license money account pin phone password room card money chase debit card pin number fraud protection money   \n",
       "21                                                                                                                                                                                                                                                                                                                                                                                                                                                                                                                                                                                                                                                                                                                                                                                                                                                                                                                                                                     citizen ha company time share company refund credit card information company   \n",
       "16                                                                                                                                                                                                                                                                                                                                                                                                                                                                                                                                                                                                                                                                                                                                                                                                                                                                                                                                                                                                 love seat table chair debit card furniture money   \n",
       "14                                                                                                                                                                                                                                                                                                                                                                                                                                                                                                                                                        catering order brother funeral amount chase noon today number chase account user account saving user customer minute line call hour chase call wa card supervisor xxxx card wa transaction catering company card card order purchase caterer chase question people answer input caterer number card purchase hour caterer card mastercard chase restaurant tonight amount limit decline conversation card caterer limit card month limit transaction today assurance set card transaction   \n",
       "30                                                                                                                                                                                                                                                                                                                                                                                                                                                                                                                                                                                                                                                                                                                                                             branch reinstatement amount order foreclosure property rule regulation payoff order foreclosure sale date family resident time reinstatement amount foreclosure chapter filing assistant sens family default claim complaint xxxxxxxx complaint d product mortgage issue foreclosure   \n",
       "24                                                                                                                                                                                                                                                                                                                                                                                                                                                                                                                                                                                                                                                        purchase xxxxxxxx payment xxxxxxxx xxxxxxxx payment closing date xxxxxxxx statement statement purchase balance xxxxxxxx month statement purchase one xxxxxxxx statement purchase balance balance xxxx balance difference payment payment purchase wa balance understanding payment payment excess minimum interest rate balance time law profit help problem logic ear advance assistance   \n",
       "23                                                                                                                                                                                                                                                                                                                                                                                                                                                                                                                                                                                                                                                                                                                                                                                                                                                                                                                                                                                            loan modification chase runaround mo payment aens doc   \n",
       "0                                                                                                                                                                                                                                                                                                                                                                                                                                                                                                                                                                                                                                                                                                                                                                                                                                                                                                                      morning name stop debt verification statement bank debt mail month debt right information consumer chase thanks advance help   \n",
       "7                                                                                                                                                                                                                                                                                                                                                                                                                                                          summer month decline income employment month payment extension auto loan company chase past year request payment extension auto loan payment request month payment extension year situation representative supervisor avail discussion reason decline reason denial communication representative chase week representative representative role help matter representative conference call department request information request policy change explanation representative letter explanation letter reason denial policy change cfpb help denial payment extension request reason denial   \n",
       "11                                                                                                                                                                                                                                                                                                                                                                                                                                                                                                                                                                                                                                                                                                                                                                                                                                                                              time attempt inquiry creditor inquiry report attempt bureau inquiry person care issue attempt talkin inquiry credit report action kind credit account iquiry matter   \n",
       "9                                                                                                                                                                                                                                                                                                                                                                                                                                                                                                                                                                                                                                                                                                                                                                                                                                                                                                                                                                                                      credit card data credit report company issue   \n",
       "5                                                                                                                                                                                                                                                                                                                                                                                                                                                                                                                                                                                                                                                                                                                                                                                                                                                                                                                                                                                                                                           inquiry   \n",
       "3                                                                                                                                                                                                                                                                                                                                                                                                                                                                                                                                                                                                                                                                                                 ticket offer ticket reward card information offer minute wa screen decision bank minute notification screen representative application wa information credit offer account statement ticket account application representative application request application fact credit account name credit report information credit report application error   \n",
       "2                                                                                                                                                                                                                                                                                                                                                                                                                                                                                                                                                                                                                                                                                                                                                                                                                                                                                                                                                                                    application identity consent service credit identity applicant   \n",
       "19                                                                                                                                                                                                                                                                                                                                                                                                                                                                                                                                                                        purchase amount transaction dispute case charge account credit charge charge credit debt card account activity fraud account dispute department dispute case charge charge account day dispute department xxxxxxxx account dispute claim escalation manager chase decision account customer chase year character dispute agent character slander account chase chase checking account chase checking account public record closure dispute claim charge dispute case past   \n",
       "20                                                                                                                                                                                                                                                                                                                                                                                                                                                                                                                                                                                                                                                                                                                                                           question information wa reason information account xxxxxxxx routing xxxx number check statement xxxx number number number response dispute information chase report dispute case information chase wa info question cfpb copy information question complaint u mail attention response   \n",
       "8   payment retailer pay website wa scam website confirmation product response inquiry order chase information transaction refund retailer bank chase message way transaction contact information recipient message wa response email transfer website scam inquiry email expertise team order regard refund consumer support team number email situation claim transaction information transfer agent call closing script contact number opportunity information question word phrase information system bank bank app transaction menu customer service agent information transaction system bank app transaction line understanding situation call time agent information bank information information situation claim department information nature transaction type transaction information recipient email address banking information system phone call transaction responsibility regard matter process chase policy type transaction information situation transaction way money way business advertising way member customer service team   \n",
       "31                                                                                                                                                                                                                                                                                                                                                                                                                                                                                                                                                                                                                                                                                                                                                                                                            dispute service night hotel hotel tour tour total reason service wa flight reason process refund refund refund ticket party dispute credit card charge credit card dispute dispute vendor service credit card dispute attempt dispute   \n",
       "36                                                                                                                                                                                                                                                                        item xxxxxxxx chase credit card merchant product shipment date xxxxxxxx item amount time order item refund merchant merchant order wa refund method payment business day method payment chase credit card xxxxxxxx message refund chase card phone call week representative fund account check mail account letter chase charge account merchant account phone call wa refund dispute representative access account attempt phone message fund message time refund account representative refund account message information email merchant refund attachment letter chase language merchant account charge result research attachment xxxxxxxx merchant way refund credit card company fund merchant screenshot record fund see attachment exchange credit card merchant   \n",
       "\n",
       "                                                                                                                                                                                                                                                                                                                                                                                                                                                                                                                                                                                                                                                                                                                                                                                                                                                                                                                                                                                                                                    Complaint_clean  \\\n",
       "12                                                                                                                                                                                                                                                                                                                                                                                                                                                                                                                                                                                                                                                                                                                                                                                                                                                                                                                                                       account code xxxxxxxx term account deposit bonus day deposit account coupon code day bonus   \n",
       "1                                                                                                                                                                                                                                                                                                                                                                                                                                                                                                                                                                                                                                                                                                                                                                                                                                                                                                                    agent upgrade anniversary date agent information order account anniversary date xxxxxxxx xxxxxxxx consent xxxx recording agent   \n",
       "4                                                                                                                                                                                                                                                                                                                                                                                                                                                                                                                                                                                                                                                                                                                                                                                                                                                                                                                                    son chase account fund account money son money money son time check owner country time date xxxx number number   \n",
       "6                                                                                                                                                                                                                                                                                                                                                                                                                                             notice account debit card branch customer service representative account branch fund well deposit place employment bank associate customer service representative fund business day branch fund post account fund statement business day date fund bank teller check business day fund account bind fee rent car payment notice thing peace mind fact situation bank teller account look chase right account time protocol past notice form document notice thing peace mind fact situation bank teller account look chase right account time protocol past notice form document situation livelihood   \n",
       "10                                                                                                                                                                                                                                                                                                                                                                                                                                                                                                                                                                                                                                                                                                                                                                                                                                                                                                                                                                                                                                          account   \n",
       "25                                                                                                                                                                                                                                                                                                                                                                                                                                                                                                                                                                                                       reward point month chase reward account bonus freedom page request time image error chase week wa customer support ticket tech team case time lot time situation bunch information result point phone operator travel center accountpoints browser phone application page request time people reward vp customer relation email flighthotel detail point credit credit card purchase story point lot inconvenience point travel issue asap   \n",
       "22                                                                                                                                                                                                                                                                                                                                                                                                                                                                                                                                                                                                                                                                                                                                                                                                                                                                                                           roommate debit card driver license money account pin phone password room card money chase debit card pin number fraud protection money   \n",
       "21                                                                                                                                                                                                                                                                                                                                                                                                                                                                                                                                                                                                                                                                                                                                                                                                                                                                                                                                                                     citizen ha company time share company refund credit card information company   \n",
       "16                                                                                                                                                                                                                                                                                                                                                                                                                                                                                                                                                                                                                                                                                                                                                                                                                                                                                                                                                                                                 love seat table chair debit card furniture money   \n",
       "14                                                                                                                                                                                                                                                                                                                                                                                                                                                                                                                                                        catering order brother funeral amount chase noon today number chase account user account saving user customer minute line call hour chase call wa card supervisor xxxx card wa transaction catering company card card order purchase caterer chase question people answer input caterer number card purchase hour caterer card mastercard chase restaurant tonight amount limit decline conversation card caterer limit card month limit transaction today assurance set card transaction   \n",
       "30                                                                                                                                                                                                                                                                                                                                                                                                                                                                                                                                                                                                                                                                                                                                                             branch reinstatement amount order foreclosure property rule regulation payoff order foreclosure sale date family resident time reinstatement amount foreclosure chapter filing assistant sens family default claim complaint xxxxxxxx complaint d product mortgage issue foreclosure   \n",
       "24                                                                                                                                                                                                                                                                                                                                                                                                                                                                                                                                                                                                                                                        purchase xxxxxxxx payment xxxxxxxx xxxxxxxx payment closing date xxxxxxxx statement statement purchase balance xxxxxxxx month statement purchase one xxxxxxxx statement purchase balance balance xxxx balance difference payment payment purchase wa balance understanding payment payment excess minimum interest rate balance time law profit help problem logic ear advance assistance   \n",
       "23                                                                                                                                                                                                                                                                                                                                                                                                                                                                                                                                                                                                                                                                                                                                                                                                                                                                                                                                                                                            loan modification chase runaround mo payment aens doc   \n",
       "0                                                                                                                                                                                                                                                                                                                                                                                                                                                                                                                                                                                                                                                                                                                                                                                                                                                                                                                      morning name stop debt verification statement bank debt mail month debt right information consumer chase thanks advance help   \n",
       "7                                                                                                                                                                                                                                                                                                                                                                                                                                                          summer month decline income employment month payment extension auto loan company chase past year request payment extension auto loan payment request month payment extension year situation representative supervisor avail discussion reason decline reason denial communication representative chase week representative representative role help matter representative conference call department request information request policy change explanation representative letter explanation letter reason denial policy change cfpb help denial payment extension request reason denial   \n",
       "11                                                                                                                                                                                                                                                                                                                                                                                                                                                                                                                                                                                                                                                                                                                                                                                                                                                                              time attempt inquiry creditor inquiry report attempt bureau inquiry person care issue attempt talkin inquiry credit report action kind credit account iquiry matter   \n",
       "9                                                                                                                                                                                                                                                                                                                                                                                                                                                                                                                                                                                                                                                                                                                                                                                                                                                                                                                                                                                                      credit card data credit report company issue   \n",
       "5                                                                                                                                                                                                                                                                                                                                                                                                                                                                                                                                                                                                                                                                                                                                                                                                                                                                                                                                                                                                                                           inquiry   \n",
       "3                                                                                                                                                                                                                                                                                                                                                                                                                                                                                                                                                                                                                                                                                                 ticket offer ticket reward card information offer minute wa screen decision bank minute notification screen representative application wa information credit offer account statement ticket account application representative application request application fact credit account name credit report information credit report application error   \n",
       "2                                                                                                                                                                                                                                                                                                                                                                                                                                                                                                                                                                                                                                                                                                                                                                                                                                                                                                                                                                                    application identity consent service credit identity applicant   \n",
       "19                                                                                                                                                                                                                                                                                                                                                                                                                                                                                                                                                                        purchase amount transaction dispute case charge account credit charge charge credit debt card account activity fraud account dispute department dispute case charge charge account day dispute department xxxxxxxx account dispute claim escalation manager chase decision account customer chase year character dispute agent character slander account chase chase checking account chase checking account public record closure dispute claim charge dispute case past   \n",
       "20                                                                                                                                                                                                                                                                                                                                                                                                                                                                                                                                                                                                                                                                                                                                                           question information wa reason information account xxxxxxxx routing xxxx number check statement xxxx number number number response dispute information chase report dispute case information chase wa info question cfpb copy information question complaint u mail attention response   \n",
       "8   payment retailer pay website wa scam website confirmation product response inquiry order chase information transaction refund retailer bank chase message way transaction contact information recipient message wa response email transfer website scam inquiry email expertise team order regard refund consumer support team number email situation claim transaction information transfer agent call closing script contact number opportunity information question word phrase information system bank bank app transaction menu customer service agent information transaction system bank app transaction line understanding situation call time agent information bank information information situation claim department information nature transaction type transaction information recipient email address banking information system phone call transaction responsibility regard matter process chase policy type transaction information situation transaction way money way business advertising way member customer service team   \n",
       "31                                                                                                                                                                                                                                                                                                                                                                                                                                                                                                                                                                                                                                                                                                                                                                                                            dispute service night hotel hotel tour tour total reason service wa flight reason process refund refund refund ticket party dispute credit card charge credit card dispute dispute vendor service credit card dispute attempt dispute   \n",
       "36                                                                                                                                                                                                                                                                        item xxxxxxxx chase credit card merchant product shipment date xxxxxxxx item amount time order item refund merchant merchant order wa refund method payment business day method payment chase credit card xxxxxxxx message refund chase card phone call week representative fund account check mail account letter chase charge account merchant account phone call wa refund dispute representative access account attempt phone message fund message time refund account representative refund account message information email merchant refund attachment letter chase language merchant account charge result research attachment xxxxxxxx merchant way refund credit card company fund merchant screenshot record fund see attachment exchange credit card merchant   \n",
       "\n",
       "                                                                                                                                                                                                                                                                                                                                                                                                                                                                                                                                                                                                                                                                                                                                                                                                                                                                                                                                                                                                                         Complaint_clean_no_masking  \\\n",
       "12                                                                                                                                                                                                                                                                                                                                                                                                                                                                                                                                                                                                                                                                                                                                                                                                                                                                                                                                                               account code  term account deposit bonus day deposit account coupon code day bonus   \n",
       "1                                                                                                                                                                                                                                                                                                                                                                                                                                                                                                                                                                                                                                                                                                                                                                                                                                                                                                                                        agent upgrade anniversary date agent information order account anniversary date   consent  recording agent   \n",
       "4                                                                                                                                                                                                                                                                                                                                                                                                                                                                                                                                                                                                                                                                                                                                                                                                                                                                                                                                        son chase account fund account money son money money son time check owner country time date  number number   \n",
       "6                                                                                                                                                                                                                                                                                                                                                                                                                                             notice account debit card branch customer service representative account branch fund well deposit place employment bank associate customer service representative fund business day branch fund post account fund statement business day date fund bank teller check business day fund account bind fee rent car payment notice thing peace mind fact situation bank teller account look chase right account time protocol past notice form document notice thing peace mind fact situation bank teller account look chase right account time protocol past notice form document situation livelihood   \n",
       "10                                                                                                                                                                                                                                                                                                                                                                                                                                                                                                                                                                                                                                                                                                                                                                                                                                                                                                                                                                                                                                          account   \n",
       "25                                                                                                                                                                                                                                                                                                                                                                                                                                                                                                                                                                                                       reward point month chase reward account bonus freedom page request time image error chase week wa customer support ticket tech team case time lot time situation bunch information result point phone operator travel center accountpoints browser phone application page request time people reward vp customer relation email flighthotel detail point credit credit card purchase story point lot inconvenience point travel issue asap   \n",
       "22                                                                                                                                                                                                                                                                                                                                                                                                                                                                                                                                                                                                                                                                                                                                                                                                                                                                                                           roommate debit card driver license money account pin phone password room card money chase debit card pin number fraud protection money   \n",
       "21                                                                                                                                                                                                                                                                                                                                                                                                                                                                                                                                                                                                                                                                                                                                                                                                                                                                                                                                                                     citizen ha company time share company refund credit card information company   \n",
       "16                                                                                                                                                                                                                                                                                                                                                                                                                                                                                                                                                                                                                                                                                                                                                                                                                                                                                                                                                                                                 love seat table chair debit card furniture money   \n",
       "14                                                                                                                                                                                                                                                                                                                                                                                                                                                                                                                                                            catering order brother funeral amount chase noon today number chase account user account saving user customer minute line call hour chase call wa card supervisor  card wa transaction catering company card card order purchase caterer chase question people answer input caterer number card purchase hour caterer card mastercard chase restaurant tonight amount limit decline conversation card caterer limit card month limit transaction today assurance set card transaction   \n",
       "30                                                                                                                                                                                                                                                                                                                                                                                                                                                                                                                                                                                                                                                                                                                                                                     branch reinstatement amount order foreclosure property rule regulation payoff order foreclosure sale date family resident time reinstatement amount foreclosure chapter filing assistant sens family default claim complaint  complaint d product mortgage issue foreclosure   \n",
       "24                                                                                                                                                                                                                                                                                                                                                                                                                                                                                                                                                                                                                                                                                                            purchase  payment   payment closing date  statement statement purchase balance  month statement purchase one  statement purchase balance balance  balance difference payment payment purchase wa balance understanding payment payment excess minimum interest rate balance time law profit help problem logic ear advance assistance   \n",
       "23                                                                                                                                                                                                                                                                                                                                                                                                                                                                                                                                                                                                                                                                                                                                                                                                                                                                                                                                                                                            loan modification chase runaround mo payment aens doc   \n",
       "0                                                                                                                                                                                                                                                                                                                                                                                                                                                                                                                                                                                                                                                                                                                                                                                                                                                                                                                      morning name stop debt verification statement bank debt mail month debt right information consumer chase thanks advance help   \n",
       "7                                                                                                                                                                                                                                                                                                                                                                                                                                                          summer month decline income employment month payment extension auto loan company chase past year request payment extension auto loan payment request month payment extension year situation representative supervisor avail discussion reason decline reason denial communication representative chase week representative representative role help matter representative conference call department request information request policy change explanation representative letter explanation letter reason denial policy change cfpb help denial payment extension request reason denial   \n",
       "11                                                                                                                                                                                                                                                                                                                                                                                                                                                                                                                                                                                                                                                                                                                                                                                                                                                                              time attempt inquiry creditor inquiry report attempt bureau inquiry person care issue attempt talkin inquiry credit report action kind credit account iquiry matter   \n",
       "9                                                                                                                                                                                                                                                                                                                                                                                                                                                                                                                                                                                                                                                                                                                                                                                                                                                                                                                                                                                                      credit card data credit report company issue   \n",
       "5                                                                                                                                                                                                                                                                                                                                                                                                                                                                                                                                                                                                                                                                                                                                                                                                                                                                                                                                                                                                                                           inquiry   \n",
       "3                                                                                                                                                                                                                                                                                                                                                                                                                                                                                                                                                                                                                                                                                                 ticket offer ticket reward card information offer minute wa screen decision bank minute notification screen representative application wa information credit offer account statement ticket account application representative application request application fact credit account name credit report information credit report application error   \n",
       "2                                                                                                                                                                                                                                                                                                                                                                                                                                                                                                                                                                                                                                                                                                                                                                                                                                                                                                                                                                                    application identity consent service credit identity applicant   \n",
       "19                                                                                                                                                                                                                                                                                                                                                                                                                                                                                                                                                                                purchase amount transaction dispute case charge account credit charge charge credit debt card account activity fraud account dispute department dispute case charge charge account day dispute department  account dispute claim escalation manager chase decision account customer chase year character dispute agent character slander account chase chase checking account chase checking account public record closure dispute claim charge dispute case past   \n",
       "20                                                                                                                                                                                                                                                                                                                                                                                                                                                                                                                                                                                                                                                                                                                                                                           question information wa reason information account  routing  number check statement  number number number response dispute information chase report dispute case information chase wa info question cfpb copy information question complaint u mail attention response   \n",
       "8   payment retailer pay website wa scam website confirmation product response inquiry order chase information transaction refund retailer bank chase message way transaction contact information recipient message wa response email transfer website scam inquiry email expertise team order regard refund consumer support team number email situation claim transaction information transfer agent call closing script contact number opportunity information question word phrase information system bank bank app transaction menu customer service agent information transaction system bank app transaction line understanding situation call time agent information bank information information situation claim department information nature transaction type transaction information recipient email address banking information system phone call transaction responsibility regard matter process chase policy type transaction information situation transaction way money way business advertising way member customer service team   \n",
       "31                                                                                                                                                                                                                                                                                                                                                                                                                                                                                                                                                                                                                                                                                                                                                                                                            dispute service night hotel hotel tour tour total reason service wa flight reason process refund refund refund ticket party dispute credit card charge credit card dispute dispute vendor service credit card dispute attempt dispute   \n",
       "36                                                                                                                                                                                                                                                                                                        item  chase credit card merchant product shipment date  item amount time order item refund merchant merchant order wa refund method payment business day method payment chase credit card  message refund chase card phone call week representative fund account check mail account letter chase charge account merchant account phone call wa refund dispute representative access account attempt phone message fund message time refund account representative refund account message information email merchant refund attachment letter chase language merchant account charge result research attachment  merchant way refund credit card company fund merchant screenshot record fund see attachment exchange credit card merchant   \n",
       "\n",
       "      Topic  \n",
       "12  Topic 1  \n",
       "1   Topic 1  \n",
       "4   Topic 1  \n",
       "6   Topic 1  \n",
       "10  Topic 1  \n",
       "25  Topic 2  \n",
       "22  Topic 2  \n",
       "21  Topic 2  \n",
       "16  Topic 2  \n",
       "14  Topic 2  \n",
       "30  Topic 3  \n",
       "24  Topic 3  \n",
       "23  Topic 3  \n",
       "0   Topic 3  \n",
       "7   Topic 3  \n",
       "11  Topic 4  \n",
       "9   Topic 4  \n",
       "5   Topic 4  \n",
       "3   Topic 4  \n",
       "2   Topic 4  \n",
       "19  Topic 5  \n",
       "20  Topic 5  \n",
       "8   Topic 5  \n",
       "31  Topic 5  \n",
       "36  Topic 5  "
      ]
     },
     "execution_count": 46,
     "metadata": {},
     "output_type": "execute_result"
    }
   ],
   "source": [
    "#Print the first 5 Complaint for each of the Topics\n",
    "df_clean_group_analysis=df_clean.groupby('Topic').head(5)\n",
    "df_clean_group_analysis.sort_values('Topic')"
   ]
  },
  {
   "cell_type": "markdown",
   "metadata": {
    "id": "piyLxzj6v07j"
   },
   "source": [
    "#### After evaluating the mapping, if the topics assigned are correct then assign these names to the relevant topic:\n",
    "* Bank Account services\n",
    "* Credit card or prepaid card\n",
    "* Theft/Dispute Reporting\n",
    "* Mortgage/Loan\n",
    "* Others"
   ]
  },
  {
   "cell_type": "code",
   "execution_count": 47,
   "metadata": {},
   "outputs": [
    {
     "data": {
      "text/plain": [
       "\"pd.set_option('max_colwidth', 500)\\na=df_clean_duplicate[df_clean_duplicate['Topic'] == 'Topic 3']\\na[['complaint_what_happened','Topic']]\\n\""
      ]
     },
     "execution_count": 47,
     "metadata": {},
     "output_type": "execute_result"
    }
   ],
   "source": [
    "'''pd.set_option('max_colwidth', 500)\n",
    "a=df_clean_duplicate[df_clean_duplicate['Topic'] == 'Topic 3']\n",
    "a[['complaint_what_happened','Topic']]\n",
    "'''"
   ]
  },
  {
   "cell_type": "code",
   "execution_count": 48,
   "metadata": {},
   "outputs": [
    {
     "data": {
      "text/plain": [
       "Topic 3    5337\n",
       "Topic 1    5278\n",
       "Topic 5    4267\n",
       "Topic 2    3964\n",
       "Topic 4    2226\n",
       "Name: Topic, dtype: int64"
      ]
     },
     "execution_count": 48,
     "metadata": {},
     "output_type": "execute_result"
    }
   ],
   "source": [
    "df_clean['Topic'].value_counts()"
   ]
  },
  {
   "cell_type": "code",
   "execution_count": 49,
   "metadata": {
    "id": "TWpwDG4RJrGG"
   },
   "outputs": [],
   "source": [
    "#Create the dictionary of Topic names and Topics\n",
    "\n",
    "topic_mapping = {\n",
    "    'Topic 1': 'Bank account services',\n",
    "    'Topic 2': 'Credit card Prepaid card',\n",
    "    'Topic 3': 'Mortgages loans',\n",
    "    'Topic 4': 'Others',\n",
    "    'Topic 5': 'Theft Dispute reporting',\n",
    "}\n",
    "#Replace Topics with Topic Names\n",
    "df_clean['Topic'] = df_clean['Topic'].map(topic_mapping)"
   ]
  },
  {
   "cell_type": "code",
   "execution_count": 50,
   "metadata": {
    "id": "-2ULY5K6JrGG"
   },
   "outputs": [
    {
     "data": {
      "text/html": [
       "<div>\n",
       "<style scoped>\n",
       "    .dataframe tbody tr th:only-of-type {\n",
       "        vertical-align: middle;\n",
       "    }\n",
       "\n",
       "    .dataframe tbody tr th {\n",
       "        vertical-align: top;\n",
       "    }\n",
       "\n",
       "    .dataframe thead th {\n",
       "        text-align: right;\n",
       "    }\n",
       "</style>\n",
       "<table border=\"1\" class=\"dataframe\">\n",
       "  <thead>\n",
       "    <tr style=\"text-align: right;\">\n",
       "      <th></th>\n",
       "      <th>complaint_what_happened</th>\n",
       "      <th>preprocessed_complaint</th>\n",
       "      <th>complaint_POS_removed</th>\n",
       "      <th>Complaint_clean</th>\n",
       "      <th>Complaint_clean_no_masking</th>\n",
       "      <th>Topic</th>\n",
       "    </tr>\n",
       "  </thead>\n",
       "  <tbody>\n",
       "    <tr>\n",
       "      <th>0</th>\n",
       "      <td>Good morning my name is XXXX XXXX and I appreciate it if you could help me put a stop to Chase Bank cardmember services. \\nIn 2018 I wrote to Chase asking for debt verification and what they sent me a statement which is not acceptable. I am asking the bank to validate the debt. Instead I been receiving mail every month from them attempting to collect a debt. \\nI have a right to know this information as a consumer. \\n\\nChase account # XXXX XXXX XXXX XXXX Thanks in advance for your help.</td>\n",
       "      <td>good morning my name is xxxx xxxx and i appreciate it if you could help me put a stop to chase bank cardmember service in i wrote to chase asking for debt verification and what they sent me a statement which is not acceptable i am asking the bank to validate the debt instead i been receiving mail every month from them attempting to collect a debt i have a right to know this information a a consumer chase account xxxx xxxx xxxx xxxx thanks in advance for your help</td>\n",
       "      <td>morning name stop debt verification statement bank debt mail month debt right information consumer chase thanks advance help</td>\n",
       "      <td>morning name stop debt verification statement bank debt mail month debt right information consumer chase thanks advance help</td>\n",
       "      <td>morning name stop debt verification statement bank debt mail month debt right information consumer chase thanks advance help</td>\n",
       "      <td>Mortgages loans</td>\n",
       "    </tr>\n",
       "    <tr>\n",
       "      <th>1</th>\n",
       "      <td>I upgraded my XXXX XXXX card in XX/XX/2018 and was told by the agent who did the upgrade my anniversary date would not change. It turned the agent was giving me the wrong information in order to upgrade the account. XXXX   changed my anniversary date from XX/XX/XXXX to XX/XX/XXXX without my consent! XXXX has the recording of the agent who was misled me.</td>\n",
       "      <td>i upgraded my xxxx xxxx card in xxxx and wa told by the agent who did the upgrade my anniversary date would not change it turned the agent wa giving me the wrong information in order to upgrade the account xxxx changed my anniversary date from xxxxxxxx to xxxxxxxx without my consent xxxx ha the recording of the agent who wa misled me</td>\n",
       "      <td>agent upgrade anniversary date agent information order account anniversary date xxxxxxxx xxxxxxxx consent xxxx recording agent</td>\n",
       "      <td>agent upgrade anniversary date agent information order account anniversary date xxxxxxxx xxxxxxxx consent xxxx recording agent</td>\n",
       "      <td>agent upgrade anniversary date agent information order account anniversary date   consent  recording agent</td>\n",
       "      <td>Bank account services</td>\n",
       "    </tr>\n",
       "    <tr>\n",
       "      <th>2</th>\n",
       "      <td>Chase Card was reported on XX/XX/2019. However, fraudulent application have been submitted my identity without my consent to fraudulently obtain services. Do not extend credit without verifying the identity of the applicant.</td>\n",
       "      <td>chase card wa reported on xxxx however fraudulent application have been submitted my identity without my consent to fraudulently obtain service do not extend credit without verifying the identity of the applicant</td>\n",
       "      <td>application identity consent service credit identity applicant</td>\n",
       "      <td>application identity consent service credit identity applicant</td>\n",
       "      <td>application identity consent service credit identity applicant</td>\n",
       "      <td>Others</td>\n",
       "    </tr>\n",
       "  </tbody>\n",
       "</table>\n",
       "</div>"
      ],
      "text/plain": [
       "                                                                                                                                                                                                                                                                                                                                                                                                                                                                                      complaint_what_happened  \\\n",
       "0  Good morning my name is XXXX XXXX and I appreciate it if you could help me put a stop to Chase Bank cardmember services. \\nIn 2018 I wrote to Chase asking for debt verification and what they sent me a statement which is not acceptable. I am asking the bank to validate the debt. Instead I been receiving mail every month from them attempting to collect a debt. \\nI have a right to know this information as a consumer. \\n\\nChase account # XXXX XXXX XXXX XXXX Thanks in advance for your help.   \n",
       "1                                                                                                                                         I upgraded my XXXX XXXX card in XX/XX/2018 and was told by the agent who did the upgrade my anniversary date would not change. It turned the agent was giving me the wrong information in order to upgrade the account. XXXX   changed my anniversary date from XX/XX/XXXX to XX/XX/XXXX without my consent! XXXX has the recording of the agent who was misled me.   \n",
       "2                                                                                                                                                                                                                                                                            Chase Card was reported on XX/XX/2019. However, fraudulent application have been submitted my identity without my consent to fraudulently obtain services. Do not extend credit without verifying the identity of the applicant.   \n",
       "\n",
       "                                                                                                                                                                                                                                                                                                                                                                                                                                                                preprocessed_complaint  \\\n",
       "0  good morning my name is xxxx xxxx and i appreciate it if you could help me put a stop to chase bank cardmember service in i wrote to chase asking for debt verification and what they sent me a statement which is not acceptable i am asking the bank to validate the debt instead i been receiving mail every month from them attempting to collect a debt i have a right to know this information a a consumer chase account xxxx xxxx xxxx xxxx thanks in advance for your help   \n",
       "1                                                                                                                                      i upgraded my xxxx xxxx card in xxxx and wa told by the agent who did the upgrade my anniversary date would not change it turned the agent wa giving me the wrong information in order to upgrade the account xxxx changed my anniversary date from xxxxxxxx to xxxxxxxx without my consent xxxx ha the recording of the agent who wa misled me   \n",
       "2                                                                                                                                                                                                                                                                 chase card wa reported on xxxx however fraudulent application have been submitted my identity without my consent to fraudulently obtain service do not extend credit without verifying the identity of the applicant   \n",
       "\n",
       "                                                                                                            complaint_POS_removed  \\\n",
       "0    morning name stop debt verification statement bank debt mail month debt right information consumer chase thanks advance help   \n",
       "1  agent upgrade anniversary date agent information order account anniversary date xxxxxxxx xxxxxxxx consent xxxx recording agent   \n",
       "2                                                                  application identity consent service credit identity applicant   \n",
       "\n",
       "                                                                                                                  Complaint_clean  \\\n",
       "0    morning name stop debt verification statement bank debt mail month debt right information consumer chase thanks advance help   \n",
       "1  agent upgrade anniversary date agent information order account anniversary date xxxxxxxx xxxxxxxx consent xxxx recording agent   \n",
       "2                                                                  application identity consent service credit identity applicant   \n",
       "\n",
       "                                                                                                     Complaint_clean_no_masking  \\\n",
       "0  morning name stop debt verification statement bank debt mail month debt right information consumer chase thanks advance help   \n",
       "1                    agent upgrade anniversary date agent information order account anniversary date   consent  recording agent   \n",
       "2                                                                application identity consent service credit identity applicant   \n",
       "\n",
       "                   Topic  \n",
       "0        Mortgages loans  \n",
       "1  Bank account services  \n",
       "2                 Others  "
      ]
     },
     "execution_count": 50,
     "metadata": {},
     "output_type": "execute_result"
    }
   ],
   "source": [
    "df_clean.head(3)"
   ]
  },
  {
   "cell_type": "markdown",
   "metadata": {
    "id": "7Mu0QBOcJrGH"
   },
   "source": [
    "## Supervised model to predict any new complaints to the relevant Topics.\n",
    "\n",
    "We have now build the model to create the topics for each complaints.Now in the below section we will use them to classify any new complaints.\n",
    "\n",
    "Since we will be using supervised learning technique we have to convert the topic names to numbers(as numpy arrays only understand numbers)"
   ]
  },
  {
   "cell_type": "code",
   "execution_count": 51,
   "metadata": {
    "id": "_U8J3J8wJrGH"
   },
   "outputs": [],
   "source": [
    "#Create the dictionary again of Topic names and Topics\n",
    "\n",
    "topic_mapping = {\n",
    "    'Bank account services':'1',\n",
    "    'Credit card Prepaid card':'2' ,\n",
    "    'Mortgages loans':'3',\n",
    "    'Others':'4',\n",
    "    'Theft Dispute reporting':'5',\n",
    "\n",
    "}\n",
    "#Replace Topics with Topic Names\n",
    "df_clean['Topic'] = df_clean['Topic'].map(topic_mapping)"
   ]
  },
  {
   "cell_type": "code",
   "execution_count": 52,
   "metadata": {
    "id": "BWIgJUkQJrGH"
   },
   "outputs": [
    {
     "data": {
      "text/html": [
       "<div>\n",
       "<style scoped>\n",
       "    .dataframe tbody tr th:only-of-type {\n",
       "        vertical-align: middle;\n",
       "    }\n",
       "\n",
       "    .dataframe tbody tr th {\n",
       "        vertical-align: top;\n",
       "    }\n",
       "\n",
       "    .dataframe thead th {\n",
       "        text-align: right;\n",
       "    }\n",
       "</style>\n",
       "<table border=\"1\" class=\"dataframe\">\n",
       "  <thead>\n",
       "    <tr style=\"text-align: right;\">\n",
       "      <th></th>\n",
       "      <th>complaint_what_happened</th>\n",
       "      <th>preprocessed_complaint</th>\n",
       "      <th>complaint_POS_removed</th>\n",
       "      <th>Complaint_clean</th>\n",
       "      <th>Complaint_clean_no_masking</th>\n",
       "      <th>Topic</th>\n",
       "    </tr>\n",
       "  </thead>\n",
       "  <tbody>\n",
       "    <tr>\n",
       "      <th>0</th>\n",
       "      <td>Good morning my name is XXXX XXXX and I appreciate it if you could help me put a stop to Chase Bank cardmember services. \\nIn 2018 I wrote to Chase asking for debt verification and what they sent me a statement which is not acceptable. I am asking the bank to validate the debt. Instead I been receiving mail every month from them attempting to collect a debt. \\nI have a right to know this information as a consumer. \\n\\nChase account # XXXX XXXX XXXX XXXX Thanks in advance for your help.</td>\n",
       "      <td>good morning my name is xxxx xxxx and i appreciate it if you could help me put a stop to chase bank cardmember service in i wrote to chase asking for debt verification and what they sent me a statement which is not acceptable i am asking the bank to validate the debt instead i been receiving mail every month from them attempting to collect a debt i have a right to know this information a a consumer chase account xxxx xxxx xxxx xxxx thanks in advance for your help</td>\n",
       "      <td>morning name stop debt verification statement bank debt mail month debt right information consumer chase thanks advance help</td>\n",
       "      <td>morning name stop debt verification statement bank debt mail month debt right information consumer chase thanks advance help</td>\n",
       "      <td>morning name stop debt verification statement bank debt mail month debt right information consumer chase thanks advance help</td>\n",
       "      <td>3</td>\n",
       "    </tr>\n",
       "    <tr>\n",
       "      <th>1</th>\n",
       "      <td>I upgraded my XXXX XXXX card in XX/XX/2018 and was told by the agent who did the upgrade my anniversary date would not change. It turned the agent was giving me the wrong information in order to upgrade the account. XXXX   changed my anniversary date from XX/XX/XXXX to XX/XX/XXXX without my consent! XXXX has the recording of the agent who was misled me.</td>\n",
       "      <td>i upgraded my xxxx xxxx card in xxxx and wa told by the agent who did the upgrade my anniversary date would not change it turned the agent wa giving me the wrong information in order to upgrade the account xxxx changed my anniversary date from xxxxxxxx to xxxxxxxx without my consent xxxx ha the recording of the agent who wa misled me</td>\n",
       "      <td>agent upgrade anniversary date agent information order account anniversary date xxxxxxxx xxxxxxxx consent xxxx recording agent</td>\n",
       "      <td>agent upgrade anniversary date agent information order account anniversary date xxxxxxxx xxxxxxxx consent xxxx recording agent</td>\n",
       "      <td>agent upgrade anniversary date agent information order account anniversary date   consent  recording agent</td>\n",
       "      <td>1</td>\n",
       "    </tr>\n",
       "    <tr>\n",
       "      <th>2</th>\n",
       "      <td>Chase Card was reported on XX/XX/2019. However, fraudulent application have been submitted my identity without my consent to fraudulently obtain services. Do not extend credit without verifying the identity of the applicant.</td>\n",
       "      <td>chase card wa reported on xxxx however fraudulent application have been submitted my identity without my consent to fraudulently obtain service do not extend credit without verifying the identity of the applicant</td>\n",
       "      <td>application identity consent service credit identity applicant</td>\n",
       "      <td>application identity consent service credit identity applicant</td>\n",
       "      <td>application identity consent service credit identity applicant</td>\n",
       "      <td>4</td>\n",
       "    </tr>\n",
       "  </tbody>\n",
       "</table>\n",
       "</div>"
      ],
      "text/plain": [
       "                                                                                                                                                                                                                                                                                                                                                                                                                                                                                      complaint_what_happened  \\\n",
       "0  Good morning my name is XXXX XXXX and I appreciate it if you could help me put a stop to Chase Bank cardmember services. \\nIn 2018 I wrote to Chase asking for debt verification and what they sent me a statement which is not acceptable. I am asking the bank to validate the debt. Instead I been receiving mail every month from them attempting to collect a debt. \\nI have a right to know this information as a consumer. \\n\\nChase account # XXXX XXXX XXXX XXXX Thanks in advance for your help.   \n",
       "1                                                                                                                                         I upgraded my XXXX XXXX card in XX/XX/2018 and was told by the agent who did the upgrade my anniversary date would not change. It turned the agent was giving me the wrong information in order to upgrade the account. XXXX   changed my anniversary date from XX/XX/XXXX to XX/XX/XXXX without my consent! XXXX has the recording of the agent who was misled me.   \n",
       "2                                                                                                                                                                                                                                                                            Chase Card was reported on XX/XX/2019. However, fraudulent application have been submitted my identity without my consent to fraudulently obtain services. Do not extend credit without verifying the identity of the applicant.   \n",
       "\n",
       "                                                                                                                                                                                                                                                                                                                                                                                                                                                                preprocessed_complaint  \\\n",
       "0  good morning my name is xxxx xxxx and i appreciate it if you could help me put a stop to chase bank cardmember service in i wrote to chase asking for debt verification and what they sent me a statement which is not acceptable i am asking the bank to validate the debt instead i been receiving mail every month from them attempting to collect a debt i have a right to know this information a a consumer chase account xxxx xxxx xxxx xxxx thanks in advance for your help   \n",
       "1                                                                                                                                      i upgraded my xxxx xxxx card in xxxx and wa told by the agent who did the upgrade my anniversary date would not change it turned the agent wa giving me the wrong information in order to upgrade the account xxxx changed my anniversary date from xxxxxxxx to xxxxxxxx without my consent xxxx ha the recording of the agent who wa misled me   \n",
       "2                                                                                                                                                                                                                                                                 chase card wa reported on xxxx however fraudulent application have been submitted my identity without my consent to fraudulently obtain service do not extend credit without verifying the identity of the applicant   \n",
       "\n",
       "                                                                                                            complaint_POS_removed  \\\n",
       "0    morning name stop debt verification statement bank debt mail month debt right information consumer chase thanks advance help   \n",
       "1  agent upgrade anniversary date agent information order account anniversary date xxxxxxxx xxxxxxxx consent xxxx recording agent   \n",
       "2                                                                  application identity consent service credit identity applicant   \n",
       "\n",
       "                                                                                                                  Complaint_clean  \\\n",
       "0    morning name stop debt verification statement bank debt mail month debt right information consumer chase thanks advance help   \n",
       "1  agent upgrade anniversary date agent information order account anniversary date xxxxxxxx xxxxxxxx consent xxxx recording agent   \n",
       "2                                                                  application identity consent service credit identity applicant   \n",
       "\n",
       "                                                                                                     Complaint_clean_no_masking  \\\n",
       "0  morning name stop debt verification statement bank debt mail month debt right information consumer chase thanks advance help   \n",
       "1                    agent upgrade anniversary date agent information order account anniversary date   consent  recording agent   \n",
       "2                                                                application identity consent service credit identity applicant   \n",
       "\n",
       "  Topic  \n",
       "0     3  \n",
       "1     1  \n",
       "2     4  "
      ]
     },
     "execution_count": 52,
     "metadata": {},
     "output_type": "execute_result"
    }
   ],
   "source": [
    "df_clean.head(3)"
   ]
  },
  {
   "cell_type": "code",
   "execution_count": 53,
   "metadata": {},
   "outputs": [
    {
     "name": "stdout",
     "output_type": "stream",
     "text": [
      "<class 'pandas.core.frame.DataFrame'>\n",
      "RangeIndex: 21072 entries, 0 to 21071\n",
      "Data columns (total 6 columns):\n",
      " #   Column                      Non-Null Count  Dtype \n",
      "---  ------                      --------------  ----- \n",
      " 0   complaint_what_happened     21072 non-null  object\n",
      " 1   preprocessed_complaint      21072 non-null  object\n",
      " 2   complaint_POS_removed       21072 non-null  object\n",
      " 3   Complaint_clean             21072 non-null  object\n",
      " 4   Complaint_clean_no_masking  21072 non-null  object\n",
      " 5   Topic                       21072 non-null  object\n",
      "dtypes: object(6)\n",
      "memory usage: 987.9+ KB\n"
     ]
    }
   ],
   "source": [
    "df_clean.info()"
   ]
  },
  {
   "cell_type": "code",
   "execution_count": 54,
   "metadata": {},
   "outputs": [
    {
     "name": "stdout",
     "output_type": "stream",
     "text": [
      "<class 'pandas.core.frame.DataFrame'>\n",
      "RangeIndex: 21072 entries, 0 to 21071\n",
      "Data columns (total 6 columns):\n",
      " #   Column                      Non-Null Count  Dtype \n",
      "---  ------                      --------------  ----- \n",
      " 0   complaint_what_happened     21072 non-null  object\n",
      " 1   preprocessed_complaint      21072 non-null  object\n",
      " 2   complaint_POS_removed       21072 non-null  object\n",
      " 3   Complaint_clean             21072 non-null  object\n",
      " 4   Complaint_clean_no_masking  21072 non-null  object\n",
      " 5   Topic                       21072 non-null  int32 \n",
      "dtypes: int32(1), object(5)\n",
      "memory usage: 905.6+ KB\n"
     ]
    }
   ],
   "source": [
    "df_clean['Topic'] = df_clean['Topic'].astype('int32')\n",
    "df_clean.info()"
   ]
  },
  {
   "cell_type": "code",
   "execution_count": 55,
   "metadata": {
    "id": "Xx-FrbkWJrGH"
   },
   "outputs": [],
   "source": [
    "#Keep the columns\"complaint_what_happened\" & \"Topic\" only in the new dataframe --> training_data\n",
    "training_data= df_clean[['complaint_what_happened','Topic']]"
   ]
  },
  {
   "cell_type": "code",
   "execution_count": 56,
   "metadata": {
    "id": "lVg2pa12JrGI"
   },
   "outputs": [
    {
     "data": {
      "text/plain": [
       "(21072, 2)"
      ]
     },
     "execution_count": 56,
     "metadata": {},
     "output_type": "execute_result"
    }
   ],
   "source": [
    "training_data.shape"
   ]
  },
  {
   "cell_type": "code",
   "execution_count": 57,
   "metadata": {},
   "outputs": [
    {
     "data": {
      "text/html": [
       "<div>\n",
       "<style scoped>\n",
       "    .dataframe tbody tr th:only-of-type {\n",
       "        vertical-align: middle;\n",
       "    }\n",
       "\n",
       "    .dataframe tbody tr th {\n",
       "        vertical-align: top;\n",
       "    }\n",
       "\n",
       "    .dataframe thead th {\n",
       "        text-align: right;\n",
       "    }\n",
       "</style>\n",
       "<table border=\"1\" class=\"dataframe\">\n",
       "  <thead>\n",
       "    <tr style=\"text-align: right;\">\n",
       "      <th></th>\n",
       "      <th>complaint_what_happened</th>\n",
       "      <th>Topic</th>\n",
       "    </tr>\n",
       "  </thead>\n",
       "  <tbody>\n",
       "    <tr>\n",
       "      <th>0</th>\n",
       "      <td>Good morning my name is XXXX XXXX and I appreciate it if you could help me put a stop to Chase Bank cardmember services. \\nIn 2018 I wrote to Chase asking for debt verification and what they sent me a statement which is not acceptable. I am asking the bank to validate the debt. Instead I been receiving mail every month from them attempting to collect a debt. \\nI have a right to know this information as a consumer. \\n\\nChase account # XXXX XXXX XXXX XXXX Thanks in advance for your help.</td>\n",
       "      <td>3</td>\n",
       "    </tr>\n",
       "    <tr>\n",
       "      <th>1</th>\n",
       "      <td>I upgraded my XXXX XXXX card in XX/XX/2018 and was told by the agent who did the upgrade my anniversary date would not change. It turned the agent was giving me the wrong information in order to upgrade the account. XXXX   changed my anniversary date from XX/XX/XXXX to XX/XX/XXXX without my consent! XXXX has the recording of the agent who was misled me.</td>\n",
       "      <td>1</td>\n",
       "    </tr>\n",
       "    <tr>\n",
       "      <th>2</th>\n",
       "      <td>Chase Card was reported on XX/XX/2019. However, fraudulent application have been submitted my identity without my consent to fraudulently obtain services. Do not extend credit without verifying the identity of the applicant.</td>\n",
       "      <td>4</td>\n",
       "    </tr>\n",
       "  </tbody>\n",
       "</table>\n",
       "</div>"
      ],
      "text/plain": [
       "                                                                                                                                                                                                                                                                                                                                                                                                                                                                                      complaint_what_happened  \\\n",
       "0  Good morning my name is XXXX XXXX and I appreciate it if you could help me put a stop to Chase Bank cardmember services. \\nIn 2018 I wrote to Chase asking for debt verification and what they sent me a statement which is not acceptable. I am asking the bank to validate the debt. Instead I been receiving mail every month from them attempting to collect a debt. \\nI have a right to know this information as a consumer. \\n\\nChase account # XXXX XXXX XXXX XXXX Thanks in advance for your help.   \n",
       "1                                                                                                                                         I upgraded my XXXX XXXX card in XX/XX/2018 and was told by the agent who did the upgrade my anniversary date would not change. It turned the agent was giving me the wrong information in order to upgrade the account. XXXX   changed my anniversary date from XX/XX/XXXX to XX/XX/XXXX without my consent! XXXX has the recording of the agent who was misled me.   \n",
       "2                                                                                                                                                                                                                                                                            Chase Card was reported on XX/XX/2019. However, fraudulent application have been submitted my identity without my consent to fraudulently obtain services. Do not extend credit without verifying the identity of the applicant.   \n",
       "\n",
       "   Topic  \n",
       "0      3  \n",
       "1      1  \n",
       "2      4  "
      ]
     },
     "execution_count": 57,
     "metadata": {},
     "output_type": "execute_result"
    }
   ],
   "source": [
    "training_data.head(3)"
   ]
  },
  {
   "cell_type": "code",
   "execution_count": 58,
   "metadata": {},
   "outputs": [
    {
     "data": {
      "text/html": [
       "<div>\n",
       "<style scoped>\n",
       "    .dataframe tbody tr th:only-of-type {\n",
       "        vertical-align: middle;\n",
       "    }\n",
       "\n",
       "    .dataframe tbody tr th {\n",
       "        vertical-align: top;\n",
       "    }\n",
       "\n",
       "    .dataframe thead th {\n",
       "        text-align: right;\n",
       "    }\n",
       "</style>\n",
       "<table border=\"1\" class=\"dataframe\">\n",
       "  <thead>\n",
       "    <tr style=\"text-align: right;\">\n",
       "      <th></th>\n",
       "      <th>complaint_what_happened</th>\n",
       "      <th>Topic</th>\n",
       "    </tr>\n",
       "  </thead>\n",
       "  <tbody>\n",
       "    <tr>\n",
       "      <th>7896</th>\n",
       "      <td>Good Morning, I am wanting to advise of an issue that I was just alerted of regarding Chase Bank. I have XXXX accounts at this institution and my daughter was making a purchase at a retail store where her credit card was denied. I called Chase to find out the issue of what was wrong and they advises that our account was in loss prevention and no are no longer wanting to do business with us. I asked why and they proceeded to tell me they do n't have to disclose a reason as they are able to close accounts when they want and the reason that they have is in an internal reason and they are not able to disclose to me why. I basically asked the representative at Chase so u mean it is a big secret and he said basically yes and they will send me a check of the remaining balance in the mail in 10 days or I can go to a branch and get my money. I am at a loss for words as now I have XXXX which are accounts for a XXXX XXXX and a XXXX student where we have to figure out in a blink of an eye what our next step is. We have to stop 4 direct deposits and because what we are blue collars workers that live paycheck to paycheck and are not profitable to the bank we get the axe without any for warning. My account does not have suspicious activity. All my deposits and withdrawals are all associated with a name/place whether I use my atm card or have it directly withdrawn from my account. I work and pay bills and ensure my children 's accounts are ok and transfer money to and from of needed so everything is labeled. I think freezing someone 's account without warning is not a proper way to do business especially if we are not profitable and then proceed to say they ca n't disclose the reason why. If they feel I am doing something wrong why not advise me so it can be straightened out which is why I think it boils down to the bottom line that we are not beneficial to this XXXX dollar institution. I now need to take a day from work to go to the bank to get my money and open another account with needing to stop electronic deposits and withdrawals in a rush all because we do n't fit the ideal customer they are looking for but the business account I have my name associated with as I am a signor for our XXXX XXXX is still ok to stay open with hem because of the high balance. \\n\\nThank youXXXX XXXX</td>\n",
       "      <td>1</td>\n",
       "    </tr>\n",
       "    <tr>\n",
       "      <th>5794</th>\n",
       "      <td>i had a chase credit card and went through some financial hardship during my last year of school in the beginning of XXXX. i have had a great relationship with chase for XXXX years and XXXX years of great credit history. i had the account closed and sent to collection which i have now settled and cleared with the bank in XXXX this year. i want to start building a relationship with chase again.</td>\n",
       "      <td>2</td>\n",
       "    </tr>\n",
       "    <tr>\n",
       "      <th>6277</th>\n",
       "      <td>I cancelled my chase credit card nearly 6 months ago. At least I thought I did. Turns out it was used for an online purchase I made by mistake in XXXX. The payment should have never gone through but apparently they did n't cancel the card. Anyways I did n't get any notification of the payment because the emails were going to my junk email. I was notified by XXXX XXXX yesterday (XX/XX/XXXX ) that I had a delinquent account. I paid it immediately. I attempted in the morning ( XX/XX/XXXX ) to ask Chase to remove the negative remark from my account. They informed me the federal government requires them to report negative actions according to the fair credit reporting act. I found out that was n't true. A few hours later I called them back to discuss why they had lied to me. I attempted to record the phone call and they refused to talk to me because I was recording the call. I refused to stop recording and ended the call</td>\n",
       "      <td>2</td>\n",
       "    </tr>\n",
       "  </tbody>\n",
       "</table>\n",
       "</div>"
      ],
      "text/plain": [
       "                                                                                                                                                                                                                                                                                                                                                                                                                                                                                                                                                                                                                                                                                                                                                                                                                                                                                                                                                                                                                                                                                                                                                                                                                                                                                                                                                                                                                                                                                                                                                                                                                                                                                                                                                                                                                                                                                                                                                                                                                                                                                                                                                                                                                                                                                                                                                                                  complaint_what_happened  \\\n",
       "7896  Good Morning, I am wanting to advise of an issue that I was just alerted of regarding Chase Bank. I have XXXX accounts at this institution and my daughter was making a purchase at a retail store where her credit card was denied. I called Chase to find out the issue of what was wrong and they advises that our account was in loss prevention and no are no longer wanting to do business with us. I asked why and they proceeded to tell me they do n't have to disclose a reason as they are able to close accounts when they want and the reason that they have is in an internal reason and they are not able to disclose to me why. I basically asked the representative at Chase so u mean it is a big secret and he said basically yes and they will send me a check of the remaining balance in the mail in 10 days or I can go to a branch and get my money. I am at a loss for words as now I have XXXX which are accounts for a XXXX XXXX and a XXXX student where we have to figure out in a blink of an eye what our next step is. We have to stop 4 direct deposits and because what we are blue collars workers that live paycheck to paycheck and are not profitable to the bank we get the axe without any for warning. My account does not have suspicious activity. All my deposits and withdrawals are all associated with a name/place whether I use my atm card or have it directly withdrawn from my account. I work and pay bills and ensure my children 's accounts are ok and transfer money to and from of needed so everything is labeled. I think freezing someone 's account without warning is not a proper way to do business especially if we are not profitable and then proceed to say they ca n't disclose the reason why. If they feel I am doing something wrong why not advise me so it can be straightened out which is why I think it boils down to the bottom line that we are not beneficial to this XXXX dollar institution. I now need to take a day from work to go to the bank to get my money and open another account with needing to stop electronic deposits and withdrawals in a rush all because we do n't fit the ideal customer they are looking for but the business account I have my name associated with as I am a signor for our XXXX XXXX is still ok to stay open with hem because of the high balance. \\n\\nThank youXXXX XXXX   \n",
       "5794                                                                                                                                                                                                                                                                                                                                                                                                                                                                                                                                                                                                                                                                                                                                                                                                                                                                                                                                                                                                                                                                                                                                                                                                                                                                                                                                                                                                                                                                                                                                                                                                                                                                                                                                                                                                                                                                                                                                                                                         i had a chase credit card and went through some financial hardship during my last year of school in the beginning of XXXX. i have had a great relationship with chase for XXXX years and XXXX years of great credit history. i had the account closed and sent to collection which i have now settled and cleared with the bank in XXXX this year. i want to start building a relationship with chase again.   \n",
       "6277                                                                                                                                                                                                                                                                                                                                                                                                                                                                                                                                                                                                                                                                                                                                                                                                                                                                                                                                                                                                                                                                                                                                                                                                                                                                                                                                                                                                                                    I cancelled my chase credit card nearly 6 months ago. At least I thought I did. Turns out it was used for an online purchase I made by mistake in XXXX. The payment should have never gone through but apparently they did n't cancel the card. Anyways I did n't get any notification of the payment because the emails were going to my junk email. I was notified by XXXX XXXX yesterday (XX/XX/XXXX ) that I had a delinquent account. I paid it immediately. I attempted in the morning ( XX/XX/XXXX ) to ask Chase to remove the negative remark from my account. They informed me the federal government requires them to report negative actions according to the fair credit reporting act. I found out that was n't true. A few hours later I called them back to discuss why they had lied to me. I attempted to record the phone call and they refused to talk to me because I was recording the call. I refused to stop recording and ended the call   \n",
       "\n",
       "      Topic  \n",
       "7896      1  \n",
       "5794      2  \n",
       "6277      2  "
      ]
     },
     "execution_count": 58,
     "metadata": {},
     "output_type": "execute_result"
    }
   ],
   "source": [
    "#Shuffle the entire dataset for randomness\n",
    "training_data = training_data.sample(frac = 1)\n",
    "training_data.head(3)"
   ]
  },
  {
   "cell_type": "code",
   "execution_count": 59,
   "metadata": {},
   "outputs": [
    {
     "data": {
      "text/plain": [
       "3    5337\n",
       "1    5278\n",
       "5    4267\n",
       "2    3964\n",
       "4    2226\n",
       "Name: Topic, dtype: int64"
      ]
     },
     "execution_count": 59,
     "metadata": {},
     "output_type": "execute_result"
    }
   ],
   "source": [
    "training_data['Topic'].value_counts()"
   ]
  },
  {
   "cell_type": "markdown",
   "metadata": {
    "id": "280Vbqk-7a8M"
   },
   "source": [
    "### Apply the supervised models on the training data created. In this process, we have to do the following:\n",
    "* Create the vector counts using Count Vectoriser\n",
    "* Transform the word vecotr to tf-idf\n",
    "* Create the train & test data using the train_test_split on the tf-idf & topics\n"
   ]
  },
  {
   "cell_type": "code",
   "execution_count": 60,
   "metadata": {
    "id": "oUlQpgkzJrGI"
   },
   "outputs": [
    {
     "data": {
      "text/html": [
       "<div>\n",
       "<style scoped>\n",
       "    .dataframe tbody tr th:only-of-type {\n",
       "        vertical-align: middle;\n",
       "    }\n",
       "\n",
       "    .dataframe tbody tr th {\n",
       "        vertical-align: top;\n",
       "    }\n",
       "\n",
       "    .dataframe thead th {\n",
       "        text-align: right;\n",
       "    }\n",
       "</style>\n",
       "<table border=\"1\" class=\"dataframe\">\n",
       "  <thead>\n",
       "    <tr style=\"text-align: right;\">\n",
       "      <th></th>\n",
       "      <th>00</th>\n",
       "      <th>000</th>\n",
       "      <th>000s</th>\n",
       "      <th>001</th>\n",
       "      <th>01</th>\n",
       "      <th>0111</th>\n",
       "      <th>02</th>\n",
       "      <th>03</th>\n",
       "      <th>04</th>\n",
       "      <th>05</th>\n",
       "      <th>...</th>\n",
       "      <th>zero</th>\n",
       "      <th>zeroed</th>\n",
       "      <th>zeros</th>\n",
       "      <th>zilch</th>\n",
       "      <th>zip</th>\n",
       "      <th>zipcode</th>\n",
       "      <th>zombie</th>\n",
       "      <th>zone</th>\n",
       "      <th>zones</th>\n",
       "      <th>zoom</th>\n",
       "    </tr>\n",
       "  </thead>\n",
       "  <tbody>\n",
       "    <tr>\n",
       "      <th>0</th>\n",
       "      <td>0.000000</td>\n",
       "      <td>0.0</td>\n",
       "      <td>0.0</td>\n",
       "      <td>0.0</td>\n",
       "      <td>0.0</td>\n",
       "      <td>0.0</td>\n",
       "      <td>0.0</td>\n",
       "      <td>0.0</td>\n",
       "      <td>0.0</td>\n",
       "      <td>0.0</td>\n",
       "      <td>...</td>\n",
       "      <td>0.0</td>\n",
       "      <td>0.0</td>\n",
       "      <td>0.0</td>\n",
       "      <td>0.0</td>\n",
       "      <td>0.0</td>\n",
       "      <td>0.0</td>\n",
       "      <td>0.0</td>\n",
       "      <td>0.0</td>\n",
       "      <td>0.0</td>\n",
       "      <td>0.0</td>\n",
       "    </tr>\n",
       "    <tr>\n",
       "      <th>1</th>\n",
       "      <td>0.000000</td>\n",
       "      <td>0.0</td>\n",
       "      <td>0.0</td>\n",
       "      <td>0.0</td>\n",
       "      <td>0.0</td>\n",
       "      <td>0.0</td>\n",
       "      <td>0.0</td>\n",
       "      <td>0.0</td>\n",
       "      <td>0.0</td>\n",
       "      <td>0.0</td>\n",
       "      <td>...</td>\n",
       "      <td>0.0</td>\n",
       "      <td>0.0</td>\n",
       "      <td>0.0</td>\n",
       "      <td>0.0</td>\n",
       "      <td>0.0</td>\n",
       "      <td>0.0</td>\n",
       "      <td>0.0</td>\n",
       "      <td>0.0</td>\n",
       "      <td>0.0</td>\n",
       "      <td>0.0</td>\n",
       "    </tr>\n",
       "    <tr>\n",
       "      <th>2</th>\n",
       "      <td>0.000000</td>\n",
       "      <td>0.0</td>\n",
       "      <td>0.0</td>\n",
       "      <td>0.0</td>\n",
       "      <td>0.0</td>\n",
       "      <td>0.0</td>\n",
       "      <td>0.0</td>\n",
       "      <td>0.0</td>\n",
       "      <td>0.0</td>\n",
       "      <td>0.0</td>\n",
       "      <td>...</td>\n",
       "      <td>0.0</td>\n",
       "      <td>0.0</td>\n",
       "      <td>0.0</td>\n",
       "      <td>0.0</td>\n",
       "      <td>0.0</td>\n",
       "      <td>0.0</td>\n",
       "      <td>0.0</td>\n",
       "      <td>0.0</td>\n",
       "      <td>0.0</td>\n",
       "      <td>0.0</td>\n",
       "    </tr>\n",
       "    <tr>\n",
       "      <th>3</th>\n",
       "      <td>0.000000</td>\n",
       "      <td>0.0</td>\n",
       "      <td>0.0</td>\n",
       "      <td>0.0</td>\n",
       "      <td>0.0</td>\n",
       "      <td>0.0</td>\n",
       "      <td>0.0</td>\n",
       "      <td>0.0</td>\n",
       "      <td>0.0</td>\n",
       "      <td>0.0</td>\n",
       "      <td>...</td>\n",
       "      <td>0.0</td>\n",
       "      <td>0.0</td>\n",
       "      <td>0.0</td>\n",
       "      <td>0.0</td>\n",
       "      <td>0.0</td>\n",
       "      <td>0.0</td>\n",
       "      <td>0.0</td>\n",
       "      <td>0.0</td>\n",
       "      <td>0.0</td>\n",
       "      <td>0.0</td>\n",
       "    </tr>\n",
       "    <tr>\n",
       "      <th>4</th>\n",
       "      <td>0.000000</td>\n",
       "      <td>0.0</td>\n",
       "      <td>0.0</td>\n",
       "      <td>0.0</td>\n",
       "      <td>0.0</td>\n",
       "      <td>0.0</td>\n",
       "      <td>0.0</td>\n",
       "      <td>0.0</td>\n",
       "      <td>0.0</td>\n",
       "      <td>0.0</td>\n",
       "      <td>...</td>\n",
       "      <td>0.0</td>\n",
       "      <td>0.0</td>\n",
       "      <td>0.0</td>\n",
       "      <td>0.0</td>\n",
       "      <td>0.0</td>\n",
       "      <td>0.0</td>\n",
       "      <td>0.0</td>\n",
       "      <td>0.0</td>\n",
       "      <td>0.0</td>\n",
       "      <td>0.0</td>\n",
       "    </tr>\n",
       "    <tr>\n",
       "      <th>...</th>\n",
       "      <td>...</td>\n",
       "      <td>...</td>\n",
       "      <td>...</td>\n",
       "      <td>...</td>\n",
       "      <td>...</td>\n",
       "      <td>...</td>\n",
       "      <td>...</td>\n",
       "      <td>...</td>\n",
       "      <td>...</td>\n",
       "      <td>...</td>\n",
       "      <td>...</td>\n",
       "      <td>...</td>\n",
       "      <td>...</td>\n",
       "      <td>...</td>\n",
       "      <td>...</td>\n",
       "      <td>...</td>\n",
       "      <td>...</td>\n",
       "      <td>...</td>\n",
       "      <td>...</td>\n",
       "      <td>...</td>\n",
       "      <td>...</td>\n",
       "    </tr>\n",
       "    <tr>\n",
       "      <th>21067</th>\n",
       "      <td>0.000000</td>\n",
       "      <td>0.0</td>\n",
       "      <td>0.0</td>\n",
       "      <td>0.0</td>\n",
       "      <td>0.0</td>\n",
       "      <td>0.0</td>\n",
       "      <td>0.0</td>\n",
       "      <td>0.0</td>\n",
       "      <td>0.0</td>\n",
       "      <td>0.0</td>\n",
       "      <td>...</td>\n",
       "      <td>0.0</td>\n",
       "      <td>0.0</td>\n",
       "      <td>0.0</td>\n",
       "      <td>0.0</td>\n",
       "      <td>0.0</td>\n",
       "      <td>0.0</td>\n",
       "      <td>0.0</td>\n",
       "      <td>0.0</td>\n",
       "      <td>0.0</td>\n",
       "      <td>0.0</td>\n",
       "    </tr>\n",
       "    <tr>\n",
       "      <th>21068</th>\n",
       "      <td>0.000000</td>\n",
       "      <td>0.0</td>\n",
       "      <td>0.0</td>\n",
       "      <td>0.0</td>\n",
       "      <td>0.0</td>\n",
       "      <td>0.0</td>\n",
       "      <td>0.0</td>\n",
       "      <td>0.0</td>\n",
       "      <td>0.0</td>\n",
       "      <td>0.0</td>\n",
       "      <td>...</td>\n",
       "      <td>0.0</td>\n",
       "      <td>0.0</td>\n",
       "      <td>0.0</td>\n",
       "      <td>0.0</td>\n",
       "      <td>0.0</td>\n",
       "      <td>0.0</td>\n",
       "      <td>0.0</td>\n",
       "      <td>0.0</td>\n",
       "      <td>0.0</td>\n",
       "      <td>0.0</td>\n",
       "    </tr>\n",
       "    <tr>\n",
       "      <th>21069</th>\n",
       "      <td>0.085458</td>\n",
       "      <td>0.0</td>\n",
       "      <td>0.0</td>\n",
       "      <td>0.0</td>\n",
       "      <td>0.0</td>\n",
       "      <td>0.0</td>\n",
       "      <td>0.0</td>\n",
       "      <td>0.0</td>\n",
       "      <td>0.0</td>\n",
       "      <td>0.0</td>\n",
       "      <td>...</td>\n",
       "      <td>0.0</td>\n",
       "      <td>0.0</td>\n",
       "      <td>0.0</td>\n",
       "      <td>0.0</td>\n",
       "      <td>0.0</td>\n",
       "      <td>0.0</td>\n",
       "      <td>0.0</td>\n",
       "      <td>0.0</td>\n",
       "      <td>0.0</td>\n",
       "      <td>0.0</td>\n",
       "    </tr>\n",
       "    <tr>\n",
       "      <th>21070</th>\n",
       "      <td>0.203960</td>\n",
       "      <td>0.0</td>\n",
       "      <td>0.0</td>\n",
       "      <td>0.0</td>\n",
       "      <td>0.0</td>\n",
       "      <td>0.0</td>\n",
       "      <td>0.0</td>\n",
       "      <td>0.0</td>\n",
       "      <td>0.0</td>\n",
       "      <td>0.0</td>\n",
       "      <td>...</td>\n",
       "      <td>0.0</td>\n",
       "      <td>0.0</td>\n",
       "      <td>0.0</td>\n",
       "      <td>0.0</td>\n",
       "      <td>0.0</td>\n",
       "      <td>0.0</td>\n",
       "      <td>0.0</td>\n",
       "      <td>0.0</td>\n",
       "      <td>0.0</td>\n",
       "      <td>0.0</td>\n",
       "    </tr>\n",
       "    <tr>\n",
       "      <th>21071</th>\n",
       "      <td>0.000000</td>\n",
       "      <td>0.0</td>\n",
       "      <td>0.0</td>\n",
       "      <td>0.0</td>\n",
       "      <td>0.0</td>\n",
       "      <td>0.0</td>\n",
       "      <td>0.0</td>\n",
       "      <td>0.0</td>\n",
       "      <td>0.0</td>\n",
       "      <td>0.0</td>\n",
       "      <td>...</td>\n",
       "      <td>0.0</td>\n",
       "      <td>0.0</td>\n",
       "      <td>0.0</td>\n",
       "      <td>0.0</td>\n",
       "      <td>0.0</td>\n",
       "      <td>0.0</td>\n",
       "      <td>0.0</td>\n",
       "      <td>0.0</td>\n",
       "      <td>0.0</td>\n",
       "      <td>0.0</td>\n",
       "    </tr>\n",
       "  </tbody>\n",
       "</table>\n",
       "<p>21072 rows × 16254 columns</p>\n",
       "</div>"
      ],
      "text/plain": [
       "             00  000  000s  001   01  0111   02   03   04   05  ...  zero  \\\n",
       "0      0.000000  0.0   0.0  0.0  0.0   0.0  0.0  0.0  0.0  0.0  ...   0.0   \n",
       "1      0.000000  0.0   0.0  0.0  0.0   0.0  0.0  0.0  0.0  0.0  ...   0.0   \n",
       "2      0.000000  0.0   0.0  0.0  0.0   0.0  0.0  0.0  0.0  0.0  ...   0.0   \n",
       "3      0.000000  0.0   0.0  0.0  0.0   0.0  0.0  0.0  0.0  0.0  ...   0.0   \n",
       "4      0.000000  0.0   0.0  0.0  0.0   0.0  0.0  0.0  0.0  0.0  ...   0.0   \n",
       "...         ...  ...   ...  ...  ...   ...  ...  ...  ...  ...  ...   ...   \n",
       "21067  0.000000  0.0   0.0  0.0  0.0   0.0  0.0  0.0  0.0  0.0  ...   0.0   \n",
       "21068  0.000000  0.0   0.0  0.0  0.0   0.0  0.0  0.0  0.0  0.0  ...   0.0   \n",
       "21069  0.085458  0.0   0.0  0.0  0.0   0.0  0.0  0.0  0.0  0.0  ...   0.0   \n",
       "21070  0.203960  0.0   0.0  0.0  0.0   0.0  0.0  0.0  0.0  0.0  ...   0.0   \n",
       "21071  0.000000  0.0   0.0  0.0  0.0   0.0  0.0  0.0  0.0  0.0  ...   0.0   \n",
       "\n",
       "       zeroed  zeros  zilch  zip  zipcode  zombie  zone  zones  zoom  \n",
       "0         0.0    0.0    0.0  0.0      0.0     0.0   0.0    0.0   0.0  \n",
       "1         0.0    0.0    0.0  0.0      0.0     0.0   0.0    0.0   0.0  \n",
       "2         0.0    0.0    0.0  0.0      0.0     0.0   0.0    0.0   0.0  \n",
       "3         0.0    0.0    0.0  0.0      0.0     0.0   0.0    0.0   0.0  \n",
       "4         0.0    0.0    0.0  0.0      0.0     0.0   0.0    0.0   0.0  \n",
       "...       ...    ...    ...  ...      ...     ...   ...    ...   ...  \n",
       "21067     0.0    0.0    0.0  0.0      0.0     0.0   0.0    0.0   0.0  \n",
       "21068     0.0    0.0    0.0  0.0      0.0     0.0   0.0    0.0   0.0  \n",
       "21069     0.0    0.0    0.0  0.0      0.0     0.0   0.0    0.0   0.0  \n",
       "21070     0.0    0.0    0.0  0.0      0.0     0.0   0.0    0.0   0.0  \n",
       "21071     0.0    0.0    0.0  0.0      0.0     0.0   0.0    0.0   0.0  \n",
       "\n",
       "[21072 rows x 16254 columns]"
      ]
     },
     "execution_count": 60,
     "metadata": {},
     "output_type": "execute_result"
    }
   ],
   "source": [
    "\n",
    "#Write your code to get the Vector count\n",
    "\n",
    "\n",
    "#Write your code here to transform the word vector to tf-idf\n",
    "\n",
    "\n",
    "#Write your code here to initialise the TfidfVectorizer \n",
    "vectorizer = TfidfVectorizer(max_df=0.95,min_df=2)\n",
    "X = vectorizer.fit_transform(training_data['complaint_what_happened'])\n",
    "#Write your code here to create the Document Term Matrix by transforming the complaints column present in df_clean.\n",
    "features_df = pd.DataFrame(X.toarray(), columns = vectorizer.get_feature_names())\n",
    "features_df"
   ]
  },
  {
   "cell_type": "markdown",
   "metadata": {
    "id": "uMU3vj6w-wqL"
   },
   "source": [
    "We try atleast 3 models on the train & test data from these options:\n",
    "* Logistic regression\n",
    "* Decision Tree\n",
    "* Random Forest\n",
    "* Naive Bayes (optional)\n"
   ]
  },
  {
   "cell_type": "markdown",
   "metadata": {},
   "source": [
    "### Perform train-test split of dataframe before learning"
   ]
  },
  {
   "cell_type": "code",
   "execution_count": 61,
   "metadata": {
    "id": "udLHpPsZJrGI"
   },
   "outputs": [
    {
     "name": "stdout",
     "output_type": "stream",
     "text": [
      "X_train shape = (14750, 16254)\n",
      "X_test shape = (6322, 16254)\n",
      "y_train shape = (14750,)\n",
      "y_test shape = (6322,)\n"
     ]
    }
   ],
   "source": [
    "# Write your code here to build any 3 models and evaluate them using the required metrics\n",
    "\n",
    "X_train, X_test, y_train, y_test = train_test_split(features_df,training_data['Topic'],test_size=0.3)\n",
    "print(\"X_train shape =\", X_train.shape)\n",
    "print(\"X_test shape =\", X_test.shape)\n",
    "print(\"y_train shape =\", y_train.shape)\n",
    "print(\"y_test shape =\", y_test.shape)"
   ]
  },
  {
   "cell_type": "code",
   "execution_count": 62,
   "metadata": {},
   "outputs": [
    {
     "data": {
      "text/plain": [
       "3    3749\n",
       "1    3670\n",
       "5    2968\n",
       "2    2783\n",
       "4    1580\n",
       "Name: Topic, dtype: int64"
      ]
     },
     "execution_count": 62,
     "metadata": {},
     "output_type": "execute_result"
    }
   ],
   "source": [
    "pd.Series(y_train).value_counts()"
   ]
  },
  {
   "cell_type": "code",
   "execution_count": 63,
   "metadata": {},
   "outputs": [
    {
     "data": {
      "text/plain": [
       "1    1608\n",
       "3    1588\n",
       "5    1299\n",
       "2    1181\n",
       "4     646\n",
       "Name: Topic, dtype: int64"
      ]
     },
     "execution_count": 63,
     "metadata": {},
     "output_type": "execute_result"
    }
   ],
   "source": [
    "pd.Series(y_test).value_counts()"
   ]
  },
  {
   "cell_type": "markdown",
   "metadata": {},
   "source": [
    "### Apply Logistic Regression on the dataset, perform training and predictions"
   ]
  },
  {
   "cell_type": "code",
   "execution_count": 64,
   "metadata": {
    "id": "N2OznsObJrGP"
   },
   "outputs": [
    {
     "name": "stdout",
     "output_type": "stream",
     "text": [
      "logistic_regression_train_accuracy= 0.9581016949152542\n",
      "logistic_regression_test_accuracy= 0.9123695033217336\n",
      "\n",
      "logistic_regression_f1_score = 0.9119843833980846\n"
     ]
    },
    {
     "data": {
      "text/html": [
       "<div>\n",
       "<style scoped>\n",
       "    .dataframe tbody tr th:only-of-type {\n",
       "        vertical-align: middle;\n",
       "    }\n",
       "\n",
       "    .dataframe tbody tr th {\n",
       "        vertical-align: top;\n",
       "    }\n",
       "\n",
       "    .dataframe thead th {\n",
       "        text-align: right;\n",
       "    }\n",
       "</style>\n",
       "<table border=\"1\" class=\"dataframe\">\n",
       "  <thead>\n",
       "    <tr style=\"text-align: right;\">\n",
       "      <th></th>\n",
       "      <th>0</th>\n",
       "      <th>1</th>\n",
       "      <th>2</th>\n",
       "      <th>3</th>\n",
       "      <th>4</th>\n",
       "    </tr>\n",
       "  </thead>\n",
       "  <tbody>\n",
       "    <tr>\n",
       "      <th>0</th>\n",
       "      <td>1501</td>\n",
       "      <td>18</td>\n",
       "      <td>26</td>\n",
       "      <td>13</td>\n",
       "      <td>50</td>\n",
       "    </tr>\n",
       "    <tr>\n",
       "      <th>1</th>\n",
       "      <td>29</td>\n",
       "      <td>1056</td>\n",
       "      <td>18</td>\n",
       "      <td>13</td>\n",
       "      <td>65</td>\n",
       "    </tr>\n",
       "    <tr>\n",
       "      <th>2</th>\n",
       "      <td>19</td>\n",
       "      <td>17</td>\n",
       "      <td>1521</td>\n",
       "      <td>10</td>\n",
       "      <td>21</td>\n",
       "    </tr>\n",
       "    <tr>\n",
       "      <th>3</th>\n",
       "      <td>18</td>\n",
       "      <td>39</td>\n",
       "      <td>38</td>\n",
       "      <td>528</td>\n",
       "      <td>23</td>\n",
       "    </tr>\n",
       "    <tr>\n",
       "      <th>4</th>\n",
       "      <td>59</td>\n",
       "      <td>32</td>\n",
       "      <td>38</td>\n",
       "      <td>8</td>\n",
       "      <td>1162</td>\n",
       "    </tr>\n",
       "  </tbody>\n",
       "</table>\n",
       "</div>"
      ],
      "text/plain": [
       "      0     1     2    3     4\n",
       "0  1501    18    26   13    50\n",
       "1    29  1056    18   13    65\n",
       "2    19    17  1521   10    21\n",
       "3    18    39    38  528    23\n",
       "4    59    32    38    8  1162"
      ]
     },
     "execution_count": 64,
     "metadata": {},
     "output_type": "execute_result"
    }
   ],
   "source": [
    "logisticRegression = LogisticRegression(random_state=100)\n",
    "logisticRegression.fit(X_train,y_train)\n",
    "\n",
    "y_train_pred = logisticRegression.predict(X_train)\n",
    "logistic_regression_train_accuracy = accuracy_score(y_true=y_train, y_pred=y_train_pred)\n",
    "print(\"logistic_regression_train_accuracy=\",logistic_regression_train_accuracy)\n",
    "\n",
    "y_test_pred = logisticRegression.predict(X_test)\n",
    "logistic_regression_test_accuracy = accuracy_score(y_true=y_test, y_pred=y_test_pred)\n",
    "print(\"logistic_regression_test_accuracy=\",logistic_regression_test_accuracy)\n",
    "print()\n",
    "print(\"logistic_regression_f1_score =\", f1_score(y_test, y_test_pred,average='weighted'))\n",
    "pd.DataFrame(confusion_matrix(y_test,y_test_pred))"
   ]
  },
  {
   "cell_type": "markdown",
   "metadata": {},
   "source": [
    "### Apply Decision Tree Classifier on the dataset, perform training and predictions"
   ]
  },
  {
   "cell_type": "code",
   "execution_count": 65,
   "metadata": {},
   "outputs": [
    {
     "name": "stdout",
     "output_type": "stream",
     "text": [
      "decisionTree_train_accuracy =  1.0\n",
      "decisionTree_test_accuracy= 0.7619424232837709\n",
      "\n",
      "decisionTree_f1_score = 0.7617532590702345\n"
     ]
    },
    {
     "data": {
      "text/html": [
       "<div>\n",
       "<style scoped>\n",
       "    .dataframe tbody tr th:only-of-type {\n",
       "        vertical-align: middle;\n",
       "    }\n",
       "\n",
       "    .dataframe tbody tr th {\n",
       "        vertical-align: top;\n",
       "    }\n",
       "\n",
       "    .dataframe thead th {\n",
       "        text-align: right;\n",
       "    }\n",
       "</style>\n",
       "<table border=\"1\" class=\"dataframe\">\n",
       "  <thead>\n",
       "    <tr style=\"text-align: right;\">\n",
       "      <th></th>\n",
       "      <th>0</th>\n",
       "      <th>1</th>\n",
       "      <th>2</th>\n",
       "      <th>3</th>\n",
       "      <th>4</th>\n",
       "    </tr>\n",
       "  </thead>\n",
       "  <tbody>\n",
       "    <tr>\n",
       "      <th>0</th>\n",
       "      <td>1222</td>\n",
       "      <td>47</td>\n",
       "      <td>116</td>\n",
       "      <td>43</td>\n",
       "      <td>180</td>\n",
       "    </tr>\n",
       "    <tr>\n",
       "      <th>1</th>\n",
       "      <td>49</td>\n",
       "      <td>939</td>\n",
       "      <td>41</td>\n",
       "      <td>51</td>\n",
       "      <td>101</td>\n",
       "    </tr>\n",
       "    <tr>\n",
       "      <th>2</th>\n",
       "      <td>90</td>\n",
       "      <td>50</td>\n",
       "      <td>1308</td>\n",
       "      <td>57</td>\n",
       "      <td>83</td>\n",
       "    </tr>\n",
       "    <tr>\n",
       "      <th>3</th>\n",
       "      <td>39</td>\n",
       "      <td>62</td>\n",
       "      <td>63</td>\n",
       "      <td>448</td>\n",
       "      <td>34</td>\n",
       "    </tr>\n",
       "    <tr>\n",
       "      <th>4</th>\n",
       "      <td>132</td>\n",
       "      <td>123</td>\n",
       "      <td>105</td>\n",
       "      <td>39</td>\n",
       "      <td>900</td>\n",
       "    </tr>\n",
       "  </tbody>\n",
       "</table>\n",
       "</div>"
      ],
      "text/plain": [
       "      0    1     2    3    4\n",
       "0  1222   47   116   43  180\n",
       "1    49  939    41   51  101\n",
       "2    90   50  1308   57   83\n",
       "3    39   62    63  448   34\n",
       "4   132  123   105   39  900"
      ]
     },
     "execution_count": 65,
     "metadata": {},
     "output_type": "execute_result"
    }
   ],
   "source": [
    "decisionTreeClassifier = DecisionTreeClassifier(random_state=100)\n",
    "decisionTreeClassifier.fit(X_train,y_train)\n",
    "\n",
    "y_train_pred = decisionTreeClassifier.predict(X_train)\n",
    "decisionTree_train_accuracy = accuracy_score(y_true=y_train, y_pred=y_train_pred)\n",
    "print(\"decisionTree_train_accuracy = \",decisionTree_train_accuracy)\n",
    "\n",
    "y_test_pred = decisionTreeClassifier.predict(X_test)\n",
    "decisionTree_test_accuracy = accuracy_score(y_true=y_test, y_pred=y_test_pred)\n",
    "print(\"decisionTree_test_accuracy=\", decisionTree_test_accuracy)\n",
    "\n",
    "print()\n",
    "print(\"decisionTree_f1_score =\", f1_score(y_test, y_test_pred,average='weighted'))\n",
    "pd.DataFrame(confusion_matrix(y_test,y_test_pred))"
   ]
  },
  {
   "cell_type": "markdown",
   "metadata": {},
   "source": [
    "### Apply Random Forest Classifier on the dataset, perform training and predictions"
   ]
  },
  {
   "cell_type": "code",
   "execution_count": 66,
   "metadata": {},
   "outputs": [
    {
     "name": "stdout",
     "output_type": "stream",
     "text": [
      "randomForest_train_accuracy= 1.0\n",
      "randomForest_test_accuracy= 0.8264789623536856\n",
      "\n",
      "randomForest_f1_score = 0.8234402487101125\n"
     ]
    },
    {
     "data": {
      "text/html": [
       "<div>\n",
       "<style scoped>\n",
       "    .dataframe tbody tr th:only-of-type {\n",
       "        vertical-align: middle;\n",
       "    }\n",
       "\n",
       "    .dataframe tbody tr th {\n",
       "        vertical-align: top;\n",
       "    }\n",
       "\n",
       "    .dataframe thead th {\n",
       "        text-align: right;\n",
       "    }\n",
       "</style>\n",
       "<table border=\"1\" class=\"dataframe\">\n",
       "  <thead>\n",
       "    <tr style=\"text-align: right;\">\n",
       "      <th></th>\n",
       "      <th>0</th>\n",
       "      <th>1</th>\n",
       "      <th>2</th>\n",
       "      <th>3</th>\n",
       "      <th>4</th>\n",
       "    </tr>\n",
       "  </thead>\n",
       "  <tbody>\n",
       "    <tr>\n",
       "      <th>0</th>\n",
       "      <td>1486</td>\n",
       "      <td>33</td>\n",
       "      <td>53</td>\n",
       "      <td>10</td>\n",
       "      <td>26</td>\n",
       "    </tr>\n",
       "    <tr>\n",
       "      <th>1</th>\n",
       "      <td>88</td>\n",
       "      <td>914</td>\n",
       "      <td>48</td>\n",
       "      <td>17</td>\n",
       "      <td>114</td>\n",
       "    </tr>\n",
       "    <tr>\n",
       "      <th>2</th>\n",
       "      <td>59</td>\n",
       "      <td>37</td>\n",
       "      <td>1470</td>\n",
       "      <td>5</td>\n",
       "      <td>17</td>\n",
       "    </tr>\n",
       "    <tr>\n",
       "      <th>3</th>\n",
       "      <td>37</td>\n",
       "      <td>54</td>\n",
       "      <td>96</td>\n",
       "      <td>433</td>\n",
       "      <td>26</td>\n",
       "    </tr>\n",
       "    <tr>\n",
       "      <th>4</th>\n",
       "      <td>211</td>\n",
       "      <td>79</td>\n",
       "      <td>76</td>\n",
       "      <td>11</td>\n",
       "      <td>922</td>\n",
       "    </tr>\n",
       "  </tbody>\n",
       "</table>\n",
       "</div>"
      ],
      "text/plain": [
       "      0    1     2    3    4\n",
       "0  1486   33    53   10   26\n",
       "1    88  914    48   17  114\n",
       "2    59   37  1470    5   17\n",
       "3    37   54    96  433   26\n",
       "4   211   79    76   11  922"
      ]
     },
     "execution_count": 66,
     "metadata": {},
     "output_type": "execute_result"
    }
   ],
   "source": [
    "randomForestClassifier = RandomForestClassifier(random_state=100)\n",
    "randomForestClassifier.fit(X_train,y_train)\n",
    "\n",
    "y_train_pred = randomForestClassifier.predict(X_train)\n",
    "randomForest_train_accuracy = accuracy_score(y_true=y_train, y_pred=y_train_pred)\n",
    "print(\"randomForest_train_accuracy=\",randomForest_train_accuracy)\n",
    "\n",
    "y_test_pred = randomForestClassifier.predict(X_test)\n",
    "randomForest_test_accuracy = accuracy_score(y_true=y_test, y_pred=y_test_pred)\n",
    "print(\"randomForest_test_accuracy=\",randomForest_test_accuracy)\n",
    "\n",
    "print()\n",
    "print(\"randomForest_f1_score =\", f1_score(y_test, y_test_pred,average='weighted'))\n",
    "pd.DataFrame(confusion_matrix(y_test,y_test_pred))"
   ]
  },
  {
   "cell_type": "markdown",
   "metadata": {},
   "source": [
    "### Apply Naive Bayes on the dataset, perform training and predictions"
   ]
  },
  {
   "cell_type": "code",
   "execution_count": 67,
   "metadata": {},
   "outputs": [
    {
     "name": "stdout",
     "output_type": "stream",
     "text": [
      "bernoulliNB_train_accuracy= 0.6582372881355932\n",
      "bernoulliNB_test_accuracy= 0.6130971211641886\n",
      "\n",
      "bernoulliNB_f1_score = 0.6326244674985027\n"
     ]
    },
    {
     "data": {
      "text/html": [
       "<div>\n",
       "<style scoped>\n",
       "    .dataframe tbody tr th:only-of-type {\n",
       "        vertical-align: middle;\n",
       "    }\n",
       "\n",
       "    .dataframe tbody tr th {\n",
       "        vertical-align: top;\n",
       "    }\n",
       "\n",
       "    .dataframe thead th {\n",
       "        text-align: right;\n",
       "    }\n",
       "</style>\n",
       "<table border=\"1\" class=\"dataframe\">\n",
       "  <thead>\n",
       "    <tr style=\"text-align: right;\">\n",
       "      <th></th>\n",
       "      <th>0</th>\n",
       "      <th>1</th>\n",
       "      <th>2</th>\n",
       "      <th>3</th>\n",
       "      <th>4</th>\n",
       "    </tr>\n",
       "  </thead>\n",
       "  <tbody>\n",
       "    <tr>\n",
       "      <th>0</th>\n",
       "      <td>1058</td>\n",
       "      <td>74</td>\n",
       "      <td>41</td>\n",
       "      <td>323</td>\n",
       "      <td>112</td>\n",
       "    </tr>\n",
       "    <tr>\n",
       "      <th>1</th>\n",
       "      <td>79</td>\n",
       "      <td>617</td>\n",
       "      <td>44</td>\n",
       "      <td>276</td>\n",
       "      <td>165</td>\n",
       "    </tr>\n",
       "    <tr>\n",
       "      <th>2</th>\n",
       "      <td>67</td>\n",
       "      <td>131</td>\n",
       "      <td>995</td>\n",
       "      <td>347</td>\n",
       "      <td>48</td>\n",
       "    </tr>\n",
       "    <tr>\n",
       "      <th>3</th>\n",
       "      <td>14</td>\n",
       "      <td>39</td>\n",
       "      <td>56</td>\n",
       "      <td>511</td>\n",
       "      <td>26</td>\n",
       "    </tr>\n",
       "    <tr>\n",
       "      <th>4</th>\n",
       "      <td>147</td>\n",
       "      <td>166</td>\n",
       "      <td>36</td>\n",
       "      <td>255</td>\n",
       "      <td>695</td>\n",
       "    </tr>\n",
       "  </tbody>\n",
       "</table>\n",
       "</div>"
      ],
      "text/plain": [
       "      0    1    2    3    4\n",
       "0  1058   74   41  323  112\n",
       "1    79  617   44  276  165\n",
       "2    67  131  995  347   48\n",
       "3    14   39   56  511   26\n",
       "4   147  166   36  255  695"
      ]
     },
     "execution_count": 67,
     "metadata": {},
     "output_type": "execute_result"
    }
   ],
   "source": [
    "bernoulliNB = BernoulliNB()\n",
    "bernoulliNB.fit(X_train,y_train)\n",
    "\n",
    "y_train_pred = bernoulliNB.predict(X_train)\n",
    "bernoulliNB_train_accuracy = accuracy_score(y_true=y_train, y_pred=y_train_pred)\n",
    "print(\"bernoulliNB_train_accuracy=\",bernoulliNB_train_accuracy)\n",
    "\n",
    "y_test_pred = bernoulliNB.predict(X_test)\n",
    "bernoulliNB_test_accuracy = accuracy_score(y_true=y_test, y_pred=y_test_pred)\n",
    "print(\"bernoulliNB_test_accuracy=\",bernoulliNB_test_accuracy)\n",
    "\n",
    "print()\n",
    "print(\"bernoulliNB_f1_score =\", f1_score(y_test, y_test_pred,average='weighted'))\n",
    "pd.DataFrame(confusion_matrix(y_test,y_test_pred))"
   ]
  },
  {
   "cell_type": "code",
   "execution_count": 68,
   "metadata": {},
   "outputs": [],
   "source": [
    "### Apply Gaussian Bayes on the dataset, perform training and predictions"
   ]
  },
  {
   "cell_type": "code",
   "execution_count": 69,
   "metadata": {},
   "outputs": [
    {
     "name": "stdout",
     "output_type": "stream",
     "text": [
      "gaussianNB_train_accuracy= 0.7168135593220339\n",
      "gaussianNB_test_accuracy= 0.37630496678266373\n",
      "\n",
      "bgaussianNB_f1_score = 0.3766876884597988\n"
     ]
    },
    {
     "data": {
      "text/html": [
       "<div>\n",
       "<style scoped>\n",
       "    .dataframe tbody tr th:only-of-type {\n",
       "        vertical-align: middle;\n",
       "    }\n",
       "\n",
       "    .dataframe tbody tr th {\n",
       "        vertical-align: top;\n",
       "    }\n",
       "\n",
       "    .dataframe thead th {\n",
       "        text-align: right;\n",
       "    }\n",
       "</style>\n",
       "<table border=\"1\" class=\"dataframe\">\n",
       "  <thead>\n",
       "    <tr style=\"text-align: right;\">\n",
       "      <th></th>\n",
       "      <th>0</th>\n",
       "      <th>1</th>\n",
       "      <th>2</th>\n",
       "      <th>3</th>\n",
       "      <th>4</th>\n",
       "    </tr>\n",
       "  </thead>\n",
       "  <tbody>\n",
       "    <tr>\n",
       "      <th>0</th>\n",
       "      <td>458</td>\n",
       "      <td>405</td>\n",
       "      <td>248</td>\n",
       "      <td>285</td>\n",
       "      <td>212</td>\n",
       "    </tr>\n",
       "    <tr>\n",
       "      <th>1</th>\n",
       "      <td>181</td>\n",
       "      <td>442</td>\n",
       "      <td>165</td>\n",
       "      <td>210</td>\n",
       "      <td>183</td>\n",
       "    </tr>\n",
       "    <tr>\n",
       "      <th>2</th>\n",
       "      <td>207</td>\n",
       "      <td>260</td>\n",
       "      <td>720</td>\n",
       "      <td>221</td>\n",
       "      <td>180</td>\n",
       "    </tr>\n",
       "    <tr>\n",
       "      <th>3</th>\n",
       "      <td>66</td>\n",
       "      <td>102</td>\n",
       "      <td>76</td>\n",
       "      <td>356</td>\n",
       "      <td>46</td>\n",
       "    </tr>\n",
       "    <tr>\n",
       "      <th>4</th>\n",
       "      <td>225</td>\n",
       "      <td>317</td>\n",
       "      <td>202</td>\n",
       "      <td>152</td>\n",
       "      <td>403</td>\n",
       "    </tr>\n",
       "  </tbody>\n",
       "</table>\n",
       "</div>"
      ],
      "text/plain": [
       "     0    1    2    3    4\n",
       "0  458  405  248  285  212\n",
       "1  181  442  165  210  183\n",
       "2  207  260  720  221  180\n",
       "3   66  102   76  356   46\n",
       "4  225  317  202  152  403"
      ]
     },
     "execution_count": 69,
     "metadata": {},
     "output_type": "execute_result"
    }
   ],
   "source": [
    "gaussianNB = GaussianNB()\n",
    "gaussianNB.fit(X_train,y_train)\n",
    "\n",
    "y_train_pred = gaussianNB.predict(X_train)\n",
    "bernoulliNB_train_accuracy = accuracy_score(y_true=y_train, y_pred=y_train_pred)\n",
    "print(\"gaussianNB_train_accuracy=\",bernoulliNB_train_accuracy)\n",
    "\n",
    "y_test_pred = gaussianNB.predict(X_test)\n",
    "bernoulliNB_test_accuracy = accuracy_score(y_true=y_test, y_pred=y_test_pred)\n",
    "print(\"gaussianNB_test_accuracy=\",bernoulliNB_test_accuracy)\n",
    "\n",
    "print()\n",
    "print(\"bgaussianNB_f1_score =\", f1_score(y_test, y_test_pred,average='weighted'))\n",
    "pd.DataFrame(confusion_matrix(y_test,y_test_pred))"
   ]
  },
  {
   "cell_type": "markdown",
   "metadata": {},
   "source": [
    "### Grid Search hyperparameter tuning for Random Forest Classifier"
   ]
  },
  {
   "cell_type": "code",
   "execution_count": 70,
   "metadata": {},
   "outputs": [
    {
     "name": "stdout",
     "output_type": "stream",
     "text": [
      "Fitting 3 folds for each of 16 candidates, totalling 48 fits\n"
     ]
    },
    {
     "data": {
      "text/plain": [
       "GridSearchCV(cv=3, estimator=RandomForestClassifier(random_state=100),\n",
       "             n_jobs=-1,\n",
       "             param_grid={'max_depth': [200, 500], 'max_leaf_nodes': [200, 500],\n",
       "                         'min_samples_leaf': [50, 100],\n",
       "                         'min_samples_split': [50, 100]},\n",
       "             scoring='accuracy', verbose=10)"
      ]
     },
     "execution_count": 70,
     "metadata": {},
     "output_type": "execute_result"
    }
   ],
   "source": [
    "randomForestClassifier = RandomForestClassifier(random_state=100)\n",
    "\n",
    "grid_params = {\n",
    "    'max_depth':[200,500] ,\n",
    "    'min_samples_split':[50,100],\n",
    "    'min_samples_leaf':[50,100],\n",
    "    'max_leaf_nodes':[200, 500]\n",
    "}\n",
    "\n",
    "grid = GridSearchCV(\n",
    "    estimator=randomForestClassifier,\n",
    "    param_grid=grid_params,\n",
    "    scoring=\"accuracy\",\n",
    "    cv=3,\n",
    "    n_jobs=-1,\n",
    "    verbose=10\n",
    ")\n",
    "\n",
    "grid.fit(X_train, y_train)\n"
   ]
  },
  {
   "cell_type": "code",
   "execution_count": 71,
   "metadata": {},
   "outputs": [
    {
     "name": "stdout",
     "output_type": "stream",
     "text": [
      "RandomForestClassifier(max_depth=200, max_leaf_nodes=200, min_samples_leaf=50,\n",
      "                       min_samples_split=50, random_state=100)\n",
      "0.759458089173141\n"
     ]
    }
   ],
   "source": [
    "print(grid.best_estimator_)\n",
    "print(grid.best_score_)"
   ]
  },
  {
   "cell_type": "code",
   "execution_count": 72,
   "metadata": {},
   "outputs": [
    {
     "name": "stdout",
     "output_type": "stream",
     "text": [
      "randomForest_train_accuracy= 0.7964067796610169\n",
      "randomForest_test_accuracy= 0.7763366023410313\n",
      "\n",
      "randomForest_f1_score = 0.7682459606727654\n"
     ]
    },
    {
     "data": {
      "text/html": [
       "<div>\n",
       "<style scoped>\n",
       "    .dataframe tbody tr th:only-of-type {\n",
       "        vertical-align: middle;\n",
       "    }\n",
       "\n",
       "    .dataframe tbody tr th {\n",
       "        vertical-align: top;\n",
       "    }\n",
       "\n",
       "    .dataframe thead th {\n",
       "        text-align: right;\n",
       "    }\n",
       "</style>\n",
       "<table border=\"1\" class=\"dataframe\">\n",
       "  <thead>\n",
       "    <tr style=\"text-align: right;\">\n",
       "      <th></th>\n",
       "      <th>0</th>\n",
       "      <th>1</th>\n",
       "      <th>2</th>\n",
       "      <th>3</th>\n",
       "      <th>4</th>\n",
       "    </tr>\n",
       "  </thead>\n",
       "  <tbody>\n",
       "    <tr>\n",
       "      <th>0</th>\n",
       "      <td>1498</td>\n",
       "      <td>22</td>\n",
       "      <td>72</td>\n",
       "      <td>7</td>\n",
       "      <td>9</td>\n",
       "    </tr>\n",
       "    <tr>\n",
       "      <th>1</th>\n",
       "      <td>162</td>\n",
       "      <td>790</td>\n",
       "      <td>102</td>\n",
       "      <td>9</td>\n",
       "      <td>118</td>\n",
       "    </tr>\n",
       "    <tr>\n",
       "      <th>2</th>\n",
       "      <td>75</td>\n",
       "      <td>18</td>\n",
       "      <td>1486</td>\n",
       "      <td>2</td>\n",
       "      <td>7</td>\n",
       "    </tr>\n",
       "    <tr>\n",
       "      <th>3</th>\n",
       "      <td>64</td>\n",
       "      <td>67</td>\n",
       "      <td>158</td>\n",
       "      <td>335</td>\n",
       "      <td>22</td>\n",
       "    </tr>\n",
       "    <tr>\n",
       "      <th>4</th>\n",
       "      <td>293</td>\n",
       "      <td>70</td>\n",
       "      <td>134</td>\n",
       "      <td>3</td>\n",
       "      <td>799</td>\n",
       "    </tr>\n",
       "  </tbody>\n",
       "</table>\n",
       "</div>"
      ],
      "text/plain": [
       "      0    1     2    3    4\n",
       "0  1498   22    72    7    9\n",
       "1   162  790   102    9  118\n",
       "2    75   18  1486    2    7\n",
       "3    64   67   158  335   22\n",
       "4   293   70   134    3  799"
      ]
     },
     "execution_count": 72,
     "metadata": {},
     "output_type": "execute_result"
    }
   ],
   "source": [
    "randomForestClassifier = RandomForestClassifier(max_depth=200, max_leaf_nodes=200, min_samples_leaf=50,\n",
    "                       min_samples_split=50, random_state=100)\n",
    "randomForestClassifier.fit(X_train,y_train)\n",
    "\n",
    "y_train_pred = randomForestClassifier.predict(X_train)\n",
    "randomForest_train_accuracy = accuracy_score(y_true=y_train, y_pred=y_train_pred)\n",
    "print(\"randomForest_train_accuracy=\",randomForest_train_accuracy)\n",
    "\n",
    "y_test_pred = randomForestClassifier.predict(X_test)\n",
    "randomForest_test_accuracy = accuracy_score(y_true=y_test, y_pred=y_test_pred)\n",
    "print(\"randomForest_test_accuracy=\",randomForest_test_accuracy)\n",
    "\n",
    "print()\n",
    "print(\"randomForest_f1_score =\", f1_score(y_test, y_test_pred,average='weighted'))\n",
    "pd.DataFrame(confusion_matrix(y_test,y_test_pred))"
   ]
  },
  {
   "cell_type": "markdown",
   "metadata": {},
   "source": [
    "## Model inference"
   ]
  },
  {
   "cell_type": "markdown",
   "metadata": {},
   "source": [
    "<ol>\n",
    "    <li>We have applied four supervised learning algorithms on the complaint dataset generated using NMF : Logistic regression, Decision Tree Classifier, Random Forest Classifier and Naive Bayes Classifier.</li>\n",
    "    <li>It is observed that Logistic Regression provides the highest accuracy on the validation dataset and the highest F1 score as well(exact values mentioned above).</li>\n",
    "    <li>Thus, we will prefer Logistic Regression model for predictions of test complaints.</li>\n",
    "    \n",
    "</ol>"
   ]
  },
  {
   "cell_type": "code",
   "execution_count": null,
   "metadata": {},
   "outputs": [],
   "source": []
  }
 ],
 "metadata": {
  "colab": {
   "collapsed_sections": [
    "T9jD_6SeJrF3",
    "5DfCSbbmJrF4",
    "yYzD85nTJrGA",
    "piyLxzj6v07j",
    "280Vbqk-7a8M"
   ],
   "name": "Automatic_Ticket_Classification_Assignment.ipynb",
   "provenance": []
  },
  "kernelspec": {
   "display_name": "Python 3",
   "language": "python",
   "name": "python3"
  },
  "language_info": {
   "codemirror_mode": {
    "name": "ipython",
    "version": 3
   },
   "file_extension": ".py",
   "mimetype": "text/x-python",
   "name": "python",
   "nbconvert_exporter": "python",
   "pygments_lexer": "ipython3",
   "version": "3.6.10"
  }
 },
 "nbformat": 4,
 "nbformat_minor": 1
}
